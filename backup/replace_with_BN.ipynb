{
 "cells": [
  {
   "cell_type": "code",
   "execution_count": 1,
   "id": "initial_id",
   "metadata": {
    "collapsed": true,
    "ExecuteTime": {
     "end_time": "2024-09-19T21:34:51.683014Z",
     "start_time": "2024-09-19T21:34:40.116644Z"
    }
   },
   "outputs": [
    {
     "name": "stdout",
     "output_type": "stream",
     "text": [
      "\u001B[33mDEPRECATION: Configuring installation scheme with distutils config files is deprecated and will no longer work in the near future. If you are using a Homebrew or Linuxbrew Python, please see discussion at https://github.com/Homebrew/homebrew-core/issues/76621\u001B[0m\u001B[33m\r\n",
      "\u001B[0mCollecting google.cloud.translate\r\n",
      "  Downloading google_cloud_translate-3.16.0-py2.py3-none-any.whl.metadata (5.3 kB)\r\n",
      "Collecting google-api-core!=2.0.*,!=2.1.*,!=2.10.*,!=2.2.*,!=2.3.*,!=2.4.*,!=2.5.*,!=2.6.*,!=2.7.*,!=2.8.*,!=2.9.*,<3.0.0dev,>=1.34.1 (from google-api-core[grpc]!=2.0.*,!=2.1.*,!=2.10.*,!=2.2.*,!=2.3.*,!=2.4.*,!=2.5.*,!=2.6.*,!=2.7.*,!=2.8.*,!=2.9.*,<3.0.0dev,>=1.34.1->google.cloud.translate)\r\n",
      "  Downloading google_api_core-2.20.0-py3-none-any.whl.metadata (2.7 kB)\r\n",
      "Collecting google-auth!=2.24.0,!=2.25.0,<3.0.0dev,>=2.14.1 (from google.cloud.translate)\r\n",
      "  Downloading google_auth-2.35.0-py2.py3-none-any.whl.metadata (4.7 kB)\r\n",
      "Collecting google-cloud-core<3.0.0dev,>=1.4.4 (from google.cloud.translate)\r\n",
      "  Using cached google_cloud_core-2.4.1-py2.py3-none-any.whl.metadata (2.7 kB)\r\n",
      "Collecting proto-plus<2.0.0dev,>=1.22.3 (from google.cloud.translate)\r\n",
      "  Downloading proto_plus-1.24.0-py3-none-any.whl.metadata (2.2 kB)\r\n",
      "Collecting protobuf!=4.21.0,!=4.21.1,!=4.21.2,!=4.21.3,!=4.21.4,!=4.21.5,<6.0.0dev,>=3.20.2 (from google.cloud.translate)\r\n",
      "  Downloading protobuf-5.28.2-cp38-abi3-macosx_10_9_universal2.whl.metadata (592 bytes)\r\n",
      "Collecting grpc-google-iam-v1<1.0.0dev,>=0.12.4 (from google.cloud.translate)\r\n",
      "  Downloading grpc_google_iam_v1-0.13.1-py2.py3-none-any.whl.metadata (3.3 kB)\r\n",
      "Collecting googleapis-common-protos<2.0.dev0,>=1.56.2 (from google-api-core!=2.0.*,!=2.1.*,!=2.10.*,!=2.2.*,!=2.3.*,!=2.4.*,!=2.5.*,!=2.6.*,!=2.7.*,!=2.8.*,!=2.9.*,<3.0.0dev,>=1.34.1->google-api-core[grpc]!=2.0.*,!=2.1.*,!=2.10.*,!=2.2.*,!=2.3.*,!=2.4.*,!=2.5.*,!=2.6.*,!=2.7.*,!=2.8.*,!=2.9.*,<3.0.0dev,>=1.34.1->google.cloud.translate)\r\n",
      "  Downloading googleapis_common_protos-1.65.0-py2.py3-none-any.whl.metadata (1.5 kB)\r\n",
      "Requirement already satisfied: requests<3.0.0.dev0,>=2.18.0 in /usr/local/lib/python3.9/site-packages (from google-api-core!=2.0.*,!=2.1.*,!=2.10.*,!=2.2.*,!=2.3.*,!=2.4.*,!=2.5.*,!=2.6.*,!=2.7.*,!=2.8.*,!=2.9.*,<3.0.0dev,>=1.34.1->google-api-core[grpc]!=2.0.*,!=2.1.*,!=2.10.*,!=2.2.*,!=2.3.*,!=2.4.*,!=2.5.*,!=2.6.*,!=2.7.*,!=2.8.*,!=2.9.*,<3.0.0dev,>=1.34.1->google.cloud.translate) (2.32.3)\r\n",
      "Collecting grpcio<2.0dev,>=1.33.2 (from google-api-core[grpc]!=2.0.*,!=2.1.*,!=2.10.*,!=2.2.*,!=2.3.*,!=2.4.*,!=2.5.*,!=2.6.*,!=2.7.*,!=2.8.*,!=2.9.*,<3.0.0dev,>=1.34.1->google.cloud.translate)\r\n",
      "  Downloading grpcio-1.66.1-cp39-cp39-macosx_10_9_universal2.whl.metadata (3.9 kB)\r\n",
      "Collecting grpcio-status<2.0.dev0,>=1.33.2 (from google-api-core[grpc]!=2.0.*,!=2.1.*,!=2.10.*,!=2.2.*,!=2.3.*,!=2.4.*,!=2.5.*,!=2.6.*,!=2.7.*,!=2.8.*,!=2.9.*,<3.0.0dev,>=1.34.1->google.cloud.translate)\r\n",
      "  Downloading grpcio_status-1.66.1-py3-none-any.whl.metadata (1.1 kB)\r\n",
      "Collecting cachetools<6.0,>=2.0.0 (from google-auth!=2.24.0,!=2.25.0,<3.0.0dev,>=2.14.1->google.cloud.translate)\r\n",
      "  Downloading cachetools-5.5.0-py3-none-any.whl.metadata (5.3 kB)\r\n",
      "Collecting pyasn1-modules>=0.2.1 (from google-auth!=2.24.0,!=2.25.0,<3.0.0dev,>=2.14.1->google.cloud.translate)\r\n",
      "  Downloading pyasn1_modules-0.4.1-py3-none-any.whl.metadata (3.5 kB)\r\n",
      "Collecting rsa<5,>=3.1.4 (from google-auth!=2.24.0,!=2.25.0,<3.0.0dev,>=2.14.1->google.cloud.translate)\r\n",
      "  Using cached rsa-4.9-py3-none-any.whl.metadata (4.2 kB)\r\n",
      "Collecting pyasn1<0.7.0,>=0.4.6 (from pyasn1-modules>=0.2.1->google-auth!=2.24.0,!=2.25.0,<3.0.0dev,>=2.14.1->google.cloud.translate)\r\n",
      "  Downloading pyasn1-0.6.1-py3-none-any.whl.metadata (8.4 kB)\r\n",
      "Requirement already satisfied: charset-normalizer<4,>=2 in /usr/local/lib/python3.9/site-packages (from requests<3.0.0.dev0,>=2.18.0->google-api-core!=2.0.*,!=2.1.*,!=2.10.*,!=2.2.*,!=2.3.*,!=2.4.*,!=2.5.*,!=2.6.*,!=2.7.*,!=2.8.*,!=2.9.*,<3.0.0dev,>=1.34.1->google-api-core[grpc]!=2.0.*,!=2.1.*,!=2.10.*,!=2.2.*,!=2.3.*,!=2.4.*,!=2.5.*,!=2.6.*,!=2.7.*,!=2.8.*,!=2.9.*,<3.0.0dev,>=1.34.1->google.cloud.translate) (3.3.2)\r\n",
      "Requirement already satisfied: idna<4,>=2.5 in /usr/local/lib/python3.9/site-packages (from requests<3.0.0.dev0,>=2.18.0->google-api-core!=2.0.*,!=2.1.*,!=2.10.*,!=2.2.*,!=2.3.*,!=2.4.*,!=2.5.*,!=2.6.*,!=2.7.*,!=2.8.*,!=2.9.*,<3.0.0dev,>=1.34.1->google-api-core[grpc]!=2.0.*,!=2.1.*,!=2.10.*,!=2.2.*,!=2.3.*,!=2.4.*,!=2.5.*,!=2.6.*,!=2.7.*,!=2.8.*,!=2.9.*,<3.0.0dev,>=1.34.1->google.cloud.translate) (3.7)\r\n",
      "Requirement already satisfied: urllib3<3,>=1.21.1 in /usr/local/lib/python3.9/site-packages (from requests<3.0.0.dev0,>=2.18.0->google-api-core!=2.0.*,!=2.1.*,!=2.10.*,!=2.2.*,!=2.3.*,!=2.4.*,!=2.5.*,!=2.6.*,!=2.7.*,!=2.8.*,!=2.9.*,<3.0.0dev,>=1.34.1->google-api-core[grpc]!=2.0.*,!=2.1.*,!=2.10.*,!=2.2.*,!=2.3.*,!=2.4.*,!=2.5.*,!=2.6.*,!=2.7.*,!=2.8.*,!=2.9.*,<3.0.0dev,>=1.34.1->google.cloud.translate) (2.2.2)\r\n",
      "Requirement already satisfied: certifi>=2017.4.17 in /usr/local/lib/python3.9/site-packages (from requests<3.0.0.dev0,>=2.18.0->google-api-core!=2.0.*,!=2.1.*,!=2.10.*,!=2.2.*,!=2.3.*,!=2.4.*,!=2.5.*,!=2.6.*,!=2.7.*,!=2.8.*,!=2.9.*,<3.0.0dev,>=1.34.1->google-api-core[grpc]!=2.0.*,!=2.1.*,!=2.10.*,!=2.2.*,!=2.3.*,!=2.4.*,!=2.5.*,!=2.6.*,!=2.7.*,!=2.8.*,!=2.9.*,<3.0.0dev,>=1.34.1->google.cloud.translate) (2024.7.4)\r\n",
      "Downloading google_cloud_translate-3.16.0-py2.py3-none-any.whl (175 kB)\r\n",
      "Downloading google_api_core-2.20.0-py3-none-any.whl (142 kB)\r\n",
      "Downloading google_auth-2.35.0-py2.py3-none-any.whl (208 kB)\r\n",
      "Using cached google_cloud_core-2.4.1-py2.py3-none-any.whl (29 kB)\r\n",
      "Downloading grpc_google_iam_v1-0.13.1-py2.py3-none-any.whl (24 kB)\r\n",
      "Downloading proto_plus-1.24.0-py3-none-any.whl (50 kB)\r\n",
      "Downloading protobuf-5.28.2-cp38-abi3-macosx_10_9_universal2.whl (414 kB)\r\n",
      "Downloading cachetools-5.5.0-py3-none-any.whl (9.5 kB)\r\n",
      "Downloading googleapis_common_protos-1.65.0-py2.py3-none-any.whl (220 kB)\r\n",
      "Downloading grpcio-1.66.1-cp39-cp39-macosx_10_9_universal2.whl (10.7 MB)\r\n",
      "\u001B[2K   \u001B[90m━━━━━━━━━━━━━━━━━━━━━━━━━━━━━━━━━━━━━━━━\u001B[0m \u001B[32m10.7/10.7 MB\u001B[0m \u001B[31m6.4 MB/s\u001B[0m eta \u001B[36m0:00:00\u001B[0ma \u001B[36m0:00:01\u001B[0m\r\n",
      "\u001B[?25hDownloading grpcio_status-1.66.1-py3-none-any.whl (14 kB)\r\n",
      "Downloading pyasn1_modules-0.4.1-py3-none-any.whl (181 kB)\r\n",
      "Using cached rsa-4.9-py3-none-any.whl (34 kB)\r\n",
      "Downloading pyasn1-0.6.1-py3-none-any.whl (83 kB)\r\n",
      "Installing collected packages: pyasn1, protobuf, grpcio, cachetools, rsa, pyasn1-modules, proto-plus, googleapis-common-protos, grpcio-status, google-auth, grpc-google-iam-v1, google-api-core, google-cloud-core, google.cloud.translate\r\n",
      "\u001B[33m  DEPRECATION: Configuring installation scheme with distutils config files is deprecated and will no longer work in the near future. If you are using a Homebrew or Linuxbrew Python, please see discussion at https://github.com/Homebrew/homebrew-core/issues/76621\u001B[0m\u001B[33m\r\n",
      "\u001B[0m\u001B[33m  DEPRECATION: Configuring installation scheme with distutils config files is deprecated and will no longer work in the near future. If you are using a Homebrew or Linuxbrew Python, please see discussion at https://github.com/Homebrew/homebrew-core/issues/76621\u001B[0m\u001B[33m\r\n",
      "\u001B[0m\u001B[33m  DEPRECATION: Configuring installation scheme with distutils config files is deprecated and will no longer work in the near future. If you are using a Homebrew or Linuxbrew Python, please see discussion at https://github.com/Homebrew/homebrew-core/issues/76621\u001B[0m\u001B[33m\r\n",
      "\u001B[0m\u001B[33m  DEPRECATION: Configuring installation scheme with distutils config files is deprecated and will no longer work in the near future. If you are using a Homebrew or Linuxbrew Python, please see discussion at https://github.com/Homebrew/homebrew-core/issues/76621\u001B[0m\u001B[33m\r\n",
      "\u001B[0m\u001B[33m  DEPRECATION: Configuring installation scheme with distutils config files is deprecated and will no longer work in the near future. If you are using a Homebrew or Linuxbrew Python, please see discussion at https://github.com/Homebrew/homebrew-core/issues/76621\u001B[0m\u001B[33m\r\n",
      "\u001B[0m\u001B[33m  DEPRECATION: Configuring installation scheme with distutils config files is deprecated and will no longer work in the near future. If you are using a Homebrew or Linuxbrew Python, please see discussion at https://github.com/Homebrew/homebrew-core/issues/76621\u001B[0m\u001B[33m\r\n",
      "\u001B[0m\u001B[33m  DEPRECATION: Configuring installation scheme with distutils config files is deprecated and will no longer work in the near future. If you are using a Homebrew or Linuxbrew Python, please see discussion at https://github.com/Homebrew/homebrew-core/issues/76621\u001B[0m\u001B[33m\r\n",
      "\u001B[0m\u001B[33m  DEPRECATION: Configuring installation scheme with distutils config files is deprecated and will no longer work in the near future. If you are using a Homebrew or Linuxbrew Python, please see discussion at https://github.com/Homebrew/homebrew-core/issues/76621\u001B[0m\u001B[33m\r\n",
      "\u001B[0m\u001B[33m  DEPRECATION: Configuring installation scheme with distutils config files is deprecated and will no longer work in the near future. If you are using a Homebrew or Linuxbrew Python, please see discussion at https://github.com/Homebrew/homebrew-core/issues/76621\u001B[0m\u001B[33m\r\n",
      "\u001B[0m\u001B[33m  DEPRECATION: Configuring installation scheme with distutils config files is deprecated and will no longer work in the near future. If you are using a Homebrew or Linuxbrew Python, please see discussion at https://github.com/Homebrew/homebrew-core/issues/76621\u001B[0m\u001B[33m\r\n",
      "\u001B[0m\u001B[33m  DEPRECATION: Configuring installation scheme with distutils config files is deprecated and will no longer work in the near future. If you are using a Homebrew or Linuxbrew Python, please see discussion at https://github.com/Homebrew/homebrew-core/issues/76621\u001B[0m\u001B[33m\r\n",
      "\u001B[0m\u001B[33m  DEPRECATION: Configuring installation scheme with distutils config files is deprecated and will no longer work in the near future. If you are using a Homebrew or Linuxbrew Python, please see discussion at https://github.com/Homebrew/homebrew-core/issues/76621\u001B[0m\u001B[33m\r\n",
      "\u001B[0m\u001B[33m  DEPRECATION: Configuring installation scheme with distutils config files is deprecated and will no longer work in the near future. If you are using a Homebrew or Linuxbrew Python, please see discussion at https://github.com/Homebrew/homebrew-core/issues/76621\u001B[0m\u001B[33m\r\n",
      "\u001B[0m\u001B[33m  DEPRECATION: Configuring installation scheme with distutils config files is deprecated and will no longer work in the near future. If you are using a Homebrew or Linuxbrew Python, please see discussion at https://github.com/Homebrew/homebrew-core/issues/76621\u001B[0m\u001B[33m\r\n",
      "\u001B[0m\u001B[33mDEPRECATION: Configuring installation scheme with distutils config files is deprecated and will no longer work in the near future. If you are using a Homebrew or Linuxbrew Python, please see discussion at https://github.com/Homebrew/homebrew-core/issues/76621\u001B[0m\u001B[33m\r\n",
      "\u001B[0mSuccessfully installed cachetools-5.5.0 google-api-core-2.20.0 google-auth-2.35.0 google-cloud-core-2.4.1 google.cloud.translate-3.16.0 googleapis-common-protos-1.65.0 grpc-google-iam-v1-0.13.1 grpcio-1.66.1 grpcio-status-1.66.1 proto-plus-1.24.0 protobuf-5.28.2 pyasn1-0.6.1 pyasn1-modules-0.4.1 rsa-4.9\r\n"
     ]
    }
   ],
   "source": [
    "!pip install google.cloud.translate"
   ]
  },
  {
   "cell_type": "code",
   "execution_count": 1,
   "outputs": [],
   "source": [
    "import os, csv\n",
    "# public\n",
    "import nltk\n",
    "from nltk.translate.bleu_score import sentence_bleu, corpus_bleu\n",
    "import pandas as pd\n",
    "from tqdm import tqdm\n",
    "from google.cloud import translate_v2 as translate"
   ],
   "metadata": {
    "collapsed": false,
    "ExecuteTime": {
     "end_time": "2024-09-23T23:51:31.541199Z",
     "start_time": "2024-09-23T23:51:30.466416Z"
    }
   },
   "id": "80c6c189866e3a19"
  },
  {
   "cell_type": "code",
   "execution_count": 1,
   "outputs": [],
   "source": [],
   "metadata": {
    "collapsed": false,
    "ExecuteTime": {
     "end_time": "2024-09-23T23:51:31.548981Z",
     "start_time": "2024-09-23T23:51:31.540888Z"
    }
   },
   "id": "3333245238000a9b"
  },
  {
   "cell_type": "code",
   "execution_count": 2,
   "outputs": [],
   "source": [
    "# a method that calls the cloud translator\n",
    "def translate_text(source: str, target: str, text: str) -> dict:\n",
    "    \"\"\"\n",
    "    Translates text into the target language.\n",
    "    Target must be an ISO 639-1 language code.\n",
    "    See https://g.co/cloud/translate/v2/translate-reference#supported_languages\n",
    "    \"\"\"\n",
    "\n",
    "    translate_client = translate.Client()\n",
    "\n",
    "    if isinstance(text, bytes):\n",
    "        text = text.decode(\"utf-8\")\n",
    "\n",
    "    # Text can also be a sequence of strings, in which case this method\n",
    "    # will return a sequence of results for each text.\n",
    "    result = translate_client.translate(\n",
    "        text\n",
    "        , source_language=source\n",
    "        , target_language=target\n",
    "    )\n",
    "    return result\n",
    "\n",
    "def process_nan(s):\n",
    "  if type(s)!=type(''):\n",
    "    return ''\n",
    "  return s"
   ],
   "metadata": {
    "collapsed": false,
    "ExecuteTime": {
     "end_time": "2024-09-23T23:51:31.556655Z",
     "start_time": "2024-09-23T23:51:31.547174Z"
    }
   },
   "id": "919ad264843fbff1"
  },
  {
   "cell_type": "code",
   "execution_count": 2,
   "outputs": [],
   "source": [],
   "metadata": {
    "collapsed": false,
    "ExecuteTime": {
     "end_time": "2024-09-23T23:51:31.556806Z",
     "start_time": "2024-09-23T23:51:31.552547Z"
    }
   },
   "id": "73a6b521fd0b11cb"
  },
  {
   "cell_type": "code",
   "execution_count": 3,
   "outputs": [],
   "source": [
    "src_lan = 'en'\n",
    "# target language\n",
    "tgt_lan = 'es'\n",
    "language = \"Spanish\"\n",
    "\n",
    "\n",
    "RESOURCE = ''\n",
    "DATA =  RESOURCE+'/data/'+language\n",
    "GOLD_FILE = os.path.join(DATA, 'gold-sentences-'+language+'.tsv')\n",
    "TRANS_FILE = os.path.join(DATA, 'trans-sentences-'+language+'.tsv')\n",
    "\n",
    "# DATA = os.path.join(RESOURCE, 'data')\n",
    "DATA =  RESOURCE+'data'\n",
    "\n",
    "KEY = os.path.join(RESOURCE, 'key')\n",
    "# RAW_SENSE_TSV = os.path.join(DATA, 'gold-tokens-English-wSenses.tsv')\n",
    "# RAW_TOKENS_TSV =  os.path.join(DATA, 'gold-tokens-English-wSenses.tsv')\n",
    "RAW_SENTENCE_TSV = os.path.join(DATA, 'SemEval2025_EAMT_Samples.tsv')\n",
    "JSON_GOOGLE_APPLICATION_CREDENTIALS = os.path.join(KEY, 'leafy-winter-436121-s1-c359b02fd0ef.json')\n",
    "os.environ['GOOGLE_APPLICATION_CREDENTIALS'] = JSON_GOOGLE_APPLICATION_CREDENTIALS"
   ],
   "metadata": {
    "collapsed": false,
    "ExecuteTime": {
     "end_time": "2024-09-23T23:51:31.559718Z",
     "start_time": "2024-09-23T23:51:31.555584Z"
    }
   },
   "id": "7476e6353c29e16c"
  },
  {
   "cell_type": "markdown",
   "source": [
    "# DATA"
   ],
   "metadata": {
    "collapsed": false
   },
   "id": "1a06defe255431c"
  },
  {
   "cell_type": "code",
   "execution_count": 4,
   "outputs": [
    {
     "name": "stdout",
     "output_type": "stream",
     "text": [
      "[\"['Görünmez Adam hangi türe ait?']\", \"['Mulheres Apaixonadas dizisi ilk ne zaman yayınlandı?']\", '[\"Sefirin Kızı\\'nın kaç sezonu var\", \"Sefirin Kızı\\'nın kaç sezonu var?\", \\'Sefirin Kızının kaç sezonu var?\\']', \"['Kedilere Bulaşmayın: İnternette Katil Avı dizisinin ana odak noktası nedir?']\", '[\\'9. Senfonide kaç hareket var?\\', \"9. Senfoni\\'de kaç bölüm var?\", \"9. Senfoni\\'de kaç hareket vardır?\"]', '[\"Descartes\\'ın Yöntem Üzerine Konuşma\\'sı hakkında kısa bir açıklama yapabilir misiniz?\", \"Descartes\\'ın Yöntem Üzerine Konuşma\\'nın kısa bir tanımını yapabilir misiniz?\"]', '[\"Üç Silahşörler\\'in türü nedir?\"]', \"['Aziz Vasil Katedrali ne zaman inşa edildi?']\", '[\"Maymunlar Gezegeni\\'nde olaylar hangi ülkede geçmiştir?\", \"Maymunlar Gezegeni\\'ndeki olaylar hangi ülkede geçmiştir?\", \\'Maymunlar Gezegenindeki olaylar hangi ülkede geçiyor?\\']', '[\"Türk\\'ün satranç oynama yeteneğiyle ilgili herhangi bir söylenti veya tartışma oldu mu?\", \"Türk\\'ün satranç oynama yeteneğiyle ilgili herhangi bir söylenti veya ihtilaf oldu mu?\"]', '[\"Berlin Katedrali\\'ni nasıl tanımlarsınız?\"]', \"['Rusya Devlet Başkanı nasıl seçilir?']\", '[\"Çernobil Nükleer Santrali\\'nde başmühendis yardımcısı olarak Anatoly Dyatlov\\'un sorumlulukları nelerdi?\", \"Çernobil Nükleer Santrali\\'nde baş mühendis yardımcısı olarak Anatoly Dyatlov\\'un sorumlulukları nelerdi?\"]', '[\"Hangi dini metinler Atababalar Mağarası\\'ndan bahseder?\", \"Atababalar Mağarası\\'nın bahsi hangi dini metinlerde geçer?\"]', '[\"Yıldız Savaşları evreninde Galaktik İmparatorluk\\'un sembolü nedir?\", \\'Star Wars evreninde Galaktik İmparatorluk sembolü nedir?\\']', \"['Mescid-i Nebevî kaç kişiliktir?', 'Mescid-i Nebevî kaç kişiyi ağırlayabilir?', 'Mescid-i Nebevi kaç kişiyi ağırlayabilir?']\", \"['Hüzün Şehri filminin türü nedir?']\", \"['Aleksey Nikolayeviç Romanov kimdi?']\", \"['Hangi ünlü replik Simpson ailesi ile ilişkilidir?', 'Hangi ünlü slogan Simpson ailesi ile ilişkilidir?']\", \"['Kuşburnu tüketmenin herhangi bir sağlık yararı var mı?', 'Kuşburnu tüketmenin sağlığa faydaları var mı?', 'Kuşburnu meyvesinin sağlığa faydası var mıdır?']\", \"['¿Quién coreografió el ballet original de 1910 de El pájaro de fuego?', '¿Quién fue el coreógrafo original del ballet El pájaro de fuego?', '¿Quién coreografió el ballet original de 1910 El pájaro de fuego?']\", \"['¿A cuántas personas puede acomodar la Mezquita del Profeta?']\", \"['¿En qué país se llevaron a cabo los eventos de El Planeta de los Simios?', '¿En qué país se llevaron a cabo los eventos del El planeta de los simios?']\", \"['¿Podrías cantar el coro de la canción tradicional el corro de la patata?', '¿Puedes cantar el coro de la canción folclórica El corro de la patata?']\", \"['¿Cual es el género del libro La guerra de los mundos?', '¿Cuál es el género de La guerra de los mundos?', '¿A qué género pertenece La guerra de los mundos?']\", \"['¿Por qué estilo arquitectónico es conocida la Mezquita de los Omeyas?', '¿Por cuál estilo arquitectónico es conocida la Mezquita de los Omeyas?']\", \"['¿Dónde puedes ver la serie de televisión ¡Vaya familia Claus!?', '¿Dónde puedes ver la serie de televisión ¡Vaya Familia Claus!?']\", \"['¿De qué tipo de colina están hechas las Cuevas de Batu?']\", \"['¿Qué predice supuestamente la Profecía de los papas?', '¿Qué supuestamente predice la Profecía de los Papas?']\", \"['¿Quiénes son las principales fuerzas antagónicas en el universo de Canción de hielo y fuego?', '¿Quiénes son las principales fuerzas antagónicas en el Universo de Cancion de hielo y fuego?']\", \"['¿Cuál es el género de Ciudad doliente?']\", \"['¿Cuál es el género de Los viajes de Gulliver?', '¿Cual es el genero de los viajes de Gulliver?']\", \"['¿Cuál fue el elenco principal de Los pilares de la Tierra?', '¿Cuál fue el reparto principal de Los pilares de la Tierra?', '¿Cuál fue el elenco principal de la serie Los pilares de la Tierra?']\", \"['¿A què gènero es la pelicula El hombre invisible?', '¿A qué género pertenece El hombre invisible?']\", \"['¿Cuál fue el propósito inicial de la Catedral de Cristo Salvador de Moscú?', '¿Cuál era el propósito original de la Catedral de Cristo Salvador de Moscú?']\", \"['¿Cómo se come un paraguayo?']\", \"['¿Cómo describirías La princesa y el guisante en una palabra?']\", \"['¿Cuál es el significado histórico del Monasterio de los Jerónimos de Santa María de Belém?', '¿Cuál es el significado histórico del Monasterio de los Jerónimos?', '¿Cuál es el la importancia histórica del Monasterio de los Jerónimos de Belém?']\", \"['¿Cuál es el significado de la Basílica de Santa María de Guadalupe en la cultura mexicana?', '¿Qué significado tiene la Basílica de Santa María de Guadalupe en la cultura mexicana?']\", \"['¿Quién es María del Reino Unido?', '¿Quién es María, Princesa Real y Condesa de Harewood?', '¿Quien es Maria de Windsor?']\", \"['Qui sont les personnages principaux du film Les Quatre Filles du docteur March?', 'Qui sont les personnages principaux du film Les Quatre Filles du docteur March??']\", \"['Qui sont les acteurs principaux du film 7. Koğuştaki Mucize?']\", \"['Comment la ciboule peut-elle être cultivé et récolté dans son jardin?', 'Comment peut-on cultiver et récolter la ciboule dans son potager?', 'Comment peut-on cultiver et récolter de la ciboule dans son jardin?']\", \"['À quel genre appartient La Cité des douleurs?', 'Quel est le genre du film La Cité des douleurs?', 'Quel est le genre de La Cité des douleurs?']\", \"['Comment peut-on décrire La Princesse au petit pois en un seul mot?', 'Comment décririez-vous La Princesse au petit pois en un seul mot?', 'Comment décririez-vous La Princesse au petit pois en un mot?']\", \"['De quel type de colline les grottes de Batu sont-elles constituées?']\", \"['Où pouvez-vous regarder la série télévisée Super Noël, la série?', 'Où regarder la série télévisée Super Noël, la série?']\", \"['La Passion selon Saint Matthieu est-elle un oratorio sacré?']\", \"['Quelle était la prémisse de la série La Vie de famille?', 'De quelle série La Vie de famille était-elle dérivée?', 'Quels étaient les prémices de la série télévisée La Vie de famille?']\", '[\"Pour quels instruments la suite Tableaux d\\'une exposition a-t-elle été écrite?\", \"Pour quel instrument la suite Tableaux d\\'une exposition est-elle écrite?\"]', \"['Quel est le genre du roman Les Voyages de Gulliver?', 'Quel est le genre du livre Les Voyages de Gulliver?', 'À quel genre littéraire Les Voyages de Gulliver appartiennent-ils?']\", \"['Quel slogan célèbre est associé à la Famille Simpson?', 'Quel slogan célèbre est associé à la famille Simpson?']\", \"['Selon les rabbins quel pouvoir le Sceau de Salomon pouvait-il lui conférer?', 'Selon les rabbins, que pouvait apprendre Salomon du Sceau de Salomon?']\", \"['Quelle est la hauteur de la tour Ostankino à Moscou?']\", \"['Pouvez-vous donner un court résumé du film Le Masque de Zorro?', 'Pouvez-vous fournir un bref résumé du film Le Masque de Zorro?']\", \"['Dans quel pays les événements de La Planète des singes ont-ils eu lieu?']\", '[\"D\\'où vient Viktor Iouchtchenko?\"]', '[\"À quel genre appartient L\\'Homme invisible?\"]', '[\"Qui s\\'est finalement retrouvé avec la pomme d\\'or de la discorde et pourquoi?\"]', \"['Qui est Mary du Royaume-Uni?']\", \"['宇宙戦争のジャンルは何ですか。', '宇宙戦争のジャンルは何ですか?']\", \"['映画の主な俳優は誰ですか7番房の奇跡?', '映画7番房の奇跡」の主演男優は誰ですか?', '映画7番房の奇跡の主な俳優は誰ですか?']\", \"['ガリヴァー旅行記のジャンルは何ですか？', 'ガリヴァー旅行記のジャンルは何ですか?']\", \"['マリー・ド・ブルゴーニュと皇帝マクシミリアン1世が結婚していた期間はどのくらいですか？', 'マリー・ド・ブルゴーニュは皇帝マクシミリアン1世と何年間結婚していましたか？', 'マリー・ド・ブルゴーニュは皇帝マクシミリアン1世とどのくらいの期間結婚していましたか？']\", \"['中世西洋音楽の主な作曲家は誰ですか？']\", \"['加藤清史郎はどの業界で働いていますか?']\", \"['透明人間のジャンルはなんですか？']\", \"['フォースタス博士の有名なシーンを1つ挙げてください。']\", \"['冬のライオンの主なテーマは何ですか？', '冬のライオンのメインテーマは何ですか？']\", \"['聖カタリナ修道院はどの州はに関連づけられていますか？', '聖カタリナ修道院はどの宗派に関連付けられていますか?']\", \"['テレビシリーズニューヨーク・パパの生み手は誰ですか?', 'テレビシリーズニューヨーク・パパの作者は誰ですか?', 'ニューヨーク・パパの作者は誰ですか？']\", \"['パン酵母をグルテンフリーの料理に使用できますか？', 'パン酵母はグルテンフリーのベーキングに使用できますか？', 'パン酵母はグルテンフリーのベーキングに使用できますか?']\", \"['国際単位系の接頭辞とその記号は何ですか?']\", \"['ハッサン塔を建てたのは誰ですか？']\", \"['シンプソン一家に関する有名なキャッチフレーズはどれですか?', 'シンプソン一家に関連する有名なキャッチフレーズはどれですか?', 'シンプソン一家の有名なキャッチフレーズは何でしょう？']\", \"['テレビシリーズファミリー・マターズの前提は何でしたか?', 'テレビシリーズ ファミリー・マターズの設定は何でしたか?']\", \"['はてしない物語を簡単に説明していただけますか？', 'はてしない物語の簡単な説明をしていただけますか?', 'はてしない物語について簡単に説明してくれますか？']\", \"['バントウはどうやって食べますか?', 'バントウの食べ方は何がありますか？']\", \"['民謡リング・ア・リング・オー・ローゼズのコーラスを歌えますか？']\", \"['エンドウ豆の上に寝たお姫さまを一言でどのように説明しますか。', 'エンドウ豆の上に寝たお姫さまを一言でどのように説明しますか?', 'エンドウ豆の上に寝たお姫さまを一言で表現すると何になりますか？']\", \"['해바라기씨가 성숙한 해바라기로 자라는데 얼마나 걸리나요?', '해바라기 씨가 성숙한 해바라기로 자라는 데 얼마나 걸립니까?']\", \"['성난 군중으로부터 멀리는 어떤 종류의 작품인가요?', '성난 군중으로부터 멀리는 어떤 장르의 작품인가요?']\", \"['호간의 영웅들은 몇 시즌이 제작되었나요?']\", \"['의 장르는 무엇인가요 우주 전쟁', '우주 전쟁의 장르는 무엇인가요?']\", \"['암리차르 황금사원의 일반적 별칭은 무섯인가요?', '암리차르 황금사원 에 일반적으로 사용되는 별명은 무엇인가요?']\", \"['퀸 오브 뱀파이어에서 누가 주연을 맡았나요?']\", \"['원숭이 셀카과 관련된 저명한 예술가나 사진작가는 누구입니까?', '원숭이 셀카 저작권 논란에 관련된 저명한 예술가나 사진작가는 누구입니까?']\", '[]', \"['스타워즈에서 데스 스타 은 어떤 종류의 우주 정거장인가요', '스타워즈에서 데스 스타은 어떤 종류의 우주 정거장인가요?', '스타워즈의 데스 스타는 어떤 종류의 우주정거장인가요?']\", \"['안드로이드는 전기 양의 꿈을 꾸는가?는 어떤 종류의 작품인가요?', '안드로이드는 전기 양의 꿈을 꾸는가은 어떤 작품인가요??', '안드로이드는 전기양의 꿈을 꾸는가의 장르는?']\", \"['화이트 와인을 서빙하기에 가장 좋은 온도는 어디인가요?', '마시기에 좋은 화이트 와인의 최적온도는?']\", \"['누가 결국 불화의 사과로 끝났고 그 이유는?', '누가 결국 불화의 사과를 손에 넣었고, 그 이유는?']\", \"['빅토르 유셴코는 어디에서 왔나요?', '빅토르 유셴코는 어디에서 왔습니까?']\", \"['스페인의 국장의 역사적 기원을 설명할 수 있나요?']\", \"['체르노빌 원자력 발전소의 부국장으로서아나톨리 댜틀로프의 책임은 무엇이었나요?', '체르노빌 원자력 발전소의 수석 엔지니어로서 아나톨리 댜틀로프의 책임은 무엇이었나요?']\", \"['TV 시리즈 털보 가족의 제작자는 누구였나요?', 'TV 시리즈 가족 문제의 제작자는 누구입니까?']\", \"['나만의 방이라는 책의 장르를 어떻게 설명하시겠습니까?', '자기만의 방이라는 책의 장르를 어떻게 설명하시겠습니까?']\", \"['TV 시리즈 패밀리 매터스의 전제는 무엇이었나요?', '패밀리 매터스 시리즈 아이디어는?']\", \"['성전산에서 어떤 주요 역사적 사건이 일어났나요?']\", \"['님 오일을 섭취했을 때 신체에 어떤 이점이 있습니까?', '님기름은 섭취할 때 신체에 어떻게 도움이 되나요?']\", \"['瓦納姆修道院最初的用途是什麼？', '瓦納姆修道院最初是用來做什麼的？']\", \"['誰在偽造殺手》中擔任主角？', '誰在電影偽造殺手中擔任主角？', '誰在偽造殺手中擔任主角？']\", \"['小說總統命令》中發出總統命令後的結果是什麼？', '總統命令中釋出的行政命令的後果是什麼？', '總統命令中發怖的行政命令的後果是什麼？', '總統命令中釋出行政命令的後果是什麼？']\", \"['水鳥》的主要演員有誰？', '電影水鳥中的主要演員是誰？']\", \"['馬奎斯的中篇小說沒有人寫信給上校》有多長？', '加布裡埃爾·加西亞·馬爾克斯的中篇小說沒有人寫信給上校的長度是多少？', '加布列·賈西亞·馬奎斯的中篇小說沒有人寫信給上校的篇幅是多少？']\", \"['遊客可以進入單身清真寺嗎？']\", \"['卡爾·格奧爾格·萊布雷希特的國籍是什麼？', '卡爾·格奧爾格·萊布雷希特是什麼國籍？']\", \"['阿爾及利亞的凱喬娃清真寺有開放讓不同信仰的遊客參觀嗎？', '所有宗教的遊客都可以進入阿爾及利亞的凱喬娃清真寺嗎？']\", \"['耳朵裡的跳蚤》的主題是什麼？', '耳朵裡的跳蚤的主題是什麼？']\", \"['L/R王室近衛隊的第一集是麼時候播出？', 'L/R王室近衛隊的第一集是什麼時候播出的？']\", \"['小提琴不再演奏了》的劇本是誰寫的？', '誰為電影小提琴不再演奏了撰寫了劇本？', '誰為電影小提琴不再演奏了》撰寫劇本？']\", \"['驅逐阿雷佐城的魔鬼》的畫家是誰？', '名為驅逐阿雷佐城的魔鬼這幅畫的背後的藝術家是誰？', '名為驅逐阿雷佐城的魔鬼》這幅畫背後的藝術家是誰？']\", \"['Baby Sitter》可以在哪裡觀看？', '我在哪裡可以觀看Baby Sitter電視劇的劇集？', '我在哪裡可以觀看電視劇Baby Sitter？']\", \"['賈敬的個性或特色是什麼？', '賈敬的性格特徵是什麼？']\", '[]', \"['你能簡要描述一下電影光與陰影嗎？']\", \"['電視劇珀西公園守護者》的創作者是誰？', '誰創作了電視劇公園管理員珀西？', '誰創作了電視劇珀西公園守護者？']\", \"['哪裡可以看到舞台劇回家》的演出？', '你通常在哪裡可以找到播放回家的製作的劇院？', '你通常在哪裡可以找到回鄉戲劇作品？', '你通常在哪裡可以找到戲劇作品回鄉？']\", \"['聖歐蒂米奧救世主修道院是哪個教派的？', '哪個宗教教派與聖歐蒂米奧救世主修道院有關？', '聖歐蒂米奧救世主修道院與哪個宗教派別有關？']\", \"['家有汪星人》的首播時間是什麼時候？', '電視劇家有汪星人是什麼時候首次播出的？']\", \"['Come viene ricordato e onorato attualmente Yu il Grande nella storia e nella cultura cinese?', 'Come viene ricordato e onorato Yu il Grande nella storia e nella cultura cinese oggi?']\", \"['Di che materiale è fatta la collina delle Grotte di Batu?', 'Di che materiale sono fatte le grotte di Batu?', 'Di che tipo di collina sono fatte le grotte di Batu?']\", \"['Chi sono le principali forze antagoniste nel mondo delle Cronache del ghiaccio e del fuoco?']\", '[\"Qual è il tema principale di Il leone d\\'inverno?\"]', '[\"Chi è l\\'autore del romanzo di fantascienza-thriller intitolato Inverso?\"]', \"['Quanto è alta la cattedrale di Santa Sofia a Kiev?', 'Quanto è alta la cattedrale di Santa Sofia di Kiev?']\", '[\"Qual è l\\'ambientazione della serie TV Il colore delle magnolie?\"]', \"['Ci sono potenziali rischi di allergia associati al consumo di albumi?']\", \"['chi è il protagonista del film La regina dei dannati?', 'Chi interpreta il ruolo principale in La regina dei dannati?', 'Chi interpreta il ruolo principale nel film la regina dei dannati?']\", \"['Quale compositore ha composto la Sinfonia n. 9?', 'Quale compositore ha composto Sinfonia n. 9?', 'Chi ha composto Sinfonia n. 9?']\", \"['Chi ha progettato la Torre di Tokyo?']\", \"['Quanto è alta la torre di Ostankino a Mosca?']\", \"['Puoi cantare il ritornello della canzone popolare Girotondo?', 'Sai cantare il ritornello del girotondo, la canzone popolare?']\", '[\"Chi ha coreografato il balletto originale del 1910 di L\\'uccello di fuoco?\", \"Chi ha coreografato il balletto originale del 1910 L\\'uccello di fuoco?\", \"Di chi era la coreografia originale del 1910 del balletto L\\'uccello di fuoco?\"]', \"['Nomina una scena famosa dalla tragica storia del Dottor Faust?', 'Nomina una scena famosa da La tragica storia del Dottor Faust?']\", '[\"Per quanto tempo Maria di Borgogna è stata sposata con l\\'imperatore Massimiliano I?\", \"Per quanto tempo Maria di Borgogna è stata sposata con l\\'imperatore Massimiliano I\"]', \"['In quale settore lavora Seishirō Katō?', 'In quale settore lavora Seishiro Kato?']\", '[\"Che benefici porta l\\'olio di neem al corpo quando viene consumato?\", \"In che modo l\\'olio di neem apporta benefici al corpo quando viene consumato?\", \"In che modo l\\' olio di neem beneficia al corpo quando viene consumato?\"]', \"['Quando è stato trasmesso il primo episodio di Harley in mezzo?']\", '[\"Qual è il simbolo dell\\'Impero Galattico nell\\'universo di Star Wars?\", \"Qual è il simbolo dell\\'Impero Galattico nell\\'universo di Guerre stellari?\"]', \"['هل يمكن استخدام الشوفان المطحون في الخبيز', 'هل يمكن استخدام الشوفان المطحون في الخبز؟']\", \"['من سيخرج الفيلم القادم: مباريات الجوع: أغنية الطيور المغردة والثعابين', 'من سيخرج الفيلم القادم مباريات الجوع: أغنية الطيور المغردة والثعابين؟']\", \"['ما هي النصوص الدينية التي تذكر المسجد الإبراهيمي', 'ما هي النصوص الدينية التي تذكر المسجد الإبراهيمي؟']\", \"['كم عدد مواسم هوجانز هيروز التي تم إنتاجها؟']\", \"['متى تم بث مسلسل سلم إلى الجنة لأول مرة على شاشة التلفزيون؟', 'متى تم بث سلم إلى الجنة لأول مرة على التلفزيون؟', 'متى تم بث سلم إلى الجنة لأول مرة على شاشة التلفزيون؟']\", \"['كم عدد فصول كتاب الموتى؟', 'كم عدد الفصول في كتاب الموتى؟']\", \"['ما هو نوع حرب العوالم؟', 'ما هو النوع الأدبي لحرب العوالم؟', 'ما هو نوع رواية حرب العوالم؟']\", \"['ما هي فرضية المسلسل التلفزيوني فاملي ماتتيرس؟']\", \"['(من ألف مسيرة المتطوعين؟(العمل الموسيقي', 'من الذي لحن مسيرة المتطوعين؟']\", \"['كم عدد الأشخاص الذين يمكن أن يستوعبهم المسجد النبوي؟']\", \"['من هم الممثلون الرئيسيون في فيلم معجزة في الزنزانة 7؟', 'من هم الممثلون الرئيسيون في فيلم معجزة في الزنزانة 7']\", \"['من هم الممثلون الرئيسيون في أفضل ما يمكن حصوله؟', 'من هم الممثلون الرئيسيون في فيلم أفضل ما يمكن حصوله؟']\", '[]', \"['ما هو الاعداد للمسلسل التلفزيوني كبرياء وتحامل؟', 'ما هو إعداد المسلسل التلفزيوني كبرياء وتحامل؟']\", \"['هل يمكن استخدام خميرة الخباز في الخبز الخالي من الغلوتين؟']\", \"['متى تم تأدية السيمفونية الخامسة لأول مرة؟', 'متى تم تنفيذ السيمفونية الخامسة لأول مرة؟']\", \"['هل يمكنك تقديم ملخص موجز لفيلم قناع زورو؟']\", \"['ما نوع المحطة الفضائية نجم الموت في حرب النجوم؟']\", \"['هل يمكنك تقديم وصف موجز للنسب الملكي لفوزية بنت فؤاد الأول؟', 'هل يمكنك تقديم وصف موجز للسلسل الملكي لفوزية بنت فؤاد الأول؟', 'هل يمكنك تقديم وصف موجز لسلالة الملكية لفوزيه بنت فؤاد الأول ؟']\", \"['ما هي مسؤوليات أناتولي دياتلوف كنائب كبير المهندسين في محطة تشيرنوبيل للطاقة النووية؟']\", \"['ใครคือเจ้าหญิงเซซีลีแห่งกรีซและเดนมาร์ก', 'ใครคือเจ้าหญิงเซซีลีแห่งกรีซและเดนมาร์ก?']\", \"['สัญลักษณ์ของเสรีภาพของมนุษย์ในลัทธิซาตานลาวีคืออะไร?', 'สัญลักษณ์ของเสรีภาพของมนุษย์ในศาสนาสมมติของลัทธิซาตานลาวีคืออะไร', 'สัญลักษณ์ของเสรีภาพของมนุษย์ในศาสนาสมมติขอลัทธิซาตานลาวีงคืออะไร?']\", \"['ใครคือตัวละครหลักในเรื่องพยัคฆ์เหนือพยัคฆ์', 'ใครคือตัวละครหลักในพยัคฆ์เหนือพยัคฆ์', 'ใครคือตัวละครหลักในพยัคฆ์เหนือพยัคฆ์?']\", \"['เหตุการณ์สําคัญทางประวัติศาสตร์ใดบ้างที่เกิดขึ้นที่เนินพระวิหาร']\", \"['คุณจะทราบได้อย่างไรว่าไข่แดงสดหรือไม่', 'คุณจะทราบได้อย่างไรว่าไข่แดงสดหรือไม่?']\", \"['อะไรที่ทำให้วาซีลี บลูย์เคียร์เป็นที่รู้จักมากที่สุดในการรับราชการทหารของเขา', 'ในการรับราชการทหารขอวาซีลี บลูย์เคียร์ เขาเป็นที่รู้จักมากที่สุดในเรื่องอะไร?']\", \"['เสียงเรียกของคธูลูจัดอยู่ในประเภทใด', 'ประเภทของเสียงเรียกของคธูลูคืออะไร?']\", \"['เมล็ดทานตะวันใช้เวลานานแค่ไหนในการเจริญเติบโตเป็นดอกทานตะวันที่โตเต็มที่?', 'ต้องใช้เวลานานแค่ไหนกว่าที่เมล็ดทานตะวันจะเติบโตเป็นดอกทานตะวันโตเต็มวัย?']\", \"['คุณสามารถบอกชื่อจุดหมายปลายทางที่น่าจดจําในนวนิยายเรื่อง 80 วันรอบโลกได้ไหม?', 'ตั้งชื่อจุดหมายปลายทางที่น่าจดจําในนวนิยาย เรื่อง 80 วันรอบโลก', 'คุณช่วยบอกชื่อสถานที่ท่องเที่ยวที่น่าจดจำในนวนิยายเรื่อง80 วันรอบโลกได้ไหม?']\", \"['อาสนวิหารนักบุญโซเฟียในเคียฟสูงแค่ไหน?']\", \"['ใครคือตัวละครหลักในโปเกม่อน ฮอไรซันส์?', 'ใครคือตัวละครหลักในโปเกมอนภาคการผจญภัยของลิโกะกับรอย', 'ใครคือตัวละครหลักในโปเกมอน ฮอไรซันส์?']\", \"['ใครเป็นผู้กำกับภาพยนตร์เรื่องเดอะฮังเกอร์เกมส์: เดอะแบลเลิดออฟซองเบิร์ดสแอนด์สเนกส์ ที่กำลังจะเข้าฉายในโรงหนัง', 'ใครเป็นคนกํากับภาพยนตร์เรื่องเดอะฮังเกอร์เกมส์: เดอะแบลเลิดออฟซองเบิร์ดสแอนด์สเนกส์ ที่กําลังจะมาถึง?', 'ใครคือผู้กำกับภาพยนตร์เรื่องเดอะฮังเกอร์เกมส์: เดอะแบลเลิดออฟซองเบิร์ดสแอนด์สเนกส์']\", \"['ไวต์ช็อกโกแลตสามารถใช้ในการอบและของหวานได้หรือไม่?', 'ไวต์ช็อกโกแลตสามารถใช้ในการทำขนมและเป็นขนมหวานได้หรือไม่']\", \"['ถ้ำบาตูทำจากเนินเขาประเภทใด', 'ถ้ำบาตูคือเนินเขาแบบไหน?', 'ถ้ำบาตู ทําจากเนินเขาแบบไหน?']\", \"['ความสําคัญของสุสานจิ๋นซีฮ่องเต้คืออะไร?', 'ความสําคัญของสุสานจิ๋นซีฮ่องเต้คือ?']\", \"['งานนิทรรศการภาพวาดเขียนขึ้นเพื่อเครื่องดนตรีอะไร?', 'ชุดงานนิทรรศการภาพวาดเขียนขึ้นเพื่อเครื่องดนตรีอะไร?', 'งานนิทรรศการภาพวาด ถูกเขียนขึ้นเพื่อเครื่องดนตรีอะไร']\", \"['กฎหมายแซลิกถูกบังคับใช้ในสมัยใคร?', 'ใครบังคับใช้กฎหมายแซลิก?', 'ใครคือผู้บังคับใช้ภายใต้กฎหมายแซลิก']\", \"['มนุษย์ล่องหนเป็นประเภทไหน?']\", \"['ซิมโฟนีหมายเลข 5 แสดงครั้งแรกเมื่อใด', 'ซิมโฟนีหมายเลข 5แสดงครั้งแรกเมื่อใด']\", \"['ใครคือนักแสดงหลักในเพียงเธอ..รักนี้ดีสุดแล้ว?', 'ใครคือนักแสดงหลักในหนังเรื่องเพียงเธอ รักนี้ดีสุดแล้ว', 'ใครคือนักแสดงหลักในเพียงเธอ..รักนี้ดีสุดแล้ว']\", \"['Wie groß ist die Sophienkathedrale in Kiew?']\", \"['Wie lange war Maria von Burgund mit Kaiser Maximilian I. verheiratet?']\", \"['Was ist das Genre von Der Krieg der Welten?', 'Welches Genre hat Der Krieg der Welten?']\", \"['Woher kommt Wiktor Juschtschenko?']\", \"['Was war der ursprüngliche Zweck der Christ-Erlöser-Kathedrale?']\", \"['Was ist das Genre des Films Eine Stadt der Traurigkeit?', 'Was ist das Genre von Eine Stadt der Traurigkeit?']\", \"['Wie können Winterzwiebeln im heimischen Garten angebaut und geerntet werden?', 'Wie können Winterzwiebel in Hausgärten angebaut und geerntet werden?']\", \"['Was für ein Wesen ist die Galaktische Republik?', 'Welche Art von Einheit ist die Galaktische Republik?', 'Was für ein Gebilde ist die Galaktische Republik?']\", \"['Kann Backhefe beim glutenfreien Backen verwendet werden?', 'Kann Backhefe zum glutenfreien Backen verwendet werden?']\", \"['Wie kommt Niemöl dem Körper zugute, wenn es konsumiert wird?', 'Welchen Nutzen hat Niemöl beim Verzehr für den Körper?', 'Wie tut Niemöl dem Körper gut, wenn es konsumiert wird?']\", \"['Welche Art von Kunstwerk ist Träumen Androiden von elektrischen Schafen??', 'Welche Art von Kunstwerk ist Träumen Androiden von elektrischen Schafen?', 'Welche Art von künstlerischen Stils ist Träumen Androiden von elektrischen Schafen gemacht?']\", \"['Wer sind die wichtigsten antagonistischen Kräfte in der Welt von Eis und Feuer?']\", \"['Welche Bedeutung hat die Basilika Unserer Lieben Frau von Guadalupe in der mexikanischen Kultur?']\", \"['Kann Schrödingers Katze gleichzeitig lebend und tot existieren?', 'Kann Schrödingers Katze gleichzeitig lebendig und tot sein?']\", \"['Was ist das Symbol des Galaktischen Imperiums im Star Wars-Universum?', 'Was ist das Symbol des Galaktischen Imperium im Star Wars-Universum?']\", \"['Wie heißen die Hauptkomponisten der Musik des Mittelalters?', 'Wer waren die Hauptkomponisten der Musik des Mittelalters?']\", \"['Wer war Großfürst Sergei Alexandrowitsch von Russland?', 'Wer war Sergei Alexandrowitsch Romanow?']\", \"['Wer spielte die Titelfigur im Film Der Mann in der eisernen Maske?', 'Wer spielte die Titelfigur in Der Mann mit der eisernen Maske?']\", \"['In welcher Branche arbeitet Seishirō Katō?', 'In welcher Branche ist Seishiro Kato tätig?', 'In welcher Branche arbeitet Seishiro Kato?']\", \"['Welcher Konfession gehört das Katharinenkloster an?', 'Welcher religiösen Konfession ist das Katharinenkloster assoziiert?', 'Mit welcher religiösen Konfession ist das Katharinenkloster verbunden?']\"]\n",
      "[['en', 'tr'], ['en', 'tr'], ['en', 'tr'], ['en', 'tr'], ['en', 'tr'], ['en', 'tr'], ['en', 'tr'], ['en', 'tr'], ['en', 'tr'], ['en', 'tr'], ['en', 'tr'], ['en', 'tr'], ['en', 'tr'], ['en', 'tr'], ['en', 'tr'], ['en', 'tr'], ['en', 'tr'], ['en', 'tr'], ['en', 'tr'], ['en', 'tr'], ['en', 'es'], ['en', 'es'], ['en', 'es'], ['en', 'es'], ['en', 'es'], ['en', 'es'], ['en', 'es'], ['en', 'es'], ['en', 'es'], ['en', 'es'], ['en', 'es'], ['en', 'es'], ['en', 'es'], ['en', 'es'], ['en', 'es'], ['en', 'es'], ['en', 'es'], ['en', 'es'], ['en', 'es'], ['en', 'es'], ['en', 'fr'], ['en', 'fr'], ['en', 'fr'], ['en', 'fr'], ['en', 'fr'], ['en', 'fr'], ['en', 'fr'], ['en', 'fr'], ['en', 'fr'], ['en', 'fr'], ['en', 'fr'], ['en', 'fr'], ['en', 'fr'], ['en', 'fr'], ['en', 'fr'], ['en', 'fr'], ['en', 'fr'], ['en', 'fr'], ['en', 'fr'], ['en', 'fr'], ['en', 'ja'], ['en', 'ja'], ['en', 'ja'], ['en', 'ja'], ['en', 'ja'], ['en', 'ja'], ['en', 'ja'], ['en', 'ja'], ['en', 'ja'], ['en', 'ja'], ['en', 'ja'], ['en', 'ja'], ['en', 'ja'], ['en', 'ja'], ['en', 'ja'], ['en', 'ja'], ['en', 'ja'], ['en', 'ja'], ['en', 'ja'], ['en', 'ja'], ['en', 'ko'], ['en', 'ko'], ['en', 'ko'], ['en', 'ko'], ['en', 'ko'], ['en', 'ko'], ['en', 'ko'], ['en', 'ko'], ['en', 'ko'], ['en', 'ko'], ['en', 'ko'], ['en', 'ko'], ['en', 'ko'], ['en', 'ko'], ['en', 'ko'], ['en', 'ko'], ['en', 'ko'], ['en', 'ko'], ['en', 'ko'], ['en', 'ko'], ['en', 'zh'], ['en', 'zh'], ['en', 'zh'], ['en', 'zh'], ['en', 'zh'], ['en', 'zh'], ['en', 'zh'], ['en', 'zh'], ['en', 'zh'], ['en', 'zh'], ['en', 'zh'], ['en', 'zh'], ['en', 'zh'], ['en', 'zh'], ['en', 'zh'], ['en', 'zh'], ['en', 'zh'], ['en', 'zh'], ['en', 'zh'], ['en', 'zh'], ['en', 'it'], ['en', 'it'], ['en', 'it'], ['en', 'it'], ['en', 'it'], ['en', 'it'], ['en', 'it'], ['en', 'it'], ['en', 'it'], ['en', 'it'], ['en', 'it'], ['en', 'it'], ['en', 'it'], ['en', 'it'], ['en', 'it'], ['en', 'it'], ['en', 'it'], ['en', 'it'], ['en', 'it'], ['en', 'it'], ['en', 'ar'], ['en', 'ar'], ['en', 'ar'], ['en', 'ar'], ['en', 'ar'], ['en', 'ar'], ['en', 'ar'], ['en', 'ar'], ['en', 'ar'], ['en', 'ar'], ['en', 'ar'], ['en', 'ar'], ['en', 'ar'], ['en', 'ar'], ['en', 'ar'], ['en', 'ar'], ['en', 'ar'], ['en', 'ar'], ['en', 'ar'], ['en', 'ar'], ['en', 'th'], ['en', 'th'], ['en', 'th'], ['en', 'th'], ['en', 'th'], ['en', 'th'], ['en', 'th'], ['en', 'th'], ['en', 'th'], ['en', 'th'], ['en', 'th'], ['en', 'th'], ['en', 'th'], ['en', 'th'], ['en', 'th'], ['en', 'th'], ['en', 'th'], ['en', 'th'], ['en', 'th'], ['en', 'th'], ['en', 'de'], ['en', 'de'], ['en', 'de'], ['en', 'de'], ['en', 'de'], ['en', 'de'], ['en', 'de'], ['en', 'de'], ['en', 'de'], ['en', 'de'], ['en', 'de'], ['en', 'de'], ['en', 'de'], ['en', 'de'], ['en', 'de'], ['en', 'de'], ['en', 'de'], ['en', 'de'], ['en', 'de'], ['en', 'de']]\n"
     ]
    }
   ],
   "source": [
    "sentence_df = pd.read_csv(RAW_SENTENCE_TSV, delimiter='\\t')\n",
    "sentence_df.head()\n",
    "sents = sentence_df[\"source\"].tolist()\n",
    "print(sentence_df[\"target\"].tolist())\n",
    "targets = sentence_df[\"target_locale\"].tolist()\n",
    "sources = sentence_df[\"source_locale\"].tolist()\n",
    "langs = [ [sources[x],targets[x]] for x in range(len(sources))]\n",
    "print(langs)\n",
    "# sents"
   ],
   "metadata": {
    "collapsed": false,
    "ExecuteTime": {
     "end_time": "2024-09-23T23:51:31.581858Z",
     "start_time": "2024-09-23T23:51:31.559660Z"
    }
   },
   "id": "47021c77a038d739"
  },
  {
   "cell_type": "code",
   "execution_count": 5,
   "outputs": [
    {
     "data": {
      "text/plain": "['Q1539509_0', 'Q2475229_0', 'Q79089380_0', 'Q80546046_0']"
     },
     "execution_count": 5,
     "metadata": {},
     "output_type": "execute_result"
    }
   ],
   "source": [
    "sids = sentence_df[\"id\"].tolist()\n",
    "# sids = [i.replace('d', 'i') for i in sids]\n",
    "sids[:4]"
   ],
   "metadata": {
    "collapsed": false,
    "ExecuteTime": {
     "end_time": "2024-09-23T23:51:31.585087Z",
     "start_time": "2024-09-23T23:51:31.581527Z"
    }
   },
   "id": "71402ea706257025"
  },
  {
   "cell_type": "code",
   "execution_count": 6,
   "outputs": [],
   "source": [
    "# len(sids), len(sents)"
   ],
   "metadata": {
    "collapsed": false,
    "ExecuteTime": {
     "start_time": "2024-09-23T23:51:31.586351Z"
    }
   },
   "id": "b3861ba466e11ffc"
  },
  {
   "cell_type": "markdown",
   "source": [
    "# TRANSLATE"
   ],
   "metadata": {
    "collapsed": false
   },
   "id": "5503125cdea76173"
  },
  {
   "cell_type": "code",
   "execution_count": 7,
   "outputs": [
    {
     "data": {
      "text/plain": "[{'language': 'ab', 'name': 'Abkhaz'},\n {'language': 'ace', 'name': 'Acehnese'},\n {'language': 'ach', 'name': 'Acholi'},\n {'language': 'aa', 'name': 'Afar'},\n {'language': 'af', 'name': 'Afrikaans'},\n {'language': 'sq', 'name': 'Albanian'},\n {'language': 'alz', 'name': 'Alur'},\n {'language': 'am', 'name': 'Amharic'},\n {'language': 'ar', 'name': 'Arabic'},\n {'language': 'hy', 'name': 'Armenian'},\n {'language': 'as', 'name': 'Assamese'},\n {'language': 'av', 'name': 'Avar'},\n {'language': 'awa', 'name': 'Awadhi'},\n {'language': 'ay', 'name': 'Aymara'},\n {'language': 'az', 'name': 'Azerbaijani'},\n {'language': 'ban', 'name': 'Balinese'},\n {'language': 'bal', 'name': 'Baluchi'},\n {'language': 'bm', 'name': 'Bambara'},\n {'language': 'bci', 'name': 'Baoulé'},\n {'language': 'ba', 'name': 'Bashkir'},\n {'language': 'eu', 'name': 'Basque'},\n {'language': 'btx', 'name': 'Batak Karo'},\n {'language': 'bts', 'name': 'Batak Simalungun'},\n {'language': 'bbc', 'name': 'Batak Toba'},\n {'language': 'be', 'name': 'Belarusian'},\n {'language': 'bem', 'name': 'Bemba'},\n {'language': 'bn', 'name': 'Bengali'},\n {'language': 'bew', 'name': 'Betawi'},\n {'language': 'bho', 'name': 'Bhojpuri'},\n {'language': 'bik', 'name': 'Bikol'},\n {'language': 'bs', 'name': 'Bosnian'},\n {'language': 'br', 'name': 'Breton'},\n {'language': 'bg', 'name': 'Bulgarian'},\n {'language': 'bua', 'name': 'Buryat'},\n {'language': 'yue', 'name': 'Cantonese'},\n {'language': 'ca', 'name': 'Catalan'},\n {'language': 'ceb', 'name': 'Cebuano'},\n {'language': 'ch', 'name': 'Chamorro'},\n {'language': 'ce', 'name': 'Chechen'},\n {'language': 'ny', 'name': 'Chichewa'},\n {'language': 'zh', 'name': 'Chinese (Simplified)'},\n {'language': 'zh-TW', 'name': 'Chinese (Traditional)'},\n {'language': 'chk', 'name': 'Chuukese'},\n {'language': 'cv', 'name': 'Chuvash'},\n {'language': 'co', 'name': 'Corsican'},\n {'language': 'crh', 'name': 'Crimean Tatar'},\n {'language': 'hr', 'name': 'Croatian'},\n {'language': 'cs', 'name': 'Czech'},\n {'language': 'da', 'name': 'Danish'},\n {'language': 'fa-AF', 'name': 'Dari'},\n {'language': 'din', 'name': 'Dinka'},\n {'language': 'dv', 'name': 'Divehi'},\n {'language': 'doi', 'name': 'Dogri'},\n {'language': 'dov', 'name': 'Dombe'},\n {'language': 'nl', 'name': 'Dutch'},\n {'language': 'dyu', 'name': 'Dyula'},\n {'language': 'dz', 'name': 'Dzongkha'},\n {'language': 'en', 'name': 'English'},\n {'language': 'eo', 'name': 'Esperanto'},\n {'language': 'et', 'name': 'Estonian'},\n {'language': 'ee', 'name': 'Ewe'},\n {'language': 'fo', 'name': 'Faroese'},\n {'language': 'fj', 'name': 'Fijian'},\n {'language': 'tl', 'name': 'Filipino'},\n {'language': 'fi', 'name': 'Finnish'},\n {'language': 'fon', 'name': 'Fon'},\n {'language': 'fr', 'name': 'French'},\n {'language': 'fy', 'name': 'Frisian'},\n {'language': 'fur', 'name': 'Friulian'},\n {'language': 'ff', 'name': 'Fulfulde'},\n {'language': 'gaa', 'name': 'Ga'},\n {'language': 'gl', 'name': 'Galician'},\n {'language': 'lg', 'name': 'Ganda'},\n {'language': 'ka', 'name': 'Georgian'},\n {'language': 'de', 'name': 'German'},\n {'language': 'el', 'name': 'Greek'},\n {'language': 'gn', 'name': 'Guarani'},\n {'language': 'gu', 'name': 'Gujarati'},\n {'language': 'ht', 'name': 'Haitian Creole'},\n {'language': 'cnh', 'name': 'Hakha Chin'},\n {'language': 'ha', 'name': 'Hausa'},\n {'language': 'haw', 'name': 'Hawaiian'},\n {'language': 'iw', 'name': 'Hebrew'},\n {'language': 'hil', 'name': 'Hiligaynon'},\n {'language': 'hi', 'name': 'Hindi'},\n {'language': 'hmn', 'name': 'Hmong'},\n {'language': 'hu', 'name': 'Hungarian'},\n {'language': 'hrx', 'name': 'Hunsrik'},\n {'language': 'iba', 'name': 'Iban'},\n {'language': 'is', 'name': 'Icelandic'},\n {'language': 'ig', 'name': 'Igbo'},\n {'language': 'ilo', 'name': 'Iloko'},\n {'language': 'id', 'name': 'Indonesian'},\n {'language': 'ga', 'name': 'Irish Gaelic'},\n {'language': 'it', 'name': 'Italian'},\n {'language': 'jam', 'name': 'Jamaican Patois'},\n {'language': 'ja', 'name': 'Japanese'},\n {'language': 'jw', 'name': 'Javanese'},\n {'language': 'kac', 'name': 'Jingpo'},\n {'language': 'kl', 'name': 'Kalaallisut'},\n {'language': 'kn', 'name': 'Kannada'},\n {'language': 'kr', 'name': 'Kanuri'},\n {'language': 'pam', 'name': 'Kapampangan'},\n {'language': 'kk', 'name': 'Kazakh'},\n {'language': 'kha', 'name': 'Khasi'},\n {'language': 'km', 'name': 'Khmer'},\n {'language': 'cgg', 'name': 'Kiga'},\n {'language': 'kg', 'name': 'Kikongo'},\n {'language': 'rw', 'name': 'Kinyarwanda'},\n {'language': 'ktu', 'name': 'Kituba'},\n {'language': 'trp', 'name': 'Kokborok'},\n {'language': 'kv', 'name': 'Komi'},\n {'language': 'gom', 'name': 'Konkani'},\n {'language': 'ko', 'name': 'Korean'},\n {'language': 'kri', 'name': 'Krio'},\n {'language': 'ku', 'name': 'Kurdish (Kurmanji)'},\n {'language': 'ckb', 'name': 'Kurdish (Sorani)'},\n {'language': 'ky', 'name': 'Kyrgyz'},\n {'language': 'lo', 'name': 'Lao'},\n {'language': 'ltg', 'name': 'Latgalian'},\n {'language': 'la', 'name': 'Latin'},\n {'language': 'lv', 'name': 'Latvian'},\n {'language': 'lij', 'name': 'Ligurian'},\n {'language': 'li', 'name': 'Limburgan'},\n {'language': 'ln', 'name': 'Lingala'},\n {'language': 'lt', 'name': 'Lithuanian'},\n {'language': 'lmo', 'name': 'Lombard'},\n {'language': 'luo', 'name': 'Luo'},\n {'language': 'lb', 'name': 'Luxembourgish'},\n {'language': 'mk', 'name': 'Macedonian'},\n {'language': 'mad', 'name': 'Madurese'},\n {'language': 'mai', 'name': 'Maithili'},\n {'language': 'mak', 'name': 'Makassar'},\n {'language': 'mg', 'name': 'Malagasy'},\n {'language': 'ms', 'name': 'Malay'},\n {'language': 'ms-Arab', 'name': 'Malay (Jawi)'},\n {'language': 'ml', 'name': 'Malayalam'},\n {'language': 'mt', 'name': 'Maltese'},\n {'language': 'mam', 'name': 'Mam'},\n {'language': 'gv', 'name': 'Manx'},\n {'language': 'mi', 'name': 'Maori'},\n {'language': 'mr', 'name': 'Marathi'},\n {'language': 'mh', 'name': 'Marshallese'},\n {'language': 'mwr', 'name': 'Marwadi'},\n {'language': 'mfe', 'name': 'Mauritian Creole'},\n {'language': 'chm', 'name': 'Meadow Mari'},\n {'language': 'mni-Mtei', 'name': 'Meiteilon (Manipuri)'},\n {'language': 'min', 'name': 'Minang'},\n {'language': 'lus', 'name': 'Mizo'},\n {'language': 'mn', 'name': 'Mongolian'},\n {'language': 'my', 'name': 'Myanmar (Burmese)'},\n {'language': 'nhe', 'name': 'Nahuatl (Eastern Huasteca)'},\n {'language': 'ndc-ZW', 'name': 'Ndau'},\n {'language': 'nr', 'name': 'Ndebele (South)'},\n {'language': 'new', 'name': 'Nepalbhasa (Newari)'},\n {'language': 'ne', 'name': 'Nepali'},\n {'language': 'bm-Nkoo', 'name': 'NKo'},\n {'language': 'nso', 'name': 'Northern Sotho'},\n {'language': 'no', 'name': 'Norwegian'},\n {'language': 'nus', 'name': 'Nuer'},\n {'language': 'oc', 'name': 'Occitan'},\n {'language': 'or', 'name': 'Odia (Oriya)'},\n {'language': 'om', 'name': 'Oromo'},\n {'language': 'os', 'name': 'Ossetian'},\n {'language': 'pag', 'name': 'Pangasinan'},\n {'language': 'pap', 'name': 'Papiamento'},\n {'language': 'ps', 'name': 'Pashto'},\n {'language': 'fa', 'name': 'Persian'},\n {'language': 'pl', 'name': 'Polish'},\n {'language': 'pt', 'name': 'Portuguese'},\n {'language': 'pt-PT', 'name': 'Portuguese (Portugal)'},\n {'language': 'pa', 'name': 'Punjabi'},\n {'language': 'pa-Arab', 'name': 'Punjabi (Shahmukhi)'},\n {'language': 'kek', 'name': \"Q'eqchi'\"},\n {'language': 'qu', 'name': 'Quechua'},\n {'language': 'rom', 'name': 'Romani'},\n {'language': 'ro', 'name': 'Romanian'},\n {'language': 'rn', 'name': 'Rundi'},\n {'language': 'ru', 'name': 'Russian'},\n {'language': 'se', 'name': 'Sami (North)'},\n {'language': 'sm', 'name': 'Samoan'},\n {'language': 'sg', 'name': 'Sango'},\n {'language': 'sa', 'name': 'Sanskrit'},\n {'language': 'sat-Latn', 'name': 'Santali'},\n {'language': 'gd', 'name': 'Scots Gaelic'},\n {'language': 'sr', 'name': 'Serbian'},\n {'language': 'st', 'name': 'Sesotho'},\n {'language': 'crs', 'name': 'Seychellois Creole'},\n {'language': 'shn', 'name': 'Shan'},\n {'language': 'sn', 'name': 'Shona'},\n {'language': 'scn', 'name': 'Sicilian'},\n {'language': 'szl', 'name': 'Silesian'},\n {'language': 'sd', 'name': 'Sindhi'},\n {'language': 'si', 'name': 'Sinhala'},\n {'language': 'sk', 'name': 'Slovak'},\n {'language': 'sl', 'name': 'Slovenian'},\n {'language': 'so', 'name': 'Somali'},\n {'language': 'es', 'name': 'Spanish'},\n {'language': 'su', 'name': 'Sundanese'},\n {'language': 'sus', 'name': 'Susu'},\n {'language': 'sw', 'name': 'Swahili'},\n {'language': 'ss', 'name': 'Swati'},\n {'language': 'sv', 'name': 'Swedish'},\n {'language': 'ty', 'name': 'Tahitian'},\n {'language': 'tg', 'name': 'Tajik'},\n {'language': 'ber-Latn', 'name': 'Tamazight'},\n {'language': 'ber', 'name': 'Tamazight (Tifinagh)'},\n {'language': 'ta', 'name': 'Tamil'},\n {'language': 'tt', 'name': 'Tatar'},\n {'language': 'te', 'name': 'Telugu'},\n {'language': 'tet', 'name': 'Tetum'},\n {'language': 'th', 'name': 'Thai'},\n {'language': 'bo', 'name': 'Tibetan'},\n {'language': 'ti', 'name': 'Tigrinya'},\n {'language': 'tiv', 'name': 'Tiv'},\n {'language': 'tpi', 'name': 'Tok Pisin'},\n {'language': 'to', 'name': 'Tongan'},\n {'language': 'ts', 'name': 'Tsonga'},\n {'language': 'tn', 'name': 'Tswana'},\n {'language': 'tcy', 'name': 'Tulu'},\n {'language': 'tum', 'name': 'Tumbuka'},\n {'language': 'tr', 'name': 'Turkish'},\n {'language': 'tk', 'name': 'Turkmen'},\n {'language': 'tyv', 'name': 'Tuvan'},\n {'language': 'ak', 'name': 'Twi'},\n {'language': 'udm', 'name': 'Udmurt'},\n {'language': 'uk', 'name': 'Ukrainian'},\n {'language': 'ur', 'name': 'Urdu'},\n {'language': 'ug', 'name': 'Uyghur'},\n {'language': 'uz', 'name': 'Uzbek'},\n {'language': 've', 'name': 'Venda'},\n {'language': 'vec', 'name': 'Venetian'},\n {'language': 'vi', 'name': 'Vietnamese'},\n {'language': 'war', 'name': 'Waray'},\n {'language': 'cy', 'name': 'Welsh'},\n {'language': 'wo', 'name': 'Wolof'},\n {'language': 'xh', 'name': 'Xhosa'},\n {'language': 'sah', 'name': 'Yakut'},\n {'language': 'yi', 'name': 'Yiddish'},\n {'language': 'yo', 'name': 'Yoruba'},\n {'language': 'yua', 'name': 'Yucatec Maya'},\n {'language': 'zap', 'name': 'Zapotec'},\n {'language': 'zu', 'name': 'Zulu'},\n {'language': 'he', 'name': 'Hebrew'},\n {'language': 'jv', 'name': 'Javanese'},\n {'language': 'zh-CN', 'name': 'Chinese (Simplified)'}]"
     },
     "execution_count": 7,
     "metadata": {},
     "output_type": "execute_result"
    }
   ],
   "source": [
    "# get languages\n",
    "client = translate.Client()\n",
    "languages = client.get_languages()\n",
    "languages"
   ],
   "metadata": {
    "collapsed": false,
    "ExecuteTime": {
     "end_time": "2024-09-23T23:51:32.324559Z",
     "start_time": "2024-09-23T23:51:31.589093Z"
    }
   },
   "id": "47d154e8c35949cf"
  },
  {
   "cell_type": "code",
   "execution_count": 8,
   "outputs": [
    {
     "data": {
      "text/plain": "('en', 'es')"
     },
     "execution_count": 8,
     "metadata": {},
     "output_type": "execute_result"
    }
   ],
   "source": [
    "src_lan, tgt_lan"
   ],
   "metadata": {
    "collapsed": false,
    "ExecuteTime": {
     "end_time": "2024-09-23T23:51:32.336868Z",
     "start_time": "2024-09-23T23:51:32.325075Z"
    }
   },
   "id": "8ddc6eea0e2598b5"
  },
  {
   "cell_type": "code",
   "execution_count": 19,
   "outputs": [
    {
     "name": "stderr",
     "output_type": "stream",
     "text": [
      "100%|██████████| 200/200 [01:21<00:00,  2.45it/s]\n"
     ]
    },
    {
     "data": {
      "text/plain": "[{'translatedText': 'Görünmez Adam hangi türe aittir?',\n  'input': 'What genre does <<>> belong to?'},\n {'translatedText': 'Mulheres Apaixonadas dizisi ilk ne zaman yayınlandı?',\n  'input': 'When was the TV series Mulheres Apaixonadas first aired?'},\n {'translatedText': 'Sefirin Kızı dizisinin kaç sezonu var?',\n  'input': 'How many seasons of <<>> are there?'},\n {'translatedText': 'Kedilere Bulaşmayın: İnternette Katil Avı dizisinin ana odağı nedir?',\n  'input': 'What is the main focus of the TV series <<>>?'},\n {'translatedText': \"9. Senfoni'de kaç hareket var?\",\n  'input': 'How many movements are there in <<>>?'},\n {'translatedText': \"René Descartes' Yöntem Üzerine Söylem'i kısaca açıklayabilir misiniz?\",\n  'input': \"Can you give a brief description of <<>>' Discourse on the Method?\"},\n {'translatedText': \"Üç Silahşörler'in türü nedir?\",\n  'input': 'What is the genre of <<>>?'},\n {'translatedText': 'Aziz Vasil Katedrali ne zaman inşa edildi?',\n  'input': 'When was <<>> built?'},\n {'translatedText': 'Maymunlar Cehennemi olayları hangi ülkede gerçekleşti?',\n  'input': 'In which country did the events of <<>> take place?'},\n {'translatedText': \"Türk'in satranç oynama yeteneği konusunda herhangi bir söylenti veya tartışma var mıydı?\",\n  'input': \"Were there any rumors or controversies surrounding <<>>'s ability to play chess?\"},\n {'translatedText': \"Berliner Dom'i nasıl tanımlarsınız?\",\n  'input': 'How would you describe the <<>>?'},\n {'translatedText': 'Rusya Devlet Başkanı nasıl seçilir?',\n  'input': 'How is the <<>> elected?'},\n {'translatedText': 'Çernobil Nükleer Santrali&#39;nde başmühendis yardımcısı olarak görev yapan Anatoli Dyatlov&#39;un görevleri nelerdi?',\n  'input': 'What were the responsibilities of Anatoly Dyatlov as the deputy chief-engineer at the Chernobyl Nuclear Power Plant?'},\n {'translatedText': 'Hangi dini metinlerde Atababalar Mağarası ifadesi geçmektedir?',\n  'input': 'What religious texts mention the <<>>?'},\n {'translatedText': 'Star Wars evreninde Legend of the Galactic Heroes simgesinin anlamı nedir?',\n  'input': 'What is the symbol of the <<>> in the Star Wars universe?'},\n {'translatedText': 'Mescid-i Nebevî kaç kişiyi ağırlayabilir?',\n  'input': 'How many people can the <<>> accommodate?'},\n {'translatedText': \"Hüzün Kenti'in türü nedir?\",\n  'input': 'What is the genre of <<>>?'},\n {'translatedText': \"Aleksey Nikolayeviç Romanov Rusya Çareviç'i kimdir?\",\n  'input': 'Who was <<>>, Tsarevich of Russia?'},\n {'translatedText': 'Hangi ünlü slogan Simpson ailesiyle ilişkilendirilir?',\n  'input': 'Which famous catchphrase is associated with the Simpson family?'},\n {'translatedText': 'kuşburnu tüketmenin herhangi bir sağlık yararı var mı?',\n  'input': 'Are there any health benefits associated with consuming <<>>?'},\n {'translatedText': '¿Quién coreografió el ballet original de 1910 de El pájaro de fuego?',\n  'input': 'Who choreographed the original 1910 ballet of <<>>?'},\n {'translatedText': '¿Cuántas personas puede albergar el Mezquita del Profeta?',\n  'input': 'How many people can the <<>> accommodate?'},\n {'translatedText': '¿En qué país ocurrieron los acontecimientos de El planeta de los simios?',\n  'input': 'In which country did the events of <<>> take place?'},\n {'translatedText': '¿Puedes cantar el coro de la canción popular Corro de la patata?',\n  'input': 'Can you sing the chorus of the folk song <<>>?'},\n {'translatedText': '¿Cuál es el género de La guerra de los mundos?',\n  'input': 'What is the genre of <<>>?'},\n {'translatedText': '¿Por qué estilo arquitectónico es conocido el Gran Mezquita de Aleppo?',\n  'input': 'What architectural style is the <<>> known for?'},\n {'translatedText': '¿Dónde puedo ver la serie de televisión The Santa Clauses?',\n  'input': 'Where can you watch the TV series The Santa Clauses?'},\n {'translatedText': '¿De qué tipo de colina está hecha Cuevas de Batu?',\n  'input': 'What type of hill is <<>> made of?'},\n {'translatedText': '¿Qué supuestamente predice el Profecías sobre los papas?',\n  'input': 'What does the <<>> supposedly predict?'},\n {'translatedText': '¿Quiénes son las principales fuerzas antagónicas en el Poniente?',\n  'input': 'Who are the main antagonistic forces in the <<>>?'},\n {'translatedText': '¿Cuál es el género de Ciudad doliente?',\n  'input': 'What is the genre of <<>>?'},\n {'translatedText': '¿Cuál es el género de Los viajes de Gulliver?',\n  'input': 'What is the genre of <<>>?'},\n {'translatedText': '¿Quiénes fueron los protagonistas de Los pilares de la Tierra?',\n  'input': 'Who was the main cast of <<>>?'},\n {'translatedText': '¿A qué género pertenece El hombre invisible?',\n  'input': 'What genre does <<>> belong to?'},\n {'translatedText': '¿Cuál era el propósito original del Catedral de Cristo Salvador?',\n  'input': 'What was the original purpose of the <<>>?'},\n {'translatedText': '¿Cómo se come un Prunus persica var platycarpa?',\n  'input': 'How do you eat a <<>>?'},\n {'translatedText': '¿Cómo describirías La princesa y el guisante en una palabra?',\n  'input': 'How would you describe <<>> in one word?'},\n {'translatedText': '¿Cuál es el significado histórico del Monasterio de los Jerónimos de Belém?',\n  'input': 'What is the historical significance of the <<>>?'},\n {'translatedText': '¿Cuál es el significado del Basílica de Nuestra Señora de Guadalupe en la cultura mexicana?',\n  'input': 'What is the significance of the <<>> in Mexican culture?'},\n {'translatedText': '¿Quién es María, Princesa Real y Condesa de Harewood?',\n  'input': 'Who is Mary, Princess Royal and Countess of Harewood?'},\n {'translatedText': 'Qui sont les personnages principaux du film Les Quatre Filles du docteur March?',\n  'input': 'Who are the main characters in the movie <<>>?'},\n {'translatedText': 'Qui sont les acteurs principaux du film 7. Koğuştaki Mucize?',\n  'input': 'Who are the main actors in the movie <<>>?'},\n {'translatedText': 'Comment les oignons gallois peuvent-ils être cultivés et récoltés dans les jardins familiaux ?',\n  'input': 'How can Welsh onions be grown and harvested in home gardens?'},\n {'translatedText': 'Quel est le genre de A City of Sadness ?',\n  'input': 'What is the genre of A City of Sadness?'},\n {'translatedText': 'Comment décririez-vous La Princesse au petit pois en un mot ?',\n  'input': 'How would you describe <<>> in one word?'},\n {'translatedText': 'De quel type de colline est fait grottes de Batu ?',\n  'input': 'What type of hill is <<>> made of?'},\n {'translatedText': 'Où peut-on regarder la série télévisée Les Pères Noël ?',\n  'input': 'Where can you watch the TV series The Santa Clauses?'},\n {'translatedText': 'Le Passion selon Saint Matthieu est-il un oratorio sacré ?',\n  'input': 'Is the <<>> a sacred oratorio?'},\n {'translatedText': 'Quelle était la prémisse de la série télévisée Saison 2 de la Vie de famille?',\n  'input': 'What was the premise of the TV series <<>>?'},\n {'translatedText': \"Pour quel instrument la suite Tableaux d'une exposition est-elle écrite ?\",\n  'input': 'What instrument is the suite <<>> written for?'},\n {'translatedText': 'Quel est le genre de Les Voyages de Gulliver?',\n  'input': 'What is the genre of <<>>?'},\n {'translatedText': 'Quel slogan célèbre est associé à la famille Simpson\\xa0?',\n  'input': 'Which famous catchphrase is associated with the Simpson family?'},\n {'translatedText': 'Selon les rabbins, que pouvait apprendre Salomon du Sceau de Salomon ?',\n  'input': 'According to the Rabbins, what could Solomon learn from the Seal of Solomon?'},\n {'translatedText': 'Quelle est la hauteur de la tour Ostankino à Moscou ?',\n  'input': 'How tall is the Ostankino Tower in Moscow?'},\n {'translatedText': 'Pouvez-vous nous donner un bref résumé du film Le Masque de Zorro ?',\n  'input': 'Can you provide a brief summary of the movie The Mask of Zorro?'},\n {'translatedText': 'Dans quel pays ont eu lieu les événements de La Planète des singes ?',\n  'input': 'In which country did the events of <<>> take place?'},\n {'translatedText': 'Quelle est l’origine de Viktor Iouchtchenko ?',\n  'input': 'Where is Viktor Yushchenko from?'},\n {'translatedText': \"À quel genre appartient L'Homme invisible ?\",\n  'input': 'What genre does <<>> belong to?'},\n {'translatedText': 'Qui a finalement fini avec le pomme de discorde et pourquoi ?',\n  'input': 'Who eventually ended up with the <<>> and why?'},\n {'translatedText': 'Qui est Mary, princesse royale et comtesse de Harewood ?',\n  'input': 'Who is Mary, Princess Royal and Countess of Harewood?'},\n {'translatedText': '宇宙戦争のジャンルは何ですか？', 'input': 'What is the genre of <<>>?'},\n {'translatedText': '映画「7番房の奇跡」の主演俳優は誰ですか？',\n  'input': 'Who are the main actors in the movie <<>>?'},\n {'translatedText': 'ガリバー旅行記のジャンルは何ですか？',\n  'input': 'What is the genre of <<>>?'},\n {'translatedText': 'マリー・ド・ブルゴーニュはマクシミリアン1世皇帝とどのくらいの期間結婚していたのでしょうか?',\n  'input': 'How long was Mary of Burgundy married to Emperor Maximilian I?'},\n {'translatedText': '中世西洋音楽 の主な作曲家は誰ですか?',\n  'input': 'Who were the main composers of <<>>?'},\n {'translatedText': '加藤清史郎 はどの業界で働いていますか?',\n  'input': 'In which industry does <<>> work?'},\n {'translatedText': '透明人間 はどのジャンルに属しますか?',\n  'input': 'What genre does <<>> belong to?'},\n {'translatedText': 'フォースタス博士 の有名なシーンを 1 つ挙げてください。',\n  'input': 'Name one famous scene from <<>>?'},\n {'translatedText': '冬のライオン の主なテーマは何ですか?',\n  'input': 'What is the main theme of <<>>?'},\n {'translatedText': 'ハギア・エカテリニ修道院 はどの宗教宗派と関係がありますか?',\n  'input': 'Which religious denomination is <<>> associated with?'},\n {'translatedText': 'テレビシリーズ「ファミリー・アフェア」の制作者は誰ですか?',\n  'input': 'Who was the creator of the TV series <<>>?'},\n {'translatedText': 'パン酵母 はグルテンフリーのベーキングに使用できますか?',\n  'input': 'Can <<>> be used in gluten-free baking?'},\n {'translatedText': '国際単位系 の接頭辞とその記号は何ですか?',\n  'input': 'What are the prefixes in the <<>> and their symbols?'},\n {'translatedText': 'ハッサン塔 を構築したのは誰ですか?', 'input': 'Who built <<>>?'},\n {'translatedText': 'シンプソン ファミリーに関連する有名なキャッチフレーズはどれですか?',\n  'input': 'Which famous catchphrase is associated with the <<>> family?'},\n {'translatedText': 'テレビシリーズ「&gt;&gt;」の設定は何でしたか?',\n  'input': 'What was the premise of the TV series <<>>?'},\n {'translatedText': 'THE NEVER ENDING STORY について簡単に説明していただけますか?',\n  'input': 'Can you provide a brief description of <<>>?'},\n {'translatedText': '平らな桃はどうやって食べますか？',\n  'input': 'How do you eat a flat peach?'},\n {'translatedText': '民謡「a」のコーラスを歌えますか？',\n  'input': 'Can you sing the chorus of the folk song <<>>?'},\n {'translatedText': 'エンドウ豆の上に寝たお姫さま を一言で説明するとしたら何でしょうか?',\n  'input': 'How would you describe <<>> in one word?'},\n {'translatedText': '해바라기 씨앗이 자라서 성숙한 해바라기가 되기까지 얼마나 걸리나요?',\n  'input': 'How long does it take for a sunflower seed to grow into a mature sunflower?'},\n {'translatedText': '성난 군중으로부터 멀리는 어떤 종류의 예술 작품인가요?',\n  'input': 'What type of artwork is <<>>?'},\n {'translatedText': '호간의 영웅들는 몇 시즌이나 제작되었나요?',\n  'input': 'How many seasons of <<>> were produced?'},\n {'translatedText': '우주 전쟁의 장르는 무엇인가요?',\n  'input': 'What is the genre of <<>>?'},\n {'translatedText': '하르만디르 사히브의 일반적인 별명은 무엇입니까?',\n  'input': 'What is the nickname commonly used for Harmandir Sahib?'},\n {'translatedText': '퀸 오브 뱀파이어에서 주연을 맡은 사람은 누구인가요?',\n  'input': 'Who plays the lead role in <<>>?'},\n {'translatedText': '출처 표기와 관련된 마카크원숭이 사진과 관련된 유명 예술가 또는 사진 작가는 누구입니까?',\n  'input': 'Who are some prominent artists or photographers associated with the attribution-debated <<>> photos?'},\n {'translatedText': '영화 철가면에서 주인공을 연기한 사람은 누구였나요?',\n  'input': 'Who played the titular character in the film <<>>?'},\n {'translatedText': '스타워즈의 데스스타는 어떤 종류의 우주 정거장인가요?',\n  'input': 'What type of space station is the <<>> in Star Wars?'},\n {'translatedText': '안드로이드는 전기 양의 꿈을 꾸는가?는 어떤 종류의 예술 작품인가요?',\n  'input': 'What type of artwork is <<>>?'},\n {'translatedText': '화이트 와인을 제공하기에 가장 적합한 온도는 얼마인가요?',\n  'input': 'What temperature is best for serving white wine?'},\n {'translatedText': '결국 불화의 사과를 갖게 된 사람은 누구이며, 왜 그럴까?',\n  'input': 'Who eventually ended up with the <<>> and why?'},\n {'translatedText': '유시첸코는 어디에서 왔나요?', 'input': 'Where is <<>> from?'},\n {'translatedText': '스페인의 문장의 역사적 기원을 설명해주시겠습니까?',\n  'input': 'Can you explain the historical origins of the coat of arms of <<>>?'},\n {'translatedText': '체르노빌 원자력 발전소의 부수석 엔지니어로서 아나톨리 댜틀로프의 책임은 무엇이었나요?',\n  'input': 'What were the responsibilities of <<>> as the deputy chief-engineer at the Chernobyl Nuclear Power Plant?'},\n {'translatedText': 'TV 시리즈 MC 해머의 제작자는 누구입니까?',\n  'input': 'Who was the creator of the TV series <<>>?'},\n {'translatedText': '자기만의 방 책의 장르를 어떻게 설명하시겠습니까?',\n  'input': 'How would you describe the genre of the book <<>>?'},\n {'translatedText': 'TV 시리즈 모두들의 전제는 무엇이었나요?',\n  'input': 'What was the premise of the TV series <<>>?'},\n {'translatedText': '성전산에서는 어떤 주요 역사적 사건이 일어났나요?',\n  'input': 'What major historical events have taken place at <<>>?'},\n {'translatedText': '님기름를 섭취하면 신체에 어떤 이점이 있나요?',\n  'input': 'How does <<>> benefit the body when consumed?'},\n {'translatedText': '瓦納姆修道院最初是用来做什么的？',\n  'input': 'What was <<>> originally used for?'},\n {'translatedText': '《》的主角是谁演的？',\n  'input': 'Who played the lead role in <<>>?'},\n {'translatedText': '《》发布的行政命令会带来什么后果？',\n  'input': 'What are the consequences of the executive orders issued in <<>>?'},\n {'translatedText': '电影《&gt;&gt;》的主要演员都有谁？',\n  'input': 'Who were the main actors in the film <<>>?'},\n {'translatedText': '賈西亞·馬奎斯的中篇小说《无人给上校写信》的长度是多少？',\n  'input': \"What is the length of <<>>'s novella No One Writes to the Colonel?\"},\n {'translatedText': '游客可以进入《單身清真寺吗？', 'input': 'Can visitors enter the <<>>?'},\n {'translatedText': '安哈尔特-科滕亲王卡尔·乔治·勒布雷希特是哪个国籍？',\n  'input': 'What nationality was Karl George Lebrecht, Prince of Anhalt-Köthen?'},\n {'translatedText': '所有宗教的游客都可以进入阿尔及利亚的《》吗？',\n  'input': 'Can visitors of all religions enter the <<>> in Algeria?'},\n {'translatedText': '《&lt;&lt;》的主题是什么？',\n  'input': 'What is the subject matter of <<>>?'},\n {'translatedText': '《》第一集什么时候播出？',\n  'input': 'When was the first episode of <<>> aired?'},\n {'translatedText': '电影《》的剧本是谁写的？',\n  'input': 'Who wrote the screenplay for the movie <<>>?'},\n {'translatedText': '《阿雷佐驱魔记》这幅画的作者是谁？',\n  'input': 'Who is the artist behind the painting named Exorcism of the Demons at Arezzo?'},\n {'translatedText': '在哪里可以观看《保姆》电视连续剧的剧集？',\n  'input': 'Where can I watch episodes of the <<>> TV series?'},\n {'translatedText': '贾敬 的性格有哪些主要特征或特性？',\n  'input': \"What are some key characteristics or traits of <<>>'s personality?\"},\n {'translatedText': '《双胞胎》什么时候上映？', 'input': 'When was The Twin released?'},\n {'translatedText': '能否简单介绍一下电影《》？',\n  'input': 'Can you provide a brief description of the film <<>>?'},\n {'translatedText': '电视连续剧《&gt;&gt;》的创作者是谁？',\n  'input': 'Who created the TV series <<>>?'},\n {'translatedText': '您通常可以在哪里找到The O.C.戏剧表演的演出？',\n  'input': 'Where can you typically find productions of <<>> theater play?'},\n {'translatedText': '哪个宗教派别与《聖歐蒂米奧救世主修道院相关？',\n  'input': 'What religious denomination is associated with the <<>>?'},\n {'translatedText': '电视连续剧《&gt;&gt;什么时候播出？',\n  'input': 'When was the TV series <<>> first aired?'},\n {'translatedText': 'Come viene ricordato e onorato Yǔ nella storia e nella cultura cinese odierna?',\n  'input': 'How is <<>> remembered and honored in Chinese history and culture today?'},\n {'translatedText': 'Di che tipo di collina è fatta grotte di Batu?',\n  'input': 'What type of hill is <<>> made of?'},\n {'translatedText': 'Quali sono le principali forze antagoniste nel Il mondo del ghiaccio e del fuoco?',\n  'input': 'Who are the main antagonistic forces in the <<>>?'},\n {'translatedText': \"Qual è il tema principale di Il leone d'inverno?\",\n  'input': 'What is the main theme of <<>>?'},\n {'translatedText': \"Chi è l'autore del romanzo di fantascienza e giallo intitolato Inverso?\",\n  'input': 'Who is the author of the science fiction mystery-thriller novel called <<>>?'},\n {'translatedText': 'Quanto è alto cattedrale di Santa Sofia a Kiev?',\n  'input': 'How tall is <<>> in Kyiv?'},\n {'translatedText': \"Qual è l'ambientazione della serie TV Il colore delle magnolie?\",\n  'input': 'What is the setting of the <<>> TV series?'},\n {'translatedText': 'Esistono potenziali rischi di allergia associati al consumo di albume?',\n  'input': 'Are there any potential allergy risks associated with consuming <<>>?'},\n {'translatedText': 'Chi interpreta il ruolo principale in La regina dei dannati?',\n  'input': 'Who plays the lead role in <<>>?'},\n {'translatedText': 'Quale compositore ha composto Sinfonia n. 9?',\n  'input': 'Which composer composed <<>>?'},\n {'translatedText': 'Chi ha progettato la Tokyo Tower?',\n  'input': 'Who designed Tokyo Tower?'},\n {'translatedText': 'Quanto è alto il Torre di Ostankino a Mosca?',\n  'input': 'How tall is the <<>> in Moscow?'},\n {'translatedText': 'Sai cantare il ritornello della canzone popolare Ring a Ring o&#39; Roses?',\n  'input': \"Can you sing the chorus of the folk song Ring a Ring o' Roses?\"},\n {'translatedText': \"Chi ha coreografato il balletto originale del 1910 L'uccello di fuoco?\",\n  'input': 'Who choreographed the original 1910 ballet of <<>>?'},\n {'translatedText': 'Puoi dirmi una scena famosa tratta da La tragica storia del Dottor Faustus?',\n  'input': 'Name one famous scene from <<>>?'},\n {'translatedText': 'Per quanto tempo Maria di Borgogna rimase sposata con l&#39;imperatore Massimiliano I?',\n  'input': 'How long was Mary of Burgundy married to Emperor Maximilian I?'},\n {'translatedText': 'In quale settore lavora Seishirō Katō?',\n  'input': 'In which industry does <<>> work?'},\n {'translatedText': \"In che modo olio di neem apporta benefici all'organismo se consumato?\",\n  'input': 'How does <<>> benefit the body when consumed?'},\n {'translatedText': 'Quando è andato in onda il primo episodio di Stuck in the Middle?',\n  'input': 'When was the first episode of Stuck in the Middle aired?'},\n {'translatedText': \"Qual è il simbolo del Impero Galattico nell'universo di Star Wars?\",\n  'input': 'What is the symbol of the <<>> in the Star Wars universe?'},\n {'translatedText': 'هل يمكن استخدام دقيق الشوفان في الخبز؟',\n  'input': 'Can <<>> be used in baking?'},\n {'translatedText': 'من هو مخرج الفيلم القادم أغنية الطيور المغردة والثعابين؟',\n  'input': 'Who is directing the upcoming film <<>>?'},\n {'translatedText': 'ما هي النصوص الدينية التي تذكر المسجد الإبراهيمي؟',\n  'input': 'What religious texts mention the <<>>?'},\n {'translatedText': 'كم عدد مواسم هوجانز هيروز التي تم إنتاجها؟',\n  'input': 'How many seasons of <<>> were produced?'},\n {'translatedText': 'متى تم عرض سلم إلى الجنة لأول مرة على شاشة التلفزيون؟',\n  'input': 'When was <<>> first aired on television?'},\n {'translatedText': 'كم عدد الفصول في كتاب الموتى؟',\n  'input': 'How many chapters are in the <<>>?'},\n {'translatedText': 'ما هو نوع حرب العوالم؟',\n  'input': 'What is the genre of <<>>?'},\n {'translatedText': 'ما هي فكرة المسلسل التلفزيوني فاملي ماتتيرس؟',\n  'input': 'What was the premise of the TV series <<>>?'},\n {'translatedText': 'من مؤلف سير المتطوعين؟', 'input': 'Who composed <<>>?'},\n {'translatedText': 'كم عدد الأشخاص الذين يمكن أن يستوعبهم المسجد النبوي؟',\n  'input': 'How many people can the <<>> accommodate?'},\n {'translatedText': 'من هم الممثلون الرئيسيون في الفيلم معجزة في الزنزانة 7؟',\n  'input': 'Who are the main actors in the movie <<>>?'},\n {'translatedText': 'من هم الممثلون الرئيسيون في أفضل ما يمكن حصوله؟',\n  'input': 'Who were the main actors in <<>>?'},\n {'translatedText': 'هل كانت هناك أي شائعات أو خلافات حول قدرة التورك على لعب الشطرنج؟',\n  'input': \"Were there any rumors or controversies surrounding <<>>'s ability to play chess?\"},\n {'translatedText': 'ما هو إعداد المسلسل التلفزيوني كبرياء وتحامل؟',\n  'input': 'What is the setting of the <<>> TV series?'},\n {'translatedText': 'هل يمكن استخدام خميرة الخباز في الخبز الخالي من الجلوتين؟',\n  'input': 'Can <<>> be used in gluten-free baking?'},\n {'translatedText': 'متى تم أداء السيمفونية الخامسة لأول مرة؟',\n  'input': 'When was <<>> first performed?'},\n {'translatedText': 'هل يمكنك تقديم ملخص موجز للفيلم قناع زورو؟',\n  'input': 'Can you provide a brief summary of the movie <<>>?'},\n {'translatedText': 'ما نوع محطة الفضاء نجم الموت في حرب النجوم؟',\n  'input': 'What type of space station is the <<>> in Star Wars?'},\n {'translatedText': 'هل يمكنك تقديم وصف موجز للسلالة الملكية فوزية بنت فؤاد الأول؟',\n  'input': \"Can you provide a brief description of <<>>'s royal lineage?\"},\n {'translatedText': 'ما هي مسؤوليات أناتولي دياتلوف كنائب كبير المهندسين في محطة تشيرنوبيل للطاقة النووية؟',\n  'input': 'What were the responsibilities of <<>> as the deputy chief-engineer at the Chernobyl Nuclear Power Plant?'},\n {'translatedText': 'เจ้าหญิงเซซีลีแห่งกรีซและเดนมาร์ก คือใคร?',\n  'input': 'Who was <<>>?'},\n {'translatedText': 'สัญลักษณ์แห่งเสรีภาพของมนุษย์ในศาสนาสมมติเรื่อง ลัทธิซาตานลาวี คืออะไร?',\n  'input': 'What is the symbol of human freedom in the fictional religion of <<>>?'},\n {'translatedText': 'ตัวละครหลักใน พยัคฆ์เหนือพยัคฆ์ มีใครบ้าง?',\n  'input': 'Who are some of the main characters in <<>>?'},\n {'translatedText': 'มีเหตุการณ์ประวัติศาสตร์สำคัญๆ อะไรเกิดขึ้นที่ เนินพระวิหาร?',\n  'input': 'What major historical events have taken place at <<>>?'},\n {'translatedText': 'เราจะบอกได้อย่างไรว่าไข่แดงสด?',\n  'input': 'How can you tell if an egg yolk is fresh?'},\n {'translatedText': 'วาซีลี บลูย์เคียร์ เป็นที่รู้จักมากที่สุดในการให้บริการทางทหารคืออะไร?',\n  'input': 'What is <<>> most known for in his military service?'},\n {'translatedText': 'เสียงเรียกของคธูลู เป็นประเภทอะไร?',\n  'input': 'What is the genre of <<>>?'},\n {'translatedText': 'เมล็ดทานตะวันต้องใช้เวลานานเท่าใดจึงจะเติบโตเป็นทานตะวันโตเต็มที่?',\n  'input': 'How long does it take for a sunflower seed to grow into a mature sunflower?'},\n {'translatedText': 'คุณสามารถตั้งชื่อจุดหมายปลายทางที่น่าจดจำที่ได้ไปเยือนในนวนิยายเรื่องนี้ได้หรือไม่?',\n  'input': 'Can you name any of the memorable destinations visited in the novel <<>>?'},\n {'translatedText': 'Saint Sophia Cathedral in Kyiv ในเคียฟ สูงเท่าไหร่?',\n  'input': 'How tall is <<>> in Kyiv?'},\n {'translatedText': 'ตัวละครหลักใน Pokémon Horizons: The Series คือใคร?',\n  'input': 'Who are the main characters in Pokémon Horizons: The Series?'},\n {'translatedText': 'ใครเป็นผู้กำกับภาพยนตร์เรื่อง The Hunger Games: The Ballad of Songbirds and Snakes ที่กำลังจะฉายเร็ว ๆ นี้?',\n  'input': 'Who is directing the upcoming film The Hunger Games: The Ballad of Songbirds and Snakes?'},\n {'translatedText': 'ไวท์ช็อคโกแลตใช้ในการทำขนมและของหวานได้ไหม?',\n  'input': 'Can white chocolate be used in baking and desserts?'},\n {'translatedText': 'ถ้ำบาตู ทำมาจากเนินเขาประเภทไหน?',\n  'input': 'What type of hill is <<>> made of?'},\n {'translatedText': 'เครื่องหมาย สุสานจิ๋นซีฮ่องเต้ มีความสำคัญอย่างไร?',\n  'input': 'What is the significance of the <<>>?'},\n {'translatedText': 'ชุด งานนิทรรศการภาพวาด นี้เขียนขึ้นสำหรับเครื่องดนตรีอะไร?',\n  'input': 'What instrument is the suite <<>> written for?'},\n {'translatedText': 'กฏซาลิค ถูกบังคับใช้ภายใต้กฎของใคร?',\n  'input': 'Under whose rule was the <<>> enforced?'},\n {'translatedText': 'จอห์นนี เด็ปป์ เป็นประเภทไหน',\n  'input': 'What genre does <<>> belong to?'},\n {'translatedText': 'ซิมโฟนีหมายเลข 5 ได้รับการแสดงครั้งแรกเมื่อใด?',\n  'input': 'When was <<>> first performed?'},\n {'translatedText': 'ใครเป็นนักแสดงหลักในเพียงเธอ..รักนี้ดีสุดแล้ว?',\n  'input': 'Who were the main actors in <<>>?'},\n {'translatedText': 'Wie groß ist Sophienkathedrale in Kiew?',\n  'input': 'How tall is <<>> in Kyiv?'},\n {'translatedText': 'Wie lange war Maria von Burgund mit Kaiser Maximilian I. verheiratet?',\n  'input': 'How long was Mary of Burgundy married to Emperor Maximilian I?'},\n {'translatedText': 'Was ist das Genre von Krieg der Welten?',\n  'input': 'What is the genre of <<>>?'},\n {'translatedText': 'Woher kommt Wiktor Juschtschenko?',\n  'input': 'Where is <<>> from?'},\n {'translatedText': 'Was war der ursprüngliche Zweck des Christ-Erlöser-Kathedrale?',\n  'input': 'What was the original purpose of the <<>>?'},\n {'translatedText': 'Was ist das Genre von Die Stadt der Traurigkeit?',\n  'input': 'What is the genre of <<>>?'},\n {'translatedText': 'Wie können Winterzwiebeln im Hausgarten angebaut und geerntet werden?',\n  'input': 'How can Welsh onions be grown and harvested in home gardens?'},\n {'translatedText': 'Um welche Art von Entität handelt es sich bei Galaktische Republik?',\n  'input': 'What type of entity is the <<>>?'},\n {'translatedText': 'Kann Backhefe beim glutenfreien Backen verwendet werden?',\n  'input': 'Can <<>> be used in gluten-free baking?'},\n {'translatedText': 'Welchen Nutzen hat der Verzehr von Neemöl für den Körper?',\n  'input': 'How does <<>> benefit the body when consumed?'},\n {'translatedText': 'Welche Art von Kunstwerk ist Träumen Androiden von elektrischen Schafen??',\n  'input': 'What type of artwork is <<>>?'},\n {'translatedText': 'Wer sind die wichtigsten antagonistischen Kräfte im meereen?',\n  'input': 'Who are the main antagonistic forces in the <<>>?'},\n {'translatedText': 'Welche Bedeutung hat das Basilika Unserer Lieben Frau von Guadalupe in der mexikanischen Kultur?',\n  'input': 'What is the significance of the <<>> in Mexican culture?'},\n {'translatedText': 'Kann Schrödingers Katze gleichzeitig im aktiven und im inaktiven Zustand existieren?',\n  'input': 'Can <<>> exist in both live and dead states simultaneously?'},\n {'translatedText': 'Was ist das Symbol des Magrathea im Star Wars-Universum?',\n  'input': 'What is the symbol of the <<>> in the Star Wars universe?'},\n {'translatedText': 'Wer waren die Hauptkomponisten von Musik des Mittelalters?',\n  'input': 'Who were the main composers of <<>>?'},\n {'translatedText': 'Wer war Sergei Alexandrowitsch Romanow von Russland?',\n  'input': 'Who was <<>> of Russia?'},\n {'translatedText': 'Wer spielte die Titelfigur im Film Der Mann mit der eisernen Maske?',\n  'input': 'Who played the titular character in the film <<>>?'},\n {'translatedText': 'In welcher Branche arbeitet Seishirō Katō?',\n  'input': 'In which industry does <<>> work?'},\n {'translatedText': 'Welcher Religionsgemeinschaft ist Katharinenkloster zugeordnet?',\n  'input': 'Which religious denomination is <<>> associated with?'}]"
     },
     "execution_count": 19,
     "metadata": {},
     "output_type": "execute_result"
    }
   ],
   "source": [
    "# sample test\n",
    "file = \"/Users/jairiley/Desktop/Research/SemEval2025/data/SemEval2025_EAMT_Samples.tsv\"\n",
    "df = pd.read_csv(file,delimiter=\"\\t\")\n",
    "sentences = []\n",
    "for x in tqdm(range(len(df['source']))):\n",
    "    if str(df.iloc[x][\"BN Translated Entity\"]).split(\",\")[0] != \"nan\" and str(df.iloc[x][\"BN Translated Entity\"]).split(\",\")[0] != str(df.iloc[x][\"GPT4 Entities\"]).split(\",\")[0]:\n",
    "        \n",
    "        ent = df.iloc[x][\"GPT4 Entities\"].split(\",\")[0]\n",
    "        sent = df.iloc[x]['source'].replace(ent, \"<<>>\")\n",
    "        test = translate_text(langs[x][0], langs[x][1], sent)\n",
    "    \n",
    "        ent = df.iloc[x][\"BN Translated Entity\"].split(\",\")[0]\n",
    "        test[\"translatedText\"] = test[\"translatedText\"].replace(\"&lt;&lt;&gt;&gt;\",ent).replace(\"&#39;\",\"'\")\n",
    "        sentences.append(test)\n",
    "    else:\n",
    "        # sent = df.iloc[x]['source'].replace(ent, \"<<>>\")\n",
    "        test = translate_text(langs[x][0], langs[x][1], df.iloc[x]['source'])\n",
    "        sentences.append(test)\n",
    "        \n",
    "    # print(sent)\n",
    "sentences"
   ],
   "metadata": {
    "collapsed": false,
    "ExecuteTime": {
     "end_time": "2024-09-24T00:01:50.183101Z",
     "start_time": "2024-09-24T00:00:28.444092Z"
    }
   },
   "id": "17a8de281822e43a"
  },
  {
   "cell_type": "code",
   "execution_count": 21,
   "outputs": [
    {
     "name": "stdout",
     "output_type": "stream",
     "text": [
      "['Görünmez Adam hangi türe aittir?', 'Mulheres Apaixonadas dizisi ilk ne zaman yayınlandı?', 'Sefirin Kızı dizisinin kaç sezonu var?', 'Kedilere Bulaşmayın: İnternette Katil Avı dizisinin ana odağı nedir?', \"9. Senfoni'de kaç hareket var?\", \"René Descartes' Yöntem Üzerine Söylem'i kısaca açıklayabilir misiniz?\", \"Üç Silahşörler'in türü nedir?\", 'Aziz Vasil Katedrali ne zaman inşa edildi?', 'Maymunlar Cehennemi olayları hangi ülkede gerçekleşti?', \"Türk'in satranç oynama yeteneği konusunda herhangi bir söylenti veya tartışma var mıydı?\", \"Berliner Dom'i nasıl tanımlarsınız?\", 'Rusya Devlet Başkanı nasıl seçilir?', 'Çernobil Nükleer Santrali&#39;nde başmühendis yardımcısı olarak görev yapan Anatoli Dyatlov&#39;un görevleri nelerdi?', 'Hangi dini metinlerde Atababalar Mağarası ifadesi geçmektedir?', 'Star Wars evreninde Legend of the Galactic Heroes simgesinin anlamı nedir?', 'Mescid-i Nebevî kaç kişiyi ağırlayabilir?', \"Hüzün Kenti'in türü nedir?\", \"Aleksey Nikolayeviç Romanov Rusya Çareviç'i kimdir?\", 'Hangi ünlü slogan Simpson ailesiyle ilişkilendirilir?', 'kuşburnu tüketmenin herhangi bir sağlık yararı var mı?', '¿Quién coreografió el ballet original de 1910 de El pájaro de fuego?', '¿Cuántas personas puede albergar el Mezquita del Profeta?', '¿En qué país ocurrieron los acontecimientos de El planeta de los simios?', '¿Puedes cantar el coro de la canción popular Corro de la patata?', '¿Cuál es el género de La guerra de los mundos?', '¿Por qué estilo arquitectónico es conocido el Gran Mezquita de Aleppo?', '¿Dónde puedo ver la serie de televisión The Santa Clauses?', '¿De qué tipo de colina está hecha Cuevas de Batu?', '¿Qué supuestamente predice el Profecías sobre los papas?', '¿Quiénes son las principales fuerzas antagónicas en el Poniente?', '¿Cuál es el género de Ciudad doliente?', '¿Cuál es el género de Los viajes de Gulliver?', '¿Quiénes fueron los protagonistas de Los pilares de la Tierra?', '¿A qué género pertenece El hombre invisible?', '¿Cuál era el propósito original del Catedral de Cristo Salvador?', '¿Cómo se come un Prunus persica var platycarpa?', '¿Cómo describirías La princesa y el guisante en una palabra?', '¿Cuál es el significado histórico del Monasterio de los Jerónimos de Belém?', '¿Cuál es el significado del Basílica de Nuestra Señora de Guadalupe en la cultura mexicana?', '¿Quién es María, Princesa Real y Condesa de Harewood?', 'Qui sont les personnages principaux du film Les Quatre Filles du docteur March?', 'Qui sont les acteurs principaux du film 7. Koğuştaki Mucize?', 'Comment les oignons gallois peuvent-ils être cultivés et récoltés dans les jardins familiaux ?', 'Quel est le genre de A City of Sadness ?', 'Comment décririez-vous La Princesse au petit pois en un mot ?', 'De quel type de colline est fait grottes de Batu ?', 'Où peut-on regarder la série télévisée Les Pères Noël ?', 'Le Passion selon Saint Matthieu est-il un oratorio sacré ?', 'Quelle était la prémisse de la série télévisée Saison 2 de la Vie de famille?', \"Pour quel instrument la suite Tableaux d'une exposition est-elle écrite ?\", 'Quel est le genre de Les Voyages de Gulliver?', 'Quel slogan célèbre est associé à la famille Simpson\\xa0?', 'Selon les rabbins, que pouvait apprendre Salomon du Sceau de Salomon ?', 'Quelle est la hauteur de la tour Ostankino à Moscou ?', 'Pouvez-vous nous donner un bref résumé du film Le Masque de Zorro ?', 'Dans quel pays ont eu lieu les événements de La Planète des singes ?', 'Quelle est l’origine de Viktor Iouchtchenko ?', \"À quel genre appartient L'Homme invisible ?\", 'Qui a finalement fini avec le pomme de discorde et pourquoi ?', 'Qui est Mary, princesse royale et comtesse de Harewood ?', '宇宙戦争のジャンルは何ですか？', '映画「7番房の奇跡」の主演俳優は誰ですか？', 'ガリバー旅行記のジャンルは何ですか？', 'マリー・ド・ブルゴーニュはマクシミリアン1世皇帝とどのくらいの期間結婚していたのでしょうか?', '中世西洋音楽 の主な作曲家は誰ですか?', '加藤清史郎 はどの業界で働いていますか?', '透明人間 はどのジャンルに属しますか?', 'フォースタス博士 の有名なシーンを 1 つ挙げてください。', '冬のライオン の主なテーマは何ですか?', 'ハギア・エカテリニ修道院 はどの宗教宗派と関係がありますか?', 'テレビシリーズ「ファミリー・アフェア」の制作者は誰ですか?', 'パン酵母 はグルテンフリーのベーキングに使用できますか?', '国際単位系 の接頭辞とその記号は何ですか?', 'ハッサン塔 を構築したのは誰ですか?', 'シンプソン ファミリーに関連する有名なキャッチフレーズはどれですか?', 'テレビシリーズ「&gt;&gt;」の設定は何でしたか?', 'THE NEVER ENDING STORY について簡単に説明していただけますか?', '平らな桃はどうやって食べますか？', '民謡「a」のコーラスを歌えますか？', 'エンドウ豆の上に寝たお姫さま を一言で説明するとしたら何でしょうか?', '해바라기 씨앗이 자라서 성숙한 해바라기가 되기까지 얼마나 걸리나요?', '성난 군중으로부터 멀리는 어떤 종류의 예술 작품인가요?', '호간의 영웅들는 몇 시즌이나 제작되었나요?', '우주 전쟁의 장르는 무엇인가요?', '하르만디르 사히브의 일반적인 별명은 무엇입니까?', '퀸 오브 뱀파이어에서 주연을 맡은 사람은 누구인가요?', '출처 표기와 관련된 마카크원숭이 사진과 관련된 유명 예술가 또는 사진 작가는 누구입니까?', '영화 철가면에서 주인공을 연기한 사람은 누구였나요?', '스타워즈의 데스스타는 어떤 종류의 우주 정거장인가요?', '안드로이드는 전기 양의 꿈을 꾸는가?는 어떤 종류의 예술 작품인가요?', '화이트 와인을 제공하기에 가장 적합한 온도는 얼마인가요?', '결국 불화의 사과를 갖게 된 사람은 누구이며, 왜 그럴까?', '유시첸코는 어디에서 왔나요?', '스페인의 문장의 역사적 기원을 설명해주시겠습니까?', '체르노빌 원자력 발전소의 부수석 엔지니어로서 아나톨리 댜틀로프의 책임은 무엇이었나요?', 'TV 시리즈 MC 해머의 제작자는 누구입니까?', '자기만의 방 책의 장르를 어떻게 설명하시겠습니까?', 'TV 시리즈 모두들의 전제는 무엇이었나요?', '성전산에서는 어떤 주요 역사적 사건이 일어났나요?', '님기름를 섭취하면 신체에 어떤 이점이 있나요?', '瓦納姆修道院最初是用来做什么的？', '《》的主角是谁演的？', '《》发布的行政命令会带来什么后果？', '电影《&gt;&gt;》的主要演员都有谁？', '賈西亞·馬奎斯的中篇小说《无人给上校写信》的长度是多少？', '游客可以进入《單身清真寺吗？', '安哈尔特-科滕亲王卡尔·乔治·勒布雷希特是哪个国籍？', '所有宗教的游客都可以进入阿尔及利亚的《》吗？', '《&lt;&lt;》的主题是什么？', '《》第一集什么时候播出？', '电影《》的剧本是谁写的？', '《阿雷佐驱魔记》这幅画的作者是谁？', '在哪里可以观看《保姆》电视连续剧的剧集？', '贾敬 的性格有哪些主要特征或特性？', '《双胞胎》什么时候上映？', '能否简单介绍一下电影《》？', '电视连续剧《&gt;&gt;》的创作者是谁？', '您通常可以在哪里找到The O.C.戏剧表演的演出？', '哪个宗教派别与《聖歐蒂米奧救世主修道院相关？', '电视连续剧《&gt;&gt;什么时候播出？', 'Come viene ricordato e onorato Yǔ nella storia e nella cultura cinese odierna?', 'Di che tipo di collina è fatta grotte di Batu?', 'Quali sono le principali forze antagoniste nel Il mondo del ghiaccio e del fuoco?', \"Qual è il tema principale di Il leone d'inverno?\", \"Chi è l'autore del romanzo di fantascienza e giallo intitolato Inverso?\", 'Quanto è alto cattedrale di Santa Sofia a Kiev?', \"Qual è l'ambientazione della serie TV Il colore delle magnolie?\", 'Esistono potenziali rischi di allergia associati al consumo di albume?', 'Chi interpreta il ruolo principale in La regina dei dannati?', 'Quale compositore ha composto Sinfonia n. 9?', 'Chi ha progettato la Tokyo Tower?', 'Quanto è alto il Torre di Ostankino a Mosca?', 'Sai cantare il ritornello della canzone popolare Ring a Ring o&#39; Roses?', \"Chi ha coreografato il balletto originale del 1910 L'uccello di fuoco?\", 'Puoi dirmi una scena famosa tratta da La tragica storia del Dottor Faustus?', 'Per quanto tempo Maria di Borgogna rimase sposata con l&#39;imperatore Massimiliano I?', 'In quale settore lavora Seishirō Katō?', \"In che modo olio di neem apporta benefici all'organismo se consumato?\", 'Quando è andato in onda il primo episodio di Stuck in the Middle?', \"Qual è il simbolo del Impero Galattico nell'universo di Star Wars?\", 'هل يمكن استخدام دقيق الشوفان في الخبز؟', 'من هو مخرج الفيلم القادم أغنية الطيور المغردة والثعابين؟', 'ما هي النصوص الدينية التي تذكر المسجد الإبراهيمي؟', 'كم عدد مواسم هوجانز هيروز التي تم إنتاجها؟', 'متى تم عرض سلم إلى الجنة لأول مرة على شاشة التلفزيون؟', 'كم عدد الفصول في كتاب الموتى؟', 'ما هو نوع حرب العوالم؟', 'ما هي فكرة المسلسل التلفزيوني فاملي ماتتيرس؟', 'من مؤلف سير المتطوعين؟', 'كم عدد الأشخاص الذين يمكن أن يستوعبهم المسجد النبوي؟', 'من هم الممثلون الرئيسيون في الفيلم معجزة في الزنزانة 7؟', 'من هم الممثلون الرئيسيون في أفضل ما يمكن حصوله؟', 'هل كانت هناك أي شائعات أو خلافات حول قدرة التورك على لعب الشطرنج؟', 'ما هو إعداد المسلسل التلفزيوني كبرياء وتحامل؟', 'هل يمكن استخدام خميرة الخباز في الخبز الخالي من الجلوتين؟', 'متى تم أداء السيمفونية الخامسة لأول مرة؟', 'هل يمكنك تقديم ملخص موجز للفيلم قناع زورو؟', 'ما نوع محطة الفضاء نجم الموت في حرب النجوم؟', 'هل يمكنك تقديم وصف موجز للسلالة الملكية فوزية بنت فؤاد الأول؟', 'ما هي مسؤوليات أناتولي دياتلوف كنائب كبير المهندسين في محطة تشيرنوبيل للطاقة النووية؟', 'เจ้าหญิงเซซีลีแห่งกรีซและเดนมาร์ก คือใคร?', 'สัญลักษณ์แห่งเสรีภาพของมนุษย์ในศาสนาสมมติเรื่อง ลัทธิซาตานลาวี คืออะไร?', 'ตัวละครหลักใน พยัคฆ์เหนือพยัคฆ์ มีใครบ้าง?', 'มีเหตุการณ์ประวัติศาสตร์สำคัญๆ อะไรเกิดขึ้นที่ เนินพระวิหาร?', 'เราจะบอกได้อย่างไรว่าไข่แดงสด?', 'วาซีลี บลูย์เคียร์ เป็นที่รู้จักมากที่สุดในการให้บริการทางทหารคืออะไร?', 'เสียงเรียกของคธูลู เป็นประเภทอะไร?', 'เมล็ดทานตะวันต้องใช้เวลานานเท่าใดจึงจะเติบโตเป็นทานตะวันโตเต็มที่?', 'คุณสามารถตั้งชื่อจุดหมายปลายทางที่น่าจดจำที่ได้ไปเยือนในนวนิยายเรื่องนี้ได้หรือไม่?', 'Saint Sophia Cathedral in Kyiv ในเคียฟ สูงเท่าไหร่?', 'ตัวละครหลักใน Pokémon Horizons: The Series คือใคร?', 'ใครเป็นผู้กำกับภาพยนตร์เรื่อง The Hunger Games: The Ballad of Songbirds and Snakes ที่กำลังจะฉายเร็ว ๆ นี้?', 'ไวท์ช็อคโกแลตใช้ในการทำขนมและของหวานได้ไหม?', 'ถ้ำบาตู ทำมาจากเนินเขาประเภทไหน?', 'เครื่องหมาย สุสานจิ๋นซีฮ่องเต้ มีความสำคัญอย่างไร?', 'ชุด งานนิทรรศการภาพวาด นี้เขียนขึ้นสำหรับเครื่องดนตรีอะไร?', 'กฏซาลิค ถูกบังคับใช้ภายใต้กฎของใคร?', 'จอห์นนี เด็ปป์ เป็นประเภทไหน', 'ซิมโฟนีหมายเลข 5 ได้รับการแสดงครั้งแรกเมื่อใด?', 'ใครเป็นนักแสดงหลักในเพียงเธอ..รักนี้ดีสุดแล้ว?', 'Wie groß ist Sophienkathedrale in Kiew?', 'Wie lange war Maria von Burgund mit Kaiser Maximilian I. verheiratet?', 'Was ist das Genre von Krieg der Welten?', 'Woher kommt Wiktor Juschtschenko?', 'Was war der ursprüngliche Zweck des Christ-Erlöser-Kathedrale?', 'Was ist das Genre von Die Stadt der Traurigkeit?', 'Wie können Winterzwiebeln im Hausgarten angebaut und geerntet werden?', 'Um welche Art von Entität handelt es sich bei Galaktische Republik?', 'Kann Backhefe beim glutenfreien Backen verwendet werden?', 'Welchen Nutzen hat der Verzehr von Neemöl für den Körper?', 'Welche Art von Kunstwerk ist Träumen Androiden von elektrischen Schafen??', 'Wer sind die wichtigsten antagonistischen Kräfte im meereen?', 'Welche Bedeutung hat das Basilika Unserer Lieben Frau von Guadalupe in der mexikanischen Kultur?', 'Kann Schrödingers Katze gleichzeitig im aktiven und im inaktiven Zustand existieren?', 'Was ist das Symbol des Magrathea im Star Wars-Universum?', 'Wer waren die Hauptkomponisten von Musik des Mittelalters?', 'Wer war Sergei Alexandrowitsch Romanow von Russland?', 'Wer spielte die Titelfigur im Film Der Mann mit der eisernen Maske?', 'In welcher Branche arbeitet Seishirō Katō?', 'Welcher Religionsgemeinschaft ist Katharinenkloster zugeordnet?']\n"
     ]
    }
   ],
   "source": [
    "# translating all the sentences from English to target language\n",
    "tgt_sents = []\n",
    "for x in sentences:\n",
    "    tgt_sents.append(x[\"translatedText\"])\n",
    "print(tgt_sents)"
   ],
   "metadata": {
    "collapsed": false,
    "ExecuteTime": {
     "end_time": "2024-09-24T00:03:29.371842Z",
     "start_time": "2024-09-24T00:03:29.335901Z"
    }
   },
   "id": "415a61a1c19a4aff"
  },
  {
   "cell_type": "code",
   "execution_count": 22,
   "outputs": [
    {
     "data": {
      "text/plain": "   Label           id source_locale target_locale  \\\n0      0   Q1539509_0            en            tr   \n1      1   Q2475229_0            en            tr   \n2      2  Q79089380_0            en            tr   \n3      3  Q80546046_0            en            tr   \n4      4     Q11989_0            en            tr   \n\n                                              source  \\\n0       What genre does The Invisible Man belong to?   \n1  When was the TV series Mulheres Apaixonadas fi...   \n2  How many seasons of The Ambassador's Daughter ...   \n3  What is the main focus of the TV series Don't ...   \n4    How many movements are there in Symphony No. 9?   \n\n                                              target  \\\n0                  ['Görünmez Adam hangi türe ait?']   \n1  ['Mulheres Apaixonadas dizisi ilk ne zaman yay...   \n2  [\"Sefirin Kızı'nın kaç sezonu var\", \"Sefirin K...   \n3  ['Kedilere Bulaşmayın: İnternette Katil Avı di...   \n4  ['9. Senfonide kaç hareket var?', \"9. Senfoni'...   \n\n                       metadata  \\\n0   {'wikidata_id': 'Q1539509'}   \n1   {'wikidata_id': 'Q2475229'}   \n2  {'wikidata_id': 'Q79089380'}   \n3  {'wikidata_id': 'Q80546046'}   \n4     {'wikidata_id': 'Q11989'}   \n\n                                   Cloud Translation  \\\n0                   Görünmez Adam hangi türe aittir?   \n1  Mulheres Apaixonadas dizisi ilk ne zaman yayın...   \n2  The Ambassador's Daughter dizisinin kaç sezonu...   \n3  Kedilerle Uğraşmayın: İnternet Katilini Avlama...   \n4                       9. Senfoni'de kaç bölüm var?   \n\n                                   GPT4 Translations  Cloud BLEU  GPT4 BLEU  \\\n0                   Görünmez Adam hangi türe aittir?        0.67       0.67   \n1  TV dizisi Mulheres Apaixonadas ilk olarak ne z...        1.00       0.00   \n2            Elçin'in Kızı dizisinin kaç sezonu var?        0.00       0.00   \n3  Dont F**k with Cats: Hunting an Internet Kille...        0.00       0.26   \n4                 Senfonik No. 9'da kaç hareket var?        1.00       0.00   \n\n                                      GPT4 Entities  \\\n0                                 The Invisible Man   \n1                              Mulheres Apaixonadas   \n2                         The Ambassador's Daughter   \n3  Don't F**k with Cats: Hunting an Internet Killer   \n4                                    Symphony No. 9   \n\n                        BN Translated Entity  \\\n0                              Görünmez Adam   \n1                       Mulheres Apaixonadas   \n2                               Sefirin Kızı   \n3  Kedilere Bulaşmayın: İnternette Katil Avı   \n4                                 9. Senfoni   \n\n                          BN Replacement Translation  \n0                   Görünmez Adam hangi türe aittir?  \n1  Mulheres Apaixonadas dizisi ilk ne zaman yayın...  \n2             Sefirin Kızı dizisinin kaç sezonu var?  \n3  Kedilere Bulaşmayın: İnternette Katil Avı dizi...  \n4                     9. Senfoni'de kaç hareket var?  ",
      "text/html": "<div>\n<style scoped>\n    .dataframe tbody tr th:only-of-type {\n        vertical-align: middle;\n    }\n\n    .dataframe tbody tr th {\n        vertical-align: top;\n    }\n\n    .dataframe thead th {\n        text-align: right;\n    }\n</style>\n<table border=\"1\" class=\"dataframe\">\n  <thead>\n    <tr style=\"text-align: right;\">\n      <th></th>\n      <th>Label</th>\n      <th>id</th>\n      <th>source_locale</th>\n      <th>target_locale</th>\n      <th>source</th>\n      <th>target</th>\n      <th>metadata</th>\n      <th>Cloud Translation</th>\n      <th>GPT4 Translations</th>\n      <th>Cloud BLEU</th>\n      <th>GPT4 BLEU</th>\n      <th>GPT4 Entities</th>\n      <th>BN Translated Entity</th>\n      <th>BN Replacement Translation</th>\n    </tr>\n  </thead>\n  <tbody>\n    <tr>\n      <th>0</th>\n      <td>0</td>\n      <td>Q1539509_0</td>\n      <td>en</td>\n      <td>tr</td>\n      <td>What genre does The Invisible Man belong to?</td>\n      <td>['Görünmez Adam hangi türe ait?']</td>\n      <td>{'wikidata_id': 'Q1539509'}</td>\n      <td>Görünmez Adam hangi türe aittir?</td>\n      <td>Görünmez Adam hangi türe aittir?</td>\n      <td>0.67</td>\n      <td>0.67</td>\n      <td>The Invisible Man</td>\n      <td>Görünmez Adam</td>\n      <td>Görünmez Adam hangi türe aittir?</td>\n    </tr>\n    <tr>\n      <th>1</th>\n      <td>1</td>\n      <td>Q2475229_0</td>\n      <td>en</td>\n      <td>tr</td>\n      <td>When was the TV series Mulheres Apaixonadas fi...</td>\n      <td>['Mulheres Apaixonadas dizisi ilk ne zaman yay...</td>\n      <td>{'wikidata_id': 'Q2475229'}</td>\n      <td>Mulheres Apaixonadas dizisi ilk ne zaman yayın...</td>\n      <td>TV dizisi Mulheres Apaixonadas ilk olarak ne z...</td>\n      <td>1.00</td>\n      <td>0.00</td>\n      <td>Mulheres Apaixonadas</td>\n      <td>Mulheres Apaixonadas</td>\n      <td>Mulheres Apaixonadas dizisi ilk ne zaman yayın...</td>\n    </tr>\n    <tr>\n      <th>2</th>\n      <td>2</td>\n      <td>Q79089380_0</td>\n      <td>en</td>\n      <td>tr</td>\n      <td>How many seasons of The Ambassador's Daughter ...</td>\n      <td>[\"Sefirin Kızı'nın kaç sezonu var\", \"Sefirin K...</td>\n      <td>{'wikidata_id': 'Q79089380'}</td>\n      <td>The Ambassador's Daughter dizisinin kaç sezonu...</td>\n      <td>Elçin'in Kızı dizisinin kaç sezonu var?</td>\n      <td>0.00</td>\n      <td>0.00</td>\n      <td>The Ambassador's Daughter</td>\n      <td>Sefirin Kızı</td>\n      <td>Sefirin Kızı dizisinin kaç sezonu var?</td>\n    </tr>\n    <tr>\n      <th>3</th>\n      <td>3</td>\n      <td>Q80546046_0</td>\n      <td>en</td>\n      <td>tr</td>\n      <td>What is the main focus of the TV series Don't ...</td>\n      <td>['Kedilere Bulaşmayın: İnternette Katil Avı di...</td>\n      <td>{'wikidata_id': 'Q80546046'}</td>\n      <td>Kedilerle Uğraşmayın: İnternet Katilini Avlama...</td>\n      <td>Dont F**k with Cats: Hunting an Internet Kille...</td>\n      <td>0.00</td>\n      <td>0.26</td>\n      <td>Don't F**k with Cats: Hunting an Internet Killer</td>\n      <td>Kedilere Bulaşmayın: İnternette Katil Avı</td>\n      <td>Kedilere Bulaşmayın: İnternette Katil Avı dizi...</td>\n    </tr>\n    <tr>\n      <th>4</th>\n      <td>4</td>\n      <td>Q11989_0</td>\n      <td>en</td>\n      <td>tr</td>\n      <td>How many movements are there in Symphony No. 9?</td>\n      <td>['9. Senfonide kaç hareket var?', \"9. Senfoni'...</td>\n      <td>{'wikidata_id': 'Q11989'}</td>\n      <td>9. Senfoni'de kaç bölüm var?</td>\n      <td>Senfonik No. 9'da kaç hareket var?</td>\n      <td>1.00</td>\n      <td>0.00</td>\n      <td>Symphony No. 9</td>\n      <td>9. Senfoni</td>\n      <td>9. Senfoni'de kaç hareket var?</td>\n    </tr>\n  </tbody>\n</table>\n</div>"
     },
     "execution_count": 22,
     "metadata": {},
     "output_type": "execute_result"
    }
   ],
   "source": [
    "\n",
    "df[\"BN Replacement Translation\"] = tgt_sents\n",
    "df.head()"
   ],
   "metadata": {
    "collapsed": false,
    "ExecuteTime": {
     "end_time": "2024-09-24T00:03:59.259255Z",
     "start_time": "2024-09-24T00:03:59.228142Z"
    }
   },
   "id": "e0c0239ef97cce37"
  },
  {
   "cell_type": "code",
   "execution_count": 23,
   "outputs": [],
   "source": [
    "# Save to TSV \n",
    "# trans_df.to_csv(TRANS_FILE, sep='\\t', index=False)\n",
    "df.to_csv(file,sep='\\t',index=False)"
   ],
   "metadata": {
    "collapsed": false,
    "ExecuteTime": {
     "end_time": "2024-09-24T00:04:22.257036Z",
     "start_time": "2024-09-24T00:04:22.201817Z"
    }
   },
   "id": "985f57293a2b1111"
  },
  {
   "cell_type": "code",
   "execution_count": 50,
   "outputs": [],
   "source": [
    "# trans_sents = sentence_df[\"Cloud Translation\"].tolist()"
   ],
   "metadata": {
    "collapsed": false,
    "ExecuteTime": {
     "end_time": "2024-09-19T22:20:13.228572Z",
     "start_time": "2024-09-19T22:20:13.208180Z"
    }
   },
   "id": "646c2a83e177404f"
  },
  {
   "cell_type": "code",
   "execution_count": 133,
   "outputs": [],
   "source": [
    "# Spanish BLEU 0.22304585226870685\n",
    "# Italian BLEU 0.1595706884838815"
   ],
   "metadata": {
    "collapsed": false,
    "ExecuteTime": {
     "end_time": "2024-07-04T20:31:12.079997Z",
     "start_time": "2024-07-04T20:31:12.072298Z"
    }
   },
   "id": "dfe32531e61eacd7"
  },
  {
   "cell_type": "markdown",
   "source": [],
   "metadata": {
    "collapsed": false
   },
   "id": "dda57466c60dba8a"
  }
 ],
 "metadata": {
  "kernelspec": {
   "display_name": "Python 3",
   "language": "python",
   "name": "python3"
  },
  "language_info": {
   "codemirror_mode": {
    "name": "ipython",
    "version": 2
   },
   "file_extension": ".py",
   "mimetype": "text/x-python",
   "name": "python",
   "nbconvert_exporter": "python",
   "pygments_lexer": "ipython2",
   "version": "2.7.6"
  }
 },
 "nbformat": 4,
 "nbformat_minor": 5
}
