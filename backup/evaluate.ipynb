{
 "cells": [
  {
   "cell_type": "code",
   "execution_count": 35,
   "outputs": [],
   "source": [
    "import csv\n",
    "import pandas as pd\n",
    "import re\n",
    "from nltk.translate.bleu_score import sentence_bleu, corpus_bleu\n"
   ],
   "metadata": {
    "collapsed": false,
    "ExecuteTime": {
     "end_time": "2024-09-24T00:05:06.706697Z",
     "start_time": "2024-09-24T00:05:06.629709Z"
    }
   },
   "id": "4bf404a02a7017f1"
  },
  {
   "cell_type": "code",
   "execution_count": 42,
   "outputs": [],
   "source": [
    "llangs = [\"ja\",'ko','th']\n",
    "\n",
    "def calculate_bleu(reference_sentences, candidate_sentences,langs):\n",
    "    \"\"\"\n",
    "    Calculate the BLEU score between two lists of sentences.\n",
    "\n",
    "    :param reference_sentences: List of reference sentences\n",
    "    :param candidate_sentences: List of candidate sentences\n",
    "    :return: BLEU score\n",
    "    \"\"\"\n",
    "    # print(reference_sentences)\n",
    "    \n",
    "    references = [[ref.split()] for ref in reference_sentences]\n",
    "    candidates = [[y.split() for y in cand] for cand in candidate_sentences]\n",
    "    print(candidates)\n",
    "    # Calculate sentence-level BLEU scores\n",
    "    sentence_bleu_scores = []\n",
    "    for x in range(len(candidates)):\n",
    "        if len(candidates[x]) == 1: \n",
    "            sentence_bleu_scores.append(sentence_bleu(references[x],candidates[x][0], weights=(0.25,0.25,0.25,0.25)))\n",
    "        elif len(candidates[x]) > 1:\n",
    "            total = []\n",
    "            for y in range(len(candidates[x])):\n",
    "                total.append(sentence_bleu(references[x],candidates[x][y], weights=(0.25,0.25,0.25,0.25)))\n",
    "            sentence_bleu_scores.append(max(total))\n",
    "        else:\n",
    "            sentence_bleu_scores.append(None)\n",
    "            \n",
    "                \n",
    "    \n",
    "    # Calculate corpus-level BLEU score\n",
    "    # corpus_bleu_score = corpus_bleu(references, candidates, weights=(0.25,0.25,0.25,0.25))\n",
    "    \n",
    "    # return sentence_bleu_scores, corpus_bleu_score\n",
    "    return sentence_bleu_scores\n"
   ],
   "metadata": {
    "collapsed": false,
    "ExecuteTime": {
     "end_time": "2024-09-24T00:15:00.512655Z",
     "start_time": "2024-09-24T00:15:00.507853Z"
    }
   },
   "id": "730de6cf38501e93"
  },
  {
   "cell_type": "code",
   "execution_count": 43,
   "outputs": [],
   "source": [
    "RAW_SENTENCE_TSV = \"/Users/jairiley/Desktop/Research/SemEval2025/data/SemEval2025_EAMT_Samples.tsv\""
   ],
   "metadata": {
    "collapsed": false,
    "ExecuteTime": {
     "end_time": "2024-09-24T00:15:00.864219Z",
     "start_time": "2024-09-24T00:15:00.856808Z"
    }
   },
   "id": "c7351b896157816"
  },
  {
   "cell_type": "code",
   "execution_count": 44,
   "outputs": [],
   "source": [
    "df = pd.read_csv(RAW_SENTENCE_TSV,sep=\"\\t\")\n",
    "import ast\n",
    "df['target'] = df['target'].apply(lambda x: ast.literal_eval(x) if isinstance(x, str) else x)\n",
    "gold_sents = df['target'].tolist()\n",
    "tgt_sents = df[\"BN Replacement Translation\"].tolist()"
   ],
   "metadata": {
    "collapsed": false,
    "ExecuteTime": {
     "end_time": "2024-09-24T00:15:01.511993Z",
     "start_time": "2024-09-24T00:15:01.447307Z"
    }
   },
   "id": "cce1dee1108eec41"
  },
  {
   "cell_type": "code",
   "execution_count": 47,
   "outputs": [
    {
     "name": "stdout",
     "output_type": "stream",
     "text": [
      "[[['Görünmez', 'Adam', 'hangi', 'türe', 'ait?']], [['Mulheres', 'Apaixonadas', 'dizisi', 'ilk', 'ne', 'zaman', 'yayınlandı?']], [['Sefirin', \"Kızı'nın\", 'kaç', 'sezonu', 'var'], ['Sefirin', \"Kızı'nın\", 'kaç', 'sezonu', 'var?'], ['Sefirin', 'Kızının', 'kaç', 'sezonu', 'var?']], [['Kedilere', 'Bulaşmayın:', 'İnternette', 'Katil', 'Avı', 'dizisinin', 'ana', 'odak', 'noktası', 'nedir?']], [['9.', 'Senfonide', 'kaç', 'hareket', 'var?'], ['9.', \"Senfoni'de\", 'kaç', 'bölüm', 'var?'], ['9.', \"Senfoni'de\", 'kaç', 'hareket', 'vardır?']], [[\"Descartes'ın\", 'Yöntem', 'Üzerine', \"Konuşma'sı\", 'hakkında', 'kısa', 'bir', 'açıklama', 'yapabilir', 'misiniz?'], [\"Descartes'ın\", 'Yöntem', 'Üzerine', \"Konuşma'nın\", 'kısa', 'bir', 'tanımını', 'yapabilir', 'misiniz?']], [['Üç', \"Silahşörler'in\", 'türü', 'nedir?']], [['Aziz', 'Vasil', 'Katedrali', 'ne', 'zaman', 'inşa', 'edildi?']], [['Maymunlar', \"Gezegeni'nde\", 'olaylar', 'hangi', 'ülkede', 'geçmiştir?'], ['Maymunlar', \"Gezegeni'ndeki\", 'olaylar', 'hangi', 'ülkede', 'geçmiştir?'], ['Maymunlar', 'Gezegenindeki', 'olaylar', 'hangi', 'ülkede', 'geçiyor?']], [[\"Türk'ün\", 'satranç', 'oynama', 'yeteneğiyle', 'ilgili', 'herhangi', 'bir', 'söylenti', 'veya', 'tartışma', 'oldu', 'mu?'], [\"Türk'ün\", 'satranç', 'oynama', 'yeteneğiyle', 'ilgili', 'herhangi', 'bir', 'söylenti', 'veya', 'ihtilaf', 'oldu', 'mu?']], [['Berlin', \"Katedrali'ni\", 'nasıl', 'tanımlarsınız?']], [['Rusya', 'Devlet', 'Başkanı', 'nasıl', 'seçilir?']], [['Çernobil', 'Nükleer', \"Santrali'nde\", 'başmühendis', 'yardımcısı', 'olarak', 'Anatoly', \"Dyatlov'un\", 'sorumlulukları', 'nelerdi?'], ['Çernobil', 'Nükleer', \"Santrali'nde\", 'baş', 'mühendis', 'yardımcısı', 'olarak', 'Anatoly', \"Dyatlov'un\", 'sorumlulukları', 'nelerdi?']], [['Hangi', 'dini', 'metinler', 'Atababalar', \"Mağarası'ndan\", 'bahseder?'], ['Atababalar', \"Mağarası'nın\", 'bahsi', 'hangi', 'dini', 'metinlerde', 'geçer?']], [['Yıldız', 'Savaşları', 'evreninde', 'Galaktik', \"İmparatorluk'un\", 'sembolü', 'nedir?'], ['Star', 'Wars', 'evreninde', 'Galaktik', 'İmparatorluk', 'sembolü', 'nedir?']], [['Mescid-i', 'Nebevî', 'kaç', 'kişiliktir?'], ['Mescid-i', 'Nebevî', 'kaç', 'kişiyi', 'ağırlayabilir?'], ['Mescid-i', 'Nebevi', 'kaç', 'kişiyi', 'ağırlayabilir?']], [['Hüzün', 'Şehri', 'filminin', 'türü', 'nedir?']], [['Aleksey', 'Nikolayeviç', 'Romanov', 'kimdi?']], [['Hangi', 'ünlü', 'replik', 'Simpson', 'ailesi', 'ile', 'ilişkilidir?'], ['Hangi', 'ünlü', 'slogan', 'Simpson', 'ailesi', 'ile', 'ilişkilidir?']], [['Kuşburnu', 'tüketmenin', 'herhangi', 'bir', 'sağlık', 'yararı', 'var', 'mı?'], ['Kuşburnu', 'tüketmenin', 'sağlığa', 'faydaları', 'var', 'mı?'], ['Kuşburnu', 'meyvesinin', 'sağlığa', 'faydası', 'var', 'mıdır?']], [['¿Quién', 'coreografió', 'el', 'ballet', 'original', 'de', '1910', 'de', 'El', 'pájaro', 'de', 'fuego?'], ['¿Quién', 'fue', 'el', 'coreógrafo', 'original', 'del', 'ballet', 'El', 'pájaro', 'de', 'fuego?'], ['¿Quién', 'coreografió', 'el', 'ballet', 'original', 'de', '1910', 'El', 'pájaro', 'de', 'fuego?']], [['¿A', 'cuántas', 'personas', 'puede', 'acomodar', 'la', 'Mezquita', 'del', 'Profeta?']], [['¿En', 'qué', 'país', 'se', 'llevaron', 'a', 'cabo', 'los', 'eventos', 'de', 'El', 'Planeta', 'de', 'los', 'Simios?'], ['¿En', 'qué', 'país', 'se', 'llevaron', 'a', 'cabo', 'los', 'eventos', 'del', 'El', 'planeta', 'de', 'los', 'simios?']], [['¿Podrías', 'cantar', 'el', 'coro', 'de', 'la', 'canción', 'tradicional', 'el', 'corro', 'de', 'la', 'patata?'], ['¿Puedes', 'cantar', 'el', 'coro', 'de', 'la', 'canción', 'folclórica', 'El', 'corro', 'de', 'la', 'patata?']], [['¿Cual', 'es', 'el', 'género', 'del', 'libro', 'La', 'guerra', 'de', 'los', 'mundos?'], ['¿Cuál', 'es', 'el', 'género', 'de', 'La', 'guerra', 'de', 'los', 'mundos?'], ['¿A', 'qué', 'género', 'pertenece', 'La', 'guerra', 'de', 'los', 'mundos?']], [['¿Por', 'qué', 'estilo', 'arquitectónico', 'es', 'conocida', 'la', 'Mezquita', 'de', 'los', 'Omeyas?'], ['¿Por', 'cuál', 'estilo', 'arquitectónico', 'es', 'conocida', 'la', 'Mezquita', 'de', 'los', 'Omeyas?']], [['¿Dónde', 'puedes', 'ver', 'la', 'serie', 'de', 'televisión', '¡Vaya', 'familia', 'Claus!?'], ['¿Dónde', 'puedes', 'ver', 'la', 'serie', 'de', 'televisión', '¡Vaya', 'Familia', 'Claus!?']], [['¿De', 'qué', 'tipo', 'de', 'colina', 'están', 'hechas', 'las', 'Cuevas', 'de', 'Batu?']], [['¿Qué', 'predice', 'supuestamente', 'la', 'Profecía', 'de', 'los', 'papas?'], ['¿Qué', 'supuestamente', 'predice', 'la', 'Profecía', 'de', 'los', 'Papas?']], [['¿Quiénes', 'son', 'las', 'principales', 'fuerzas', 'antagónicas', 'en', 'el', 'universo', 'de', 'Canción', 'de', 'hielo', 'y', 'fuego?'], ['¿Quiénes', 'son', 'las', 'principales', 'fuerzas', 'antagónicas', 'en', 'el', 'Universo', 'de', 'Cancion', 'de', 'hielo', 'y', 'fuego?']], [['¿Cuál', 'es', 'el', 'género', 'de', 'Ciudad', 'doliente?']], [['¿Cuál', 'es', 'el', 'género', 'de', 'Los', 'viajes', 'de', 'Gulliver?'], ['¿Cual', 'es', 'el', 'genero', 'de', 'los', 'viajes', 'de', 'Gulliver?']], [['¿Cuál', 'fue', 'el', 'elenco', 'principal', 'de', 'Los', 'pilares', 'de', 'la', 'Tierra?'], ['¿Cuál', 'fue', 'el', 'reparto', 'principal', 'de', 'Los', 'pilares', 'de', 'la', 'Tierra?'], ['¿Cuál', 'fue', 'el', 'elenco', 'principal', 'de', 'la', 'serie', 'Los', 'pilares', 'de', 'la', 'Tierra?']], [['¿A', 'què', 'gènero', 'es', 'la', 'pelicula', 'El', 'hombre', 'invisible?'], ['¿A', 'qué', 'género', 'pertenece', 'El', 'hombre', 'invisible?']], [['¿Cuál', 'fue', 'el', 'propósito', 'inicial', 'de', 'la', 'Catedral', 'de', 'Cristo', 'Salvador', 'de', 'Moscú?'], ['¿Cuál', 'era', 'el', 'propósito', 'original', 'de', 'la', 'Catedral', 'de', 'Cristo', 'Salvador', 'de', 'Moscú?']], [['¿Cómo', 'se', 'come', 'un', 'paraguayo?']], [['¿Cómo', 'describirías', 'La', 'princesa', 'y', 'el', 'guisante', 'en', 'una', 'palabra?']], [['¿Cuál', 'es', 'el', 'significado', 'histórico', 'del', 'Monasterio', 'de', 'los', 'Jerónimos', 'de', 'Santa', 'María', 'de', 'Belém?'], ['¿Cuál', 'es', 'el', 'significado', 'histórico', 'del', 'Monasterio', 'de', 'los', 'Jerónimos?'], ['¿Cuál', 'es', 'el', 'la', 'importancia', 'histórica', 'del', 'Monasterio', 'de', 'los', 'Jerónimos', 'de', 'Belém?']], [['¿Cuál', 'es', 'el', 'significado', 'de', 'la', 'Basílica', 'de', 'Santa', 'María', 'de', 'Guadalupe', 'en', 'la', 'cultura', 'mexicana?'], ['¿Qué', 'significado', 'tiene', 'la', 'Basílica', 'de', 'Santa', 'María', 'de', 'Guadalupe', 'en', 'la', 'cultura', 'mexicana?']], [['¿Quién', 'es', 'María', 'del', 'Reino', 'Unido?'], ['¿Quién', 'es', 'María,', 'Princesa', 'Real', 'y', 'Condesa', 'de', 'Harewood?'], ['¿Quien', 'es', 'Maria', 'de', 'Windsor?']], [['Qui', 'sont', 'les', 'personnages', 'principaux', 'du', 'film', 'Les', 'Quatre', 'Filles', 'du', 'docteur', 'March?'], ['Qui', 'sont', 'les', 'personnages', 'principaux', 'du', 'film', 'Les', 'Quatre', 'Filles', 'du', 'docteur', 'March??']], [['Qui', 'sont', 'les', 'acteurs', 'principaux', 'du', 'film', '7.', 'Koğuştaki', 'Mucize?']], [['Comment', 'la', 'ciboule', 'peut-elle', 'être', 'cultivé', 'et', 'récolté', 'dans', 'son', 'jardin?'], ['Comment', 'peut-on', 'cultiver', 'et', 'récolter', 'la', 'ciboule', 'dans', 'son', 'potager?'], ['Comment', 'peut-on', 'cultiver', 'et', 'récolter', 'de', 'la', 'ciboule', 'dans', 'son', 'jardin?']], [['À', 'quel', 'genre', 'appartient', 'La', 'Cité', 'des', 'douleurs?'], ['Quel', 'est', 'le', 'genre', 'du', 'film', 'La', 'Cité', 'des', 'douleurs?'], ['Quel', 'est', 'le', 'genre', 'de', 'La', 'Cité', 'des', 'douleurs?']], [['Comment', 'peut-on', 'décrire', 'La', 'Princesse', 'au', 'petit', 'pois', 'en', 'un', 'seul', 'mot?'], ['Comment', 'décririez-vous', 'La', 'Princesse', 'au', 'petit', 'pois', 'en', 'un', 'seul', 'mot?'], ['Comment', 'décririez-vous', 'La', 'Princesse', 'au', 'petit', 'pois', 'en', 'un', 'mot?']], [['De', 'quel', 'type', 'de', 'colline', 'les', 'grottes', 'de', 'Batu', 'sont-elles', 'constituées?']], [['Où', 'pouvez-vous', 'regarder', 'la', 'série', 'télévisée', 'Super', 'Noël,', 'la', 'série?'], ['Où', 'regarder', 'la', 'série', 'télévisée', 'Super', 'Noël,', 'la', 'série?']], [['La', 'Passion', 'selon', 'Saint', 'Matthieu', 'est-elle', 'un', 'oratorio', 'sacré?']], [['Quelle', 'était', 'la', 'prémisse', 'de', 'la', 'série', 'La', 'Vie', 'de', 'famille?'], ['De', 'quelle', 'série', 'La', 'Vie', 'de', 'famille', 'était-elle', 'dérivée?'], ['Quels', 'étaient', 'les', 'prémices', 'de', 'la', 'série', 'télévisée', 'La', 'Vie', 'de', 'famille?']], [['Pour', 'quels', 'instruments', 'la', 'suite', 'Tableaux', \"d'une\", 'exposition', 'a-t-elle', 'été', 'écrite?'], ['Pour', 'quel', 'instrument', 'la', 'suite', 'Tableaux', \"d'une\", 'exposition', 'est-elle', 'écrite?']], [['Quel', 'est', 'le', 'genre', 'du', 'roman', 'Les', 'Voyages', 'de', 'Gulliver?'], ['Quel', 'est', 'le', 'genre', 'du', 'livre', 'Les', 'Voyages', 'de', 'Gulliver?'], ['À', 'quel', 'genre', 'littéraire', 'Les', 'Voyages', 'de', 'Gulliver', 'appartiennent-ils?']], [['Quel', 'slogan', 'célèbre', 'est', 'associé', 'à', 'la', 'Famille', 'Simpson?'], ['Quel', 'slogan', 'célèbre', 'est', 'associé', 'à', 'la', 'famille', 'Simpson?']], [['Selon', 'les', 'rabbins', 'quel', 'pouvoir', 'le', 'Sceau', 'de', 'Salomon', 'pouvait-il', 'lui', 'conférer?'], ['Selon', 'les', 'rabbins,', 'que', 'pouvait', 'apprendre', 'Salomon', 'du', 'Sceau', 'de', 'Salomon?']], [['Quelle', 'est', 'la', 'hauteur', 'de', 'la', 'tour', 'Ostankino', 'à', 'Moscou?']], [['Pouvez-vous', 'donner', 'un', 'court', 'résumé', 'du', 'film', 'Le', 'Masque', 'de', 'Zorro?'], ['Pouvez-vous', 'fournir', 'un', 'bref', 'résumé', 'du', 'film', 'Le', 'Masque', 'de', 'Zorro?']], [['Dans', 'quel', 'pays', 'les', 'événements', 'de', 'La', 'Planète', 'des', 'singes', 'ont-ils', 'eu', 'lieu?']], [[\"D'où\", 'vient', 'Viktor', 'Iouchtchenko?']], [['À', 'quel', 'genre', 'appartient', \"L'Homme\", 'invisible?']], [['Qui', \"s'est\", 'finalement', 'retrouvé', 'avec', 'la', 'pomme', \"d'or\", 'de', 'la', 'discorde', 'et', 'pourquoi?']], [['Qui', 'est', 'Mary', 'du', 'Royaume-Uni?']], [['宇宙戦争のジャンルは何ですか。'], ['宇宙戦争のジャンルは何ですか?']], [['映画の主な俳優は誰ですか7番房の奇跡?'], ['映画7番房の奇跡」の主演男優は誰ですか?'], ['映画7番房の奇跡の主な俳優は誰ですか?']], [['ガリヴァー旅行記のジャンルは何ですか？'], ['ガリヴァー旅行記のジャンルは何ですか?']], [['マリー・ド・ブルゴーニュと皇帝マクシミリアン1世が結婚していた期間はどのくらいですか？'], ['マリー・ド・ブルゴーニュは皇帝マクシミリアン1世と何年間結婚していましたか？'], ['マリー・ド・ブルゴーニュは皇帝マクシミリアン1世とどのくらいの期間結婚していましたか？']], [['中世西洋音楽の主な作曲家は誰ですか？']], [['加藤清史郎はどの業界で働いていますか?']], [['透明人間のジャンルはなんですか？']], [['フォースタス博士の有名なシーンを1つ挙げてください。']], [['冬のライオンの主なテーマは何ですか？'], ['冬のライオンのメインテーマは何ですか？']], [['聖カタリナ修道院はどの州はに関連づけられていますか？'], ['聖カタリナ修道院はどの宗派に関連付けられていますか?']], [['テレビシリーズニューヨーク・パパの生み手は誰ですか?'], ['テレビシリーズニューヨーク・パパの作者は誰ですか?'], ['ニューヨーク・パパの作者は誰ですか？']], [['パン酵母をグルテンフリーの料理に使用できますか？'], ['パン酵母はグルテンフリーのベーキングに使用できますか？'], ['パン酵母はグルテンフリーのベーキングに使用できますか?']], [['国際単位系の接頭辞とその記号は何ですか?']], [['ハッサン塔を建てたのは誰ですか？']], [['シンプソン一家に関する有名なキャッチフレーズはどれですか?'], ['シンプソン一家に関連する有名なキャッチフレーズはどれですか?'], ['シンプソン一家の有名なキャッチフレーズは何でしょう？']], [['テレビシリーズファミリー・マターズの前提は何でしたか?'], ['テレビシリーズ', 'ファミリー・マターズの設定は何でしたか?']], [['はてしない物語を簡単に説明していただけますか？'], ['はてしない物語の簡単な説明をしていただけますか?'], ['はてしない物語について簡単に説明してくれますか？']], [['バントウはどうやって食べますか?'], ['バントウの食べ方は何がありますか？']], [['民謡リング・ア・リング・オー・ローゼズのコーラスを歌えますか？']], [['エンドウ豆の上に寝たお姫さまを一言でどのように説明しますか。'], ['エンドウ豆の上に寝たお姫さまを一言でどのように説明しますか?'], ['エンドウ豆の上に寝たお姫さまを一言で表現すると何になりますか？']], [['해바라기씨가', '성숙한', '해바라기로', '자라는데', '얼마나', '걸리나요?'], ['해바라기', '씨가', '성숙한', '해바라기로', '자라는', '데', '얼마나', '걸립니까?']], [['성난', '군중으로부터', '멀리는', '어떤', '종류의', '작품인가요?'], ['성난', '군중으로부터', '멀리는', '어떤', '장르의', '작품인가요?']], [['호간의', '영웅들은', '몇', '시즌이', '제작되었나요?']], [['의', '장르는', '무엇인가요', '우주', '전쟁'], ['우주', '전쟁의', '장르는', '무엇인가요?']], [['암리차르', '황금사원의', '일반적', '별칭은', '무섯인가요?'], ['암리차르', '황금사원', '에', '일반적으로', '사용되는', '별명은', '무엇인가요?']], [['퀸', '오브', '뱀파이어에서', '누가', '주연을', '맡았나요?']], [['원숭이', '셀카과', '관련된', '저명한', '예술가나', '사진작가는', '누구입니까?'], ['원숭이', '셀카', '저작권', '논란에', '관련된', '저명한', '예술가나', '사진작가는', '누구입니까?']], [], [['스타워즈에서', '데스', '스타', '은', '어떤', '종류의', '우주', '정거장인가요'], ['스타워즈에서', '데스', '스타은', '어떤', '종류의', '우주', '정거장인가요?'], ['스타워즈의', '데스', '스타는', '어떤', '종류의', '우주정거장인가요?']], [['안드로이드는', '전기', '양의', '꿈을', '꾸는가?는', '어떤', '종류의', '작품인가요?'], ['안드로이드는', '전기', '양의', '꿈을', '꾸는가은', '어떤', '작품인가요??'], ['안드로이드는', '전기양의', '꿈을', '꾸는가의', '장르는?']], [['화이트', '와인을', '서빙하기에', '가장', '좋은', '온도는', '어디인가요?'], ['마시기에', '좋은', '화이트', '와인의', '최적온도는?']], [['누가', '결국', '불화의', '사과로', '끝났고', '그', '이유는?'], ['누가', '결국', '불화의', '사과를', '손에', '넣었고,', '그', '이유는?']], [['빅토르', '유셴코는', '어디에서', '왔나요?'], ['빅토르', '유셴코는', '어디에서', '왔습니까?']], [['스페인의', '국장의', '역사적', '기원을', '설명할', '수', '있나요?']], [['체르노빌', '원자력', '발전소의', '부국장으로서아나톨리', '댜틀로프의', '책임은', '무엇이었나요?'], ['체르노빌', '원자력', '발전소의', '수석', '엔지니어로서', '아나톨리', '댜틀로프의', '책임은', '무엇이었나요?']], [['TV', '시리즈', '털보', '가족의', '제작자는', '누구였나요?'], ['TV', '시리즈', '가족', '문제의', '제작자는', '누구입니까?']], [['나만의', '방이라는', '책의', '장르를', '어떻게', '설명하시겠습니까?'], ['자기만의', '방이라는', '책의', '장르를', '어떻게', '설명하시겠습니까?']], [['TV', '시리즈', '패밀리', '매터스의', '전제는', '무엇이었나요?'], ['패밀리', '매터스', '시리즈', '아이디어는?']], [['성전산에서', '어떤', '주요', '역사적', '사건이', '일어났나요?']], [['님', '오일을', '섭취했을', '때', '신체에', '어떤', '이점이', '있습니까?'], ['님기름은', '섭취할', '때', '신체에', '어떻게', '도움이', '되나요?']], [['瓦納姆修道院最初的用途是什麼？'], ['瓦納姆修道院最初是用來做什麼的？']], [['誰在偽造殺手》中擔任主角？'], ['誰在電影偽造殺手中擔任主角？'], ['誰在偽造殺手中擔任主角？']], [['小說總統命令》中發出總統命令後的結果是什麼？'], ['總統命令中釋出的行政命令的後果是什麼？'], ['總統命令中發怖的行政命令的後果是什麼？'], ['總統命令中釋出行政命令的後果是什麼？']], [['水鳥》的主要演員有誰？'], ['電影水鳥中的主要演員是誰？']], [['馬奎斯的中篇小說沒有人寫信給上校》有多長？'], ['加布裡埃爾·加西亞·馬爾克斯的中篇小說沒有人寫信給上校的長度是多少？'], ['加布列·賈西亞·馬奎斯的中篇小說沒有人寫信給上校的篇幅是多少？']], [['遊客可以進入單身清真寺嗎？']], [['卡爾·格奧爾格·萊布雷希特的國籍是什麼？'], ['卡爾·格奧爾格·萊布雷希特是什麼國籍？']], [['阿爾及利亞的凱喬娃清真寺有開放讓不同信仰的遊客參觀嗎？'], ['所有宗教的遊客都可以進入阿爾及利亞的凱喬娃清真寺嗎？']], [['耳朵裡的跳蚤》的主題是什麼？'], ['耳朵裡的跳蚤的主題是什麼？']], [['L/R王室近衛隊的第一集是麼時候播出？'], ['L/R王室近衛隊的第一集是什麼時候播出的？']], [['小提琴不再演奏了》的劇本是誰寫的？'], ['誰為電影小提琴不再演奏了撰寫了劇本？'], ['誰為電影小提琴不再演奏了》撰寫劇本？']], [['驅逐阿雷佐城的魔鬼》的畫家是誰？'], ['名為驅逐阿雷佐城的魔鬼這幅畫的背後的藝術家是誰？'], ['名為驅逐阿雷佐城的魔鬼》這幅畫背後的藝術家是誰？']], [['Baby', 'Sitter》可以在哪裡觀看？'], ['我在哪裡可以觀看Baby', 'Sitter電視劇的劇集？'], ['我在哪裡可以觀看電視劇Baby', 'Sitter？']], [['賈敬的個性或特色是什麼？'], ['賈敬的性格特徵是什麼？']], [], [['你能簡要描述一下電影光與陰影嗎？']], [['電視劇珀西公園守護者》的創作者是誰？'], ['誰創作了電視劇公園管理員珀西？'], ['誰創作了電視劇珀西公園守護者？']], [['哪裡可以看到舞台劇回家》的演出？'], ['你通常在哪裡可以找到播放回家的製作的劇院？'], ['你通常在哪裡可以找到回鄉戲劇作品？'], ['你通常在哪裡可以找到戲劇作品回鄉？']], [['聖歐蒂米奧救世主修道院是哪個教派的？'], ['哪個宗教教派與聖歐蒂米奧救世主修道院有關？'], ['聖歐蒂米奧救世主修道院與哪個宗教派別有關？']], [['家有汪星人》的首播時間是什麼時候？'], ['電視劇家有汪星人是什麼時候首次播出的？']], [['Come', 'viene', 'ricordato', 'e', 'onorato', 'attualmente', 'Yu', 'il', 'Grande', 'nella', 'storia', 'e', 'nella', 'cultura', 'cinese?'], ['Come', 'viene', 'ricordato', 'e', 'onorato', 'Yu', 'il', 'Grande', 'nella', 'storia', 'e', 'nella', 'cultura', 'cinese', 'oggi?']], [['Di', 'che', 'materiale', 'è', 'fatta', 'la', 'collina', 'delle', 'Grotte', 'di', 'Batu?'], ['Di', 'che', 'materiale', 'sono', 'fatte', 'le', 'grotte', 'di', 'Batu?'], ['Di', 'che', 'tipo', 'di', 'collina', 'sono', 'fatte', 'le', 'grotte', 'di', 'Batu?']], [['Chi', 'sono', 'le', 'principali', 'forze', 'antagoniste', 'nel', 'mondo', 'delle', 'Cronache', 'del', 'ghiaccio', 'e', 'del', 'fuoco?']], [['Qual', 'è', 'il', 'tema', 'principale', 'di', 'Il', 'leone', \"d'inverno?\"]], [['Chi', 'è', \"l'autore\", 'del', 'romanzo', 'di', 'fantascienza-thriller', 'intitolato', 'Inverso?']], [['Quanto', 'è', 'alta', 'la', 'cattedrale', 'di', 'Santa', 'Sofia', 'a', 'Kiev?'], ['Quanto', 'è', 'alta', 'la', 'cattedrale', 'di', 'Santa', 'Sofia', 'di', 'Kiev?']], [['Qual', 'è', \"l'ambientazione\", 'della', 'serie', 'TV', 'Il', 'colore', 'delle', 'magnolie?']], [['Ci', 'sono', 'potenziali', 'rischi', 'di', 'allergia', 'associati', 'al', 'consumo', 'di', 'albumi?']], [['chi', 'è', 'il', 'protagonista', 'del', 'film', 'La', 'regina', 'dei', 'dannati?'], ['Chi', 'interpreta', 'il', 'ruolo', 'principale', 'in', 'La', 'regina', 'dei', 'dannati?'], ['Chi', 'interpreta', 'il', 'ruolo', 'principale', 'nel', 'film', 'la', 'regina', 'dei', 'dannati?']], [['Quale', 'compositore', 'ha', 'composto', 'la', 'Sinfonia', 'n.', '9?'], ['Quale', 'compositore', 'ha', 'composto', 'Sinfonia', 'n.', '9?'], ['Chi', 'ha', 'composto', 'Sinfonia', 'n.', '9?']], [['Chi', 'ha', 'progettato', 'la', 'Torre', 'di', 'Tokyo?']], [['Quanto', 'è', 'alta', 'la', 'torre', 'di', 'Ostankino', 'a', 'Mosca?']], [['Puoi', 'cantare', 'il', 'ritornello', 'della', 'canzone', 'popolare', 'Girotondo?'], ['Sai', 'cantare', 'il', 'ritornello', 'del', 'girotondo,', 'la', 'canzone', 'popolare?']], [['Chi', 'ha', 'coreografato', 'il', 'balletto', 'originale', 'del', '1910', 'di', \"L'uccello\", 'di', 'fuoco?'], ['Chi', 'ha', 'coreografato', 'il', 'balletto', 'originale', 'del', '1910', \"L'uccello\", 'di', 'fuoco?'], ['Di', 'chi', 'era', 'la', 'coreografia', 'originale', 'del', '1910', 'del', 'balletto', \"L'uccello\", 'di', 'fuoco?']], [['Nomina', 'una', 'scena', 'famosa', 'dalla', 'tragica', 'storia', 'del', 'Dottor', 'Faust?'], ['Nomina', 'una', 'scena', 'famosa', 'da', 'La', 'tragica', 'storia', 'del', 'Dottor', 'Faust?']], [['Per', 'quanto', 'tempo', 'Maria', 'di', 'Borgogna', 'è', 'stata', 'sposata', 'con', \"l'imperatore\", 'Massimiliano', 'I?'], ['Per', 'quanto', 'tempo', 'Maria', 'di', 'Borgogna', 'è', 'stata', 'sposata', 'con', \"l'imperatore\", 'Massimiliano', 'I']], [['In', 'quale', 'settore', 'lavora', 'Seishirō', 'Katō?'], ['In', 'quale', 'settore', 'lavora', 'Seishiro', 'Kato?']], [['Che', 'benefici', 'porta', \"l'olio\", 'di', 'neem', 'al', 'corpo', 'quando', 'viene', 'consumato?'], ['In', 'che', 'modo', \"l'olio\", 'di', 'neem', 'apporta', 'benefici', 'al', 'corpo', 'quando', 'viene', 'consumato?'], ['In', 'che', 'modo', \"l'\", 'olio', 'di', 'neem', 'beneficia', 'al', 'corpo', 'quando', 'viene', 'consumato?']], [['Quando', 'è', 'stato', 'trasmesso', 'il', 'primo', 'episodio', 'di', 'Harley', 'in', 'mezzo?']], [['Qual', 'è', 'il', 'simbolo', \"dell'Impero\", 'Galattico', \"nell'universo\", 'di', 'Star', 'Wars?'], ['Qual', 'è', 'il', 'simbolo', \"dell'Impero\", 'Galattico', \"nell'universo\", 'di', 'Guerre', 'stellari?']], [['هل', 'يمكن', 'استخدام', 'الشوفان', 'المطحون', 'في', 'الخبيز'], ['هل', 'يمكن', 'استخدام', 'الشوفان', 'المطحون', 'في', 'الخبز؟']], [['من', 'سيخرج', 'الفيلم', 'القادم:', 'مباريات', 'الجوع:', 'أغنية', 'الطيور', 'المغردة', 'والثعابين'], ['من', 'سيخرج', 'الفيلم', 'القادم', 'مباريات', 'الجوع:', 'أغنية', 'الطيور', 'المغردة', 'والثعابين؟']], [['ما', 'هي', 'النصوص', 'الدينية', 'التي', 'تذكر', 'المسجد', 'الإبراهيمي'], ['ما', 'هي', 'النصوص', 'الدينية', 'التي', 'تذكر', 'المسجد', 'الإبراهيمي؟']], [['كم', 'عدد', 'مواسم', 'هوجانز', 'هيروز', 'التي', 'تم', 'إنتاجها؟']], [['متى', 'تم', 'بث', 'مسلسل', 'سلم', 'إلى', 'الجنة', 'لأول', 'مرة', 'على', 'شاشة', 'التلفزيون؟'], ['متى', 'تم', 'بث', 'سلم', 'إلى', 'الجنة', 'لأول', 'مرة', 'على', 'التلفزيون؟'], ['متى', 'تم', 'بث', 'سلم', 'إلى', 'الجنة', 'لأول', 'مرة', 'على', 'شاشة', 'التلفزيون؟']], [['كم', 'عدد', 'فصول', 'كتاب', 'الموتى؟'], ['كم', 'عدد', 'الفصول', 'في', 'كتاب', 'الموتى؟']], [['ما', 'هو', 'نوع', 'حرب', 'العوالم؟'], ['ما', 'هو', 'النوع', 'الأدبي', 'لحرب', 'العوالم؟'], ['ما', 'هو', 'نوع', 'رواية', 'حرب', 'العوالم؟']], [['ما', 'هي', 'فرضية', 'المسلسل', 'التلفزيوني', 'فاملي', 'ماتتيرس؟']], [['(من', 'ألف', 'مسيرة', 'المتطوعين؟(العمل', 'الموسيقي'], ['من', 'الذي', 'لحن', 'مسيرة', 'المتطوعين؟']], [['كم', 'عدد', 'الأشخاص', 'الذين', 'يمكن', 'أن', 'يستوعبهم', 'المسجد', 'النبوي؟']], [['من', 'هم', 'الممثلون', 'الرئيسيون', 'في', 'فيلم', 'معجزة', 'في', 'الزنزانة', '7؟'], ['من', 'هم', 'الممثلون', 'الرئيسيون', 'في', 'فيلم', 'معجزة', 'في', 'الزنزانة', '7']], [['من', 'هم', 'الممثلون', 'الرئيسيون', 'في', 'أفضل', 'ما', 'يمكن', 'حصوله؟'], ['من', 'هم', 'الممثلون', 'الرئيسيون', 'في', 'فيلم', 'أفضل', 'ما', 'يمكن', 'حصوله؟']], [], [['ما', 'هو', 'الاعداد', 'للمسلسل', 'التلفزيوني', 'كبرياء', 'وتحامل؟'], ['ما', 'هو', 'إعداد', 'المسلسل', 'التلفزيوني', 'كبرياء', 'وتحامل؟']], [['هل', 'يمكن', 'استخدام', 'خميرة', 'الخباز', 'في', 'الخبز', 'الخالي', 'من', 'الغلوتين؟']], [['متى', 'تم', 'تأدية', 'السيمفونية', 'الخامسة', 'لأول', 'مرة؟'], ['متى', 'تم', 'تنفيذ', 'السيمفونية', 'الخامسة', 'لأول', 'مرة؟']], [['هل', 'يمكنك', 'تقديم', 'ملخص', 'موجز', 'لفيلم', 'قناع', 'زورو؟']], [['ما', 'نوع', 'المحطة', 'الفضائية', 'نجم', 'الموت', 'في', 'حرب', 'النجوم؟']], [['هل', 'يمكنك', 'تقديم', 'وصف', 'موجز', 'للنسب', 'الملكي', 'لفوزية', 'بنت', 'فؤاد', 'الأول؟'], ['هل', 'يمكنك', 'تقديم', 'وصف', 'موجز', 'للسلسل', 'الملكي', 'لفوزية', 'بنت', 'فؤاد', 'الأول؟'], ['هل', 'يمكنك', 'تقديم', 'وصف', 'موجز', 'لسلالة', 'الملكية', 'لفوزيه', 'بنت', 'فؤاد', 'الأول', '؟']], [['ما', 'هي', 'مسؤوليات', 'أناتولي', 'دياتلوف', 'كنائب', 'كبير', 'المهندسين', 'في', 'محطة', 'تشيرنوبيل', 'للطاقة', 'النووية؟']], [['ใครคือเจ้าหญิงเซซีลีแห่งกรีซและเดนมาร์ก'], ['ใครคือเจ้าหญิงเซซีลีแห่งกรีซและเดนมาร์ก?']], [['สัญลักษณ์ของเสรีภาพของมนุษย์ในลัทธิซาตานลาวีคืออะไร?'], ['สัญลักษณ์ของเสรีภาพของมนุษย์ในศาสนาสมมติของลัทธิซาตานลาวีคืออะไร'], ['สัญลักษณ์ของเสรีภาพของมนุษย์ในศาสนาสมมติขอลัทธิซาตานลาวีงคืออะไร?']], [['ใครคือตัวละครหลักในเรื่องพยัคฆ์เหนือพยัคฆ์'], ['ใครคือตัวละครหลักในพยัคฆ์เหนือพยัคฆ์'], ['ใครคือตัวละครหลักในพยัคฆ์เหนือพยัคฆ์?']], [['เหตุการณ์สําคัญทางประวัติศาสตร์ใดบ้างที่เกิดขึ้นที่เนินพระวิหาร']], [['คุณจะทราบได้อย่างไรว่าไข่แดงสดหรือไม่'], ['คุณจะทราบได้อย่างไรว่าไข่แดงสดหรือไม่?']], [['อะไรที่ทำให้วาซีลี', 'บลูย์เคียร์เป็นที่รู้จักมากที่สุดในการรับราชการทหารของเขา'], ['ในการรับราชการทหารขอวาซีลี', 'บลูย์เคียร์', 'เขาเป็นที่รู้จักมากที่สุดในเรื่องอะไร?']], [['เสียงเรียกของคธูลูจัดอยู่ในประเภทใด'], ['ประเภทของเสียงเรียกของคธูลูคืออะไร?']], [['เมล็ดทานตะวันใช้เวลานานแค่ไหนในการเจริญเติบโตเป็นดอกทานตะวันที่โตเต็มที่?'], ['ต้องใช้เวลานานแค่ไหนกว่าที่เมล็ดทานตะวันจะเติบโตเป็นดอกทานตะวันโตเต็มวัย?']], [['คุณสามารถบอกชื่อจุดหมายปลายทางที่น่าจดจําในนวนิยายเรื่อง', '80', 'วันรอบโลกได้ไหม?'], ['ตั้งชื่อจุดหมายปลายทางที่น่าจดจําในนวนิยาย', 'เรื่อง', '80', 'วันรอบโลก'], ['คุณช่วยบอกชื่อสถานที่ท่องเที่ยวที่น่าจดจำในนวนิยายเรื่อง80', 'วันรอบโลกได้ไหม?']], [['อาสนวิหารนักบุญโซเฟียในเคียฟสูงแค่ไหน?']], [['ใครคือตัวละครหลักในโปเกม่อน', 'ฮอไรซันส์?'], ['ใครคือตัวละครหลักในโปเกมอนภาคการผจญภัยของลิโกะกับรอย'], ['ใครคือตัวละครหลักในโปเกมอน', 'ฮอไรซันส์?']], [['ใครเป็นผู้กำกับภาพยนตร์เรื่องเดอะฮังเกอร์เกมส์:', 'เดอะแบลเลิดออฟซองเบิร์ดสแอนด์สเนกส์', 'ที่กำลังจะเข้าฉายในโรงหนัง'], ['ใครเป็นคนกํากับภาพยนตร์เรื่องเดอะฮังเกอร์เกมส์:', 'เดอะแบลเลิดออฟซองเบิร์ดสแอนด์สเนกส์', 'ที่กําลังจะมาถึง?'], ['ใครคือผู้กำกับภาพยนตร์เรื่องเดอะฮังเกอร์เกมส์:', 'เดอะแบลเลิดออฟซองเบิร์ดสแอนด์สเนกส์']], [['ไวต์ช็อกโกแลตสามารถใช้ในการอบและของหวานได้หรือไม่?'], ['ไวต์ช็อกโกแลตสามารถใช้ในการทำขนมและเป็นขนมหวานได้หรือไม่']], [['ถ้ำบาตูทำจากเนินเขาประเภทใด'], ['ถ้ำบาตูคือเนินเขาแบบไหน?'], ['ถ้ำบาตู', 'ทําจากเนินเขาแบบไหน?']], [['ความสําคัญของสุสานจิ๋นซีฮ่องเต้คืออะไร?'], ['ความสําคัญของสุสานจิ๋นซีฮ่องเต้คือ?']], [['งานนิทรรศการภาพวาดเขียนขึ้นเพื่อเครื่องดนตรีอะไร?'], ['ชุดงานนิทรรศการภาพวาดเขียนขึ้นเพื่อเครื่องดนตรีอะไร?'], ['งานนิทรรศการภาพวาด', 'ถูกเขียนขึ้นเพื่อเครื่องดนตรีอะไร']], [['กฎหมายแซลิกถูกบังคับใช้ในสมัยใคร?'], ['ใครบังคับใช้กฎหมายแซลิก?'], ['ใครคือผู้บังคับใช้ภายใต้กฎหมายแซลิก']], [['มนุษย์ล่องหนเป็นประเภทไหน?']], [['ซิมโฟนีหมายเลข', '5', 'แสดงครั้งแรกเมื่อใด'], ['ซิมโฟนีหมายเลข', '5แสดงครั้งแรกเมื่อใด']], [['ใครคือนักแสดงหลักในเพียงเธอ..รักนี้ดีสุดแล้ว?'], ['ใครคือนักแสดงหลักในหนังเรื่องเพียงเธอ', 'รักนี้ดีสุดแล้ว'], ['ใครคือนักแสดงหลักในเพียงเธอ..รักนี้ดีสุดแล้ว']], [['Wie', 'groß', 'ist', 'die', 'Sophienkathedrale', 'in', 'Kiew?']], [['Wie', 'lange', 'war', 'Maria', 'von', 'Burgund', 'mit', 'Kaiser', 'Maximilian', 'I.', 'verheiratet?']], [['Was', 'ist', 'das', 'Genre', 'von', 'Der', 'Krieg', 'der', 'Welten?'], ['Welches', 'Genre', 'hat', 'Der', 'Krieg', 'der', 'Welten?']], [['Woher', 'kommt', 'Wiktor', 'Juschtschenko?']], [['Was', 'war', 'der', 'ursprüngliche', 'Zweck', 'der', 'Christ-Erlöser-Kathedrale?']], [['Was', 'ist', 'das', 'Genre', 'des', 'Films', 'Eine', 'Stadt', 'der', 'Traurigkeit?'], ['Was', 'ist', 'das', 'Genre', 'von', 'Eine', 'Stadt', 'der', 'Traurigkeit?']], [['Wie', 'können', 'Winterzwiebeln', 'im', 'heimischen', 'Garten', 'angebaut', 'und', 'geerntet', 'werden?'], ['Wie', 'können', 'Winterzwiebel', 'in', 'Hausgärten', 'angebaut', 'und', 'geerntet', 'werden?']], [['Was', 'für', 'ein', 'Wesen', 'ist', 'die', 'Galaktische', 'Republik?'], ['Welche', 'Art', 'von', 'Einheit', 'ist', 'die', 'Galaktische', 'Republik?'], ['Was', 'für', 'ein', 'Gebilde', 'ist', 'die', 'Galaktische', 'Republik?']], [['Kann', 'Backhefe', 'beim', 'glutenfreien', 'Backen', 'verwendet', 'werden?'], ['Kann', 'Backhefe', 'zum', 'glutenfreien', 'Backen', 'verwendet', 'werden?']], [['Wie', 'kommt', 'Niemöl', 'dem', 'Körper', 'zugute,', 'wenn', 'es', 'konsumiert', 'wird?'], ['Welchen', 'Nutzen', 'hat', 'Niemöl', 'beim', 'Verzehr', 'für', 'den', 'Körper?'], ['Wie', 'tut', 'Niemöl', 'dem', 'Körper', 'gut,', 'wenn', 'es', 'konsumiert', 'wird?']], [['Welche', 'Art', 'von', 'Kunstwerk', 'ist', 'Träumen', 'Androiden', 'von', 'elektrischen', 'Schafen??'], ['Welche', 'Art', 'von', 'Kunstwerk', 'ist', 'Träumen', 'Androiden', 'von', 'elektrischen', 'Schafen?'], ['Welche', 'Art', 'von', 'künstlerischen', 'Stils', 'ist', 'Träumen', 'Androiden', 'von', 'elektrischen', 'Schafen', 'gemacht?']], [['Wer', 'sind', 'die', 'wichtigsten', 'antagonistischen', 'Kräfte', 'in', 'der', 'Welt', 'von', 'Eis', 'und', 'Feuer?']], [['Welche', 'Bedeutung', 'hat', 'die', 'Basilika', 'Unserer', 'Lieben', 'Frau', 'von', 'Guadalupe', 'in', 'der', 'mexikanischen', 'Kultur?']], [['Kann', 'Schrödingers', 'Katze', 'gleichzeitig', 'lebend', 'und', 'tot', 'existieren?'], ['Kann', 'Schrödingers', 'Katze', 'gleichzeitig', 'lebendig', 'und', 'tot', 'sein?']], [['Was', 'ist', 'das', 'Symbol', 'des', 'Galaktischen', 'Imperiums', 'im', 'Star', 'Wars-Universum?'], ['Was', 'ist', 'das', 'Symbol', 'des', 'Galaktischen', 'Imperium', 'im', 'Star', 'Wars-Universum?']], [['Wie', 'heißen', 'die', 'Hauptkomponisten', 'der', 'Musik', 'des', 'Mittelalters?'], ['Wer', 'waren', 'die', 'Hauptkomponisten', 'der', 'Musik', 'des', 'Mittelalters?']], [['Wer', 'war', 'Großfürst', 'Sergei', 'Alexandrowitsch', 'von', 'Russland?'], ['Wer', 'war', 'Sergei', 'Alexandrowitsch', 'Romanow?']], [['Wer', 'spielte', 'die', 'Titelfigur', 'im', 'Film', 'Der', 'Mann', 'in', 'der', 'eisernen', 'Maske?'], ['Wer', 'spielte', 'die', 'Titelfigur', 'in', 'Der', 'Mann', 'mit', 'der', 'eisernen', 'Maske?']], [['In', 'welcher', 'Branche', 'arbeitet', 'Seishirō', 'Katō?'], ['In', 'welcher', 'Branche', 'ist', 'Seishiro', 'Kato', 'tätig?'], ['In', 'welcher', 'Branche', 'arbeitet', 'Seishiro', 'Kato?']], [['Welcher', 'Konfession', 'gehört', 'das', 'Katharinenkloster', 'an?'], ['Welcher', 'religiösen', 'Konfession', 'ist', 'das', 'Katharinenkloster', 'assoziiert?'], ['Mit', 'welcher', 'religiösen', 'Konfession', 'ist', 'das', 'Katharinenkloster', 'verbunden?']]]\n"
     ]
    },
    {
     "name": "stderr",
     "output_type": "stream",
     "text": [
      "/usr/local/lib/python3.11/site-packages/nltk/translate/bleu_score.py:552: UserWarning: \n",
      "The hypothesis contains 0 counts of 3-gram overlaps.\n",
      "Therefore the BLEU score evaluates to 0, independently of\n",
      "how many N-gram overlaps of lower order it contains.\n",
      "Consider using lower n-gram order or use SmoothingFunction()\n",
      "  warnings.warn(_msg)\n",
      "/usr/local/lib/python3.11/site-packages/nltk/translate/bleu_score.py:552: UserWarning: \n",
      "The hypothesis contains 0 counts of 4-gram overlaps.\n",
      "Therefore the BLEU score evaluates to 0, independently of\n",
      "how many N-gram overlaps of lower order it contains.\n",
      "Consider using lower n-gram order or use SmoothingFunction()\n",
      "  warnings.warn(_msg)\n",
      "/usr/local/lib/python3.11/site-packages/nltk/translate/bleu_score.py:552: UserWarning: \n",
      "The hypothesis contains 0 counts of 2-gram overlaps.\n",
      "Therefore the BLEU score evaluates to 0, independently of\n",
      "how many N-gram overlaps of lower order it contains.\n",
      "Consider using lower n-gram order or use SmoothingFunction()\n",
      "  warnings.warn(_msg)\n"
     ]
    }
   ],
   "source": [
    "for x in range(len(tgt_sents)):\n",
    "    tgt_sents[x] = re.sub(r'\"', \"\", tgt_sents[x])\n",
    "    \n",
    "sentence_scores= calculate_bleu(tgt_sents, gold_sents,[])\n",
    "# for x in range(len(tgt_sents)):\n",
    "#     print(f\"Gold: {gold_sents[x]}\\nTranslation: {tgt_sents[x]}\\nBLEU: {sentence_scores[x]}\\n\")"
   ],
   "metadata": {
    "collapsed": false,
    "ExecuteTime": {
     "end_time": "2024-09-24T00:15:23.770687Z",
     "start_time": "2024-09-24T00:15:23.737849Z"
    }
   },
   "id": "initial_id"
  },
  {
   "cell_type": "code",
   "execution_count": 40,
   "outputs": [
    {
     "name": "stdout",
     "output_type": "stream",
     "text": [
      "0.6687\n",
      "1.0\n",
      "0.0\n",
      "0.6606\n",
      "0.6687\n",
      "0.0\n",
      "1.0\n",
      "1.0\n",
      "0.0\n",
      "0.3646\n",
      "0.0\n",
      "1.0\n",
      "0.0\n",
      "0.0\n",
      "0.0\n",
      "1.0\n",
      "0.0\n",
      "0.0\n",
      "0.4111\n",
      "0.8409\n",
      "1.0\n",
      "0.0\n",
      "0.3389\n",
      "0.5784\n",
      "1.0\n",
      "0.4035\n",
      "0.4111\n",
      "0.4692\n",
      "0.0\n",
      "0.4759\n",
      "1.0\n",
      "1.0\n",
      "0.4617\n",
      "1.0\n",
      "0.3868\n",
      "0.367\n",
      "1.0\n",
      "0.7339\n",
      "0.4936\n",
      "1.0\n",
      "1.0\n",
      "1.0\n",
      "0.0\n",
      "0.3994\n",
      "0.7964\n",
      "0.4692\n",
      "0.2824\n",
      "0.3176\n",
      "0.4878\n",
      "0.7964\n",
      "0.5254\n",
      "0.7726\n",
      "0.8155\n",
      "0.7964\n",
      "0.5827\n",
      "0.5484\n",
      "0.0\n",
      "0.6432\n",
      "0.0\n",
      "0.0\n",
      "0.0\n",
      "0.0\n",
      "0.0\n",
      "0.0\n",
      "0.0\n",
      "0.0\n",
      "0.0\n",
      "0.0\n",
      "0.0\n",
      "0.0\n",
      "0.0\n",
      "0.0\n",
      "0.0\n",
      "0.0\n",
      "0.0\n",
      "0.0\n",
      "0.0\n",
      "0.0\n",
      "0.0\n",
      "0.0\n",
      "0.0\n",
      "0.6732\n",
      "0.0\n",
      "1.0\n",
      "0.0\n",
      "0.0\n",
      "0.0\n",
      "None\n",
      "0.4111\n",
      "0.7673\n",
      "0.0\n",
      "0.0\n",
      "0.0\n",
      "0.0\n",
      "0.5969\n",
      "0.0\n",
      "0.5373\n",
      "0.0\n",
      "0.7598\n",
      "0.0\n",
      "0.0\n",
      "0.0\n",
      "0.0\n",
      "0.0\n",
      "0.0\n",
      "0.0\n",
      "0.0\n",
      "0.0\n",
      "0.0\n",
      "0.0\n",
      "0.0\n",
      "0.0\n",
      "0.0\n",
      "0.0\n",
      "None\n",
      "0.0\n",
      "0.0\n",
      "0.0\n",
      "0.0\n",
      "0.0\n",
      "0.5703\n",
      "0.4692\n",
      "0.5828\n",
      "1.0\n",
      "0.529\n",
      "0.5814\n",
      "1.0\n",
      "0.6787\n",
      "1.0\n",
      "1.0\n",
      "0.4111\n",
      "0.3549\n",
      "0.4127\n",
      "1.0\n",
      "0.49\n",
      "0.4704\n",
      "1.0\n",
      "0.2892\n",
      "0.2418\n",
      "0.5954\n",
      "0.0\n",
      "0.3247\n",
      "1.0\n",
      "1.0\n",
      "0.7419\n",
      "1.0\n",
      "1.0\n",
      "0.4889\n",
      "0.0\n",
      "1.0\n",
      "0.658\n",
      "1.0\n",
      "None\n",
      "1.0\n",
      "0.8801\n",
      "0.4889\n",
      "0.5946\n",
      "0.5133\n",
      "0.4692\n",
      "1.0\n",
      "0.0\n",
      "0.0\n",
      "0.0\n",
      "0.0\n",
      "0.0\n",
      "0.0\n",
      "0.0\n",
      "0.0\n",
      "0.0\n",
      "0.0\n",
      "0.0\n",
      "0.0\n",
      "0.0\n",
      "0.0\n",
      "0.0\n",
      "0.0\n",
      "0.0\n",
      "0.0\n",
      "0.0\n",
      "0.0\n",
      "0.0\n",
      "1.0\n",
      "0.5969\n",
      "1.0\n",
      "0.6435\n",
      "0.5969\n",
      "0.5254\n",
      "0.0\n",
      "1.0\n",
      "0.0\n",
      "1.0\n",
      "0.3806\n",
      "0.7825\n",
      "0.263\n",
      "0.5254\n",
      "0.5\n",
      "0.4483\n",
      "0.7349\n",
      "1.0\n",
      "0.0\n"
     ]
    }
   ],
   "source": [
    "for x in range(len(sentence_scores)):\n",
    "    if type(sentence_scores[x]) == list:\n",
    "        sentence_scores[x] = [float(f\"{y:.4f}\") for y in sentence_scores[x]]\n",
    "    elif sentence_scores[x] != None:\n",
    "        sentence_scores[x] = float(f\"{sentence_scores[x]:.4f}\")\n",
    "\n",
    "    print(sentence_scores[x])"
   ],
   "metadata": {
    "collapsed": false,
    "ExecuteTime": {
     "end_time": "2024-09-24T00:05:10.896399Z",
     "start_time": "2024-09-24T00:05:10.875480Z"
    }
   },
   "id": "7a93c3fd26a81bb9"
  },
  {
   "cell_type": "code",
   "execution_count": 41,
   "outputs": [],
   "source": [
    "df[\"BN BLEU\"] = sentence_scores\n",
    "df.to_csv(RAW_SENTENCE_TSV,sep='\\t',index=False)"
   ],
   "metadata": {
    "collapsed": false,
    "ExecuteTime": {
     "end_time": "2024-09-24T00:05:13.788392Z",
     "start_time": "2024-09-24T00:05:13.754869Z"
    }
   },
   "id": "57d920c0a407e356"
  },
  {
   "cell_type": "code",
   "execution_count": null,
   "outputs": [],
   "source": [],
   "metadata": {
    "collapsed": false
   },
   "id": "c3c90f948ab31c24"
  }
 ],
 "metadata": {
  "kernelspec": {
   "display_name": "Python 3",
   "language": "python",
   "name": "python3"
  },
  "language_info": {
   "codemirror_mode": {
    "name": "ipython",
    "version": 2
   },
   "file_extension": ".py",
   "mimetype": "text/x-python",
   "name": "python",
   "nbconvert_exporter": "python",
   "pygments_lexer": "ipython2",
   "version": "2.7.6"
  }
 },
 "nbformat": 4,
 "nbformat_minor": 5
}
