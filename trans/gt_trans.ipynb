{
 "cells": [
  {
   "cell_type": "code",
   "execution_count": null,
   "id": "initial_id",
   "metadata": {
    "ExecuteTime": {
     "end_time": "2024-09-19T21:34:51.683014Z",
     "start_time": "2024-09-19T21:34:40.116644Z"
    },
    "collapsed": true
   },
   "outputs": [],
   "source": [
    "!pip install google.cloud.translate"
   ]
  },
  {
   "cell_type": "code",
   "execution_count": null,
   "id": "80c6c189866e3a19",
   "metadata": {
    "ExecuteTime": {
     "end_time": "2024-09-19T21:35:57.206135Z",
     "start_time": "2024-09-19T21:35:26.818661Z"
    },
    "collapsed": false
   },
   "outputs": [],
   "source": [
    "import os\n",
    "# public\n",
    "import pandas as pd\n",
    "from tqdm import tqdm\n",
    "from google.cloud import translate_v2 as translate"
   ]
  },
  {
   "cell_type": "code",
   "execution_count": null,
   "id": "919ad264843fbff1",
   "metadata": {
    "ExecuteTime": {
     "end_time": "2024-09-19T22:07:59.767555Z",
     "start_time": "2024-09-19T22:07:59.760921Z"
    },
    "collapsed": false
   },
   "outputs": [],
   "source": [
    "# a method that calls the cloud translator\n",
    "def translate_text(source: str, target: str, text: str) -> dict:\n",
    "    \"\"\"\n",
    "    Translates text into the target language.\n",
    "    Target must be an ISO 639-1 language code.\n",
    "    See https://g.co/cloud/translate/v2/translate-reference#supported_languages\n",
    "    \"\"\"\n",
    "\n",
    "    translate_client = translate.Client()\n",
    "\n",
    "    if isinstance(text, bytes):\n",
    "        text = text.decode(\"utf-8\")\n",
    "\n",
    "    # Text can also be a sequence of strings, in which case this method\n",
    "    # will return a sequence of results for each text.\n",
    "    result = translate_client.translate(\n",
    "        text\n",
    "        , source_language=source\n",
    "        , target_language=target\n",
    "    )\n",
    "    return result\n",
    "\n",
    "def process_nan(s):\n",
    "  if type(s)!=type(''):\n",
    "    return ''\n",
    "  return s"
   ]
  },
  {
   "cell_type": "code",
   "execution_count": null,
   "id": "7476e6353c29e16c",
   "metadata": {
    "ExecuteTime": {
     "end_time": "2024-09-19T22:07:13.476975Z",
     "start_time": "2024-09-19T22:07:13.462712Z"
    },
    "collapsed": false
   },
   "outputs": [],
   "source": [
    "src_lan = 'en'\n",
    "# target language\n",
    "tgt_lan = 'es'\n",
    "language = \"Spanish\"\n",
    "\n",
    "\n",
    "RESOURCE = ''\n",
    "DATA =  RESOURCE+'/data/'+language\n",
    "GOLD_FILE = os.path.join(DATA, 'gold-sentences-'+language+'.tsv')\n",
    "TRANS_FILE = os.path.join(DATA, 'trans-sentences-'+language+'.tsv')\n",
    "\n",
    "# DATA = os.path.join(RESOURCE, 'data')\n",
    "DATA =  RESOURCE+'data'\n",
    "\n",
    "KEY = os.path.join(RESOURCE, 'key')\n",
    "# RAW_SENSE_TSV = os.path.join(DATA, 'gold-tokens-English-wSenses.tsv')\n",
    "# RAW_TOKENS_TSV =  os.path.join(DATA, 'gold-tokens-English-wSenses.tsv')\n",
    "RAW_SENTENCE_TSV = os.path.join(DATA, 'SemEval2025_EAMT_Samples.tsv')\n",
    "JSON_GOOGLE_APPLICATION_CREDENTIALS = os.path.join(KEY, 'leafy-winter-436121-s1-c359b02fd0ef.json')\n",
    "os.environ['GOOGLE_APPLICATION_CREDENTIALS'] = JSON_GOOGLE_APPLICATION_CREDENTIALS"
   ]
  },
  {
   "cell_type": "markdown",
   "id": "1a06defe255431c",
   "metadata": {
    "collapsed": false
   },
   "source": [
    "# DATA"
   ]
  },
  {
   "cell_type": "code",
   "execution_count": null,
   "id": "47021c77a038d739",
   "metadata": {
    "ExecuteTime": {
     "end_time": "2024-09-19T22:40:06.784513Z",
     "start_time": "2024-09-19T22:40:06.759491Z"
    },
    "collapsed": false
   },
   "outputs": [],
   "source": [
    "sentence_df = pd.read_csv(RAW_SENTENCE_TSV, delimiter='\\t')\n",
    "sentence_df.head()\n",
    "sents = sentence_df[\"source\"].tolist()\n",
    "print(sentence_df[\"target\"].tolist())\n",
    "targets = sentence_df[\"target_locale\"].tolist()\n",
    "sources = sentence_df[\"source_locale\"].tolist()\n",
    "langs = [ [sources[x],targets[x]] for x in range(len(sources))]\n",
    "print(langs)\n",
    "# sents"
   ]
  },
  {
   "cell_type": "code",
   "execution_count": null,
   "id": "71402ea706257025",
   "metadata": {
    "ExecuteTime": {
     "end_time": "2024-09-19T22:07:15.034942Z",
     "start_time": "2024-09-19T22:07:15.021763Z"
    },
    "collapsed": false
   },
   "outputs": [],
   "source": [
    "sids = sentence_df[\"id\"].tolist()\n",
    "# sids = [i.replace('d', 'i') for i in sids]\n",
    "sids[:4]"
   ]
  },
  {
   "cell_type": "code",
   "execution_count": null,
   "id": "b3861ba466e11ffc",
   "metadata": {
    "ExecuteTime": {
     "end_time": "2024-09-19T22:07:16.127301Z",
     "start_time": "2024-09-19T22:07:16.116559Z"
    },
    "collapsed": false
   },
   "outputs": [],
   "source": [
    "len(sids), len(sents)"
   ]
  },
  {
   "cell_type": "markdown",
   "id": "5503125cdea76173",
   "metadata": {
    "collapsed": false
   },
   "source": [
    "# TRANSLATE"
   ]
  },
  {
   "cell_type": "code",
   "execution_count": null,
   "id": "47d154e8c35949cf",
   "metadata": {
    "ExecuteTime": {
     "end_time": "2024-09-19T22:07:17.634129Z",
     "start_time": "2024-09-19T22:07:17.114979Z"
    },
    "collapsed": false
   },
   "outputs": [],
   "source": [
    "# get languages\n",
    "client = translate.Client()\n",
    "languages = client.get_languages()\n",
    "languages"
   ]
  },
  {
   "cell_type": "code",
   "execution_count": null,
   "id": "8ddc6eea0e2598b5",
   "metadata": {
    "ExecuteTime": {
     "end_time": "2024-09-19T22:07:46.404421Z",
     "start_time": "2024-09-19T22:07:46.400060Z"
    },
    "collapsed": false
   },
   "outputs": [],
   "source": [
    "src_lan, tgt_lan"
   ]
  },
  {
   "cell_type": "code",
   "execution_count": null,
   "id": "17a8de281822e43a",
   "metadata": {
    "ExecuteTime": {
     "end_time": "2024-09-19T22:11:09.975280Z",
     "start_time": "2024-09-19T22:11:09.565436Z"
    },
    "collapsed": false
   },
   "outputs": [],
   "source": [
    "# sample test\n",
    "sentence = sents[0]\n",
    "test = translate_text(langs[0][0], langs[0][1], sentence)\n",
    "test"
   ]
  },
  {
   "cell_type": "code",
   "execution_count": null,
   "id": "415a61a1c19a4aff",
   "metadata": {
    "ExecuteTime": {
     "end_time": "2024-09-19T22:13:27.107186Z",
     "start_time": "2024-09-19T22:12:14.121796Z"
    },
    "collapsed": false
   },
   "outputs": [],
   "source": [
    "# translating all the sentences from English to target language\n",
    "tgt_sents = []\n",
    "for s in tqdm(range(len(sents))):\n",
    "    tgt_s = translate_text(langs[s][0], langs[s][1], sents[s])\n",
    "    tgt_sents.append(tgt_s)"
   ]
  },
  {
   "cell_type": "code",
   "execution_count": null,
   "id": "6223944ae1eaa6b6",
   "metadata": {
    "ExecuteTime": {
     "end_time": "2024-09-19T22:13:31.635981Z",
     "start_time": "2024-09-19T22:13:31.624466Z"
    },
    "collapsed": false
   },
   "outputs": [],
   "source": [
    "print(tgt_sents)\n",
    "tgt_sents = [s['translatedText'] for s in tgt_sents]"
   ]
  },
  {
   "cell_type": "code",
   "execution_count": null,
   "id": "e0c0239ef97cce37",
   "metadata": {
    "ExecuteTime": {
     "end_time": "2024-09-19T22:17:11.867556Z",
     "start_time": "2024-09-19T22:17:11.851144Z"
    },
    "collapsed": false
   },
   "outputs": [],
   "source": [
    "# Save to TSV \n",
    "sentence_df[\"Cloud Translation\"] = tgt_sents\n",
    "sentence_df.head()"
   ]
  },
  {
   "cell_type": "code",
   "execution_count": null,
   "id": "985f57293a2b1111",
   "metadata": {
    "ExecuteTime": {
     "end_time": "2024-09-19T22:18:26.088023Z",
     "start_time": "2024-09-19T22:18:26.050884Z"
    },
    "collapsed": false
   },
   "outputs": [],
   "source": [
    "sentence_df.to_csv(RAW_SENTENCE_TSV,sep='\\t',index=False)"
   ]
  }
 ],
 "metadata": {
  "kernelspec": {
   "display_name": "Python 3",
   "language": "python",
   "name": "python3"
  },
  "language_info": {
   "codemirror_mode": {
    "name": "ipython",
    "version": 2
   },
   "file_extension": ".py",
   "mimetype": "text/x-python",
   "name": "python",
   "nbconvert_exporter": "python",
   "pygments_lexer": "ipython2",
   "version": "2.7.6"
  }
 },
 "nbformat": 4,
 "nbformat_minor": 5
}
